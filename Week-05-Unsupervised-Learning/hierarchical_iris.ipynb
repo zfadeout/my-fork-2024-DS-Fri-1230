{
 "cells": [
  {
   "cell_type": "code",
   "execution_count": 1,
   "id": "68f81be7-a9c8-4794-98d9-70e4de489d20",
   "metadata": {
    "tags": []
   },
   "outputs": [],
   "source": [
    "import seaborn as sns\n",
    "import pandas as pd\n",
    "import numpy as np\n",
    "import sklearn\n",
    "import sklearn.datasets\n",
    "from sklearn.metrics import accuracy_score\n",
    "import warnings\n",
    "sns.set()\n",
    "\n",
    "warnings.simplefilter(action=\"ignore\", category=FutureWarning)\n",
    "warnings.simplefilter(action=\"ignore\", category=DeprecationWarning)\n",
    "warnings.simplefilter(action=\"ignore\", category=UserWarning)"
   ]
  },
  {
   "cell_type": "markdown",
   "id": "136b5233-8467-4b8c-8aac-79c7c253fa20",
   "metadata": {},
   "source": [
    "# The Iris Dataset"
   ]
  },
  {
   "cell_type": "code",
   "execution_count": 6,
   "id": "72f8e938",
   "metadata": {},
   "outputs": [
    {
     "data": {
      "text/html": [
       "<div>\n",
       "<style scoped>\n",
       "    .dataframe tbody tr th:only-of-type {\n",
       "        vertical-align: middle;\n",
       "    }\n",
       "\n",
       "    .dataframe tbody tr th {\n",
       "        vertical-align: top;\n",
       "    }\n",
       "\n",
       "    .dataframe thead th {\n",
       "        text-align: right;\n",
       "    }\n",
       "</style>\n",
       "<table border=\"1\" class=\"dataframe\">\n",
       "  <thead>\n",
       "    <tr style=\"text-align: right;\">\n",
       "      <th></th>\n",
       "      <th>sepal_length</th>\n",
       "      <th>sepal_width</th>\n",
       "      <th>petal_length</th>\n",
       "      <th>petal_width</th>\n",
       "      <th>class</th>\n",
       "    </tr>\n",
       "  </thead>\n",
       "  <tbody>\n",
       "    <tr>\n",
       "      <th>0</th>\n",
       "      <td>5.1</td>\n",
       "      <td>3.5</td>\n",
       "      <td>1.4</td>\n",
       "      <td>0.2</td>\n",
       "      <td>Iris-setosa</td>\n",
       "    </tr>\n",
       "    <tr>\n",
       "      <th>1</th>\n",
       "      <td>4.9</td>\n",
       "      <td>3.0</td>\n",
       "      <td>1.4</td>\n",
       "      <td>0.2</td>\n",
       "      <td>Iris-setosa</td>\n",
       "    </tr>\n",
       "    <tr>\n",
       "      <th>2</th>\n",
       "      <td>4.7</td>\n",
       "      <td>3.2</td>\n",
       "      <td>1.3</td>\n",
       "      <td>0.2</td>\n",
       "      <td>Iris-setosa</td>\n",
       "    </tr>\n",
       "    <tr>\n",
       "      <th>3</th>\n",
       "      <td>4.6</td>\n",
       "      <td>3.1</td>\n",
       "      <td>1.5</td>\n",
       "      <td>0.2</td>\n",
       "      <td>Iris-setosa</td>\n",
       "    </tr>\n",
       "    <tr>\n",
       "      <th>4</th>\n",
       "      <td>5.0</td>\n",
       "      <td>3.6</td>\n",
       "      <td>1.4</td>\n",
       "      <td>0.2</td>\n",
       "      <td>Iris-setosa</td>\n",
       "    </tr>\n",
       "  </tbody>\n",
       "</table>\n",
       "</div>"
      ],
      "text/plain": [
       "   sepal_length  sepal_width  petal_length  petal_width        class\n",
       "0           5.1          3.5           1.4          0.2  Iris-setosa\n",
       "1           4.9          3.0           1.4          0.2  Iris-setosa\n",
       "2           4.7          3.2           1.3          0.2  Iris-setosa\n",
       "3           4.6          3.1           1.5          0.2  Iris-setosa\n",
       "4           5.0          3.6           1.4          0.2  Iris-setosa"
      ]
     },
     "execution_count": 6,
     "metadata": {},
     "output_type": "execute_result"
    }
   ],
   "source": [
    "df = pd.read_csv('data/iris.csv')\n",
    "df.head()"
   ]
  },
  {
   "cell_type": "markdown",
   "id": "3cbd55ae-cc81-423f-af8e-a04984dae777",
   "metadata": {},
   "source": [
    "## Hierarchical Clustering"
   ]
  },
  {
   "cell_type": "code",
   "execution_count": 7,
   "id": "55a02606-c3dd-4031-a188-34d58c12b942",
   "metadata": {
    "tags": []
   },
   "outputs": [],
   "source": [
    "from sklearn.cluster import AgglomerativeClustering"
   ]
  },
  {
   "cell_type": "code",
   "execution_count": 8,
   "id": "e68682c7",
   "metadata": {},
   "outputs": [
    {
     "data": {
      "text/html": [
       "<div>\n",
       "<style scoped>\n",
       "    .dataframe tbody tr th:only-of-type {\n",
       "        vertical-align: middle;\n",
       "    }\n",
       "\n",
       "    .dataframe tbody tr th {\n",
       "        vertical-align: top;\n",
       "    }\n",
       "\n",
       "    .dataframe thead th {\n",
       "        text-align: right;\n",
       "    }\n",
       "</style>\n",
       "<table border=\"1\" class=\"dataframe\">\n",
       "  <thead>\n",
       "    <tr style=\"text-align: right;\">\n",
       "      <th></th>\n",
       "      <th>sepal_length</th>\n",
       "      <th>sepal_width</th>\n",
       "      <th>petal_length</th>\n",
       "      <th>petal_width</th>\n",
       "      <th>class</th>\n",
       "    </tr>\n",
       "  </thead>\n",
       "  <tbody>\n",
       "    <tr>\n",
       "      <th>0</th>\n",
       "      <td>5.1</td>\n",
       "      <td>3.5</td>\n",
       "      <td>1.4</td>\n",
       "      <td>0.2</td>\n",
       "      <td>Iris-setosa</td>\n",
       "    </tr>\n",
       "    <tr>\n",
       "      <th>1</th>\n",
       "      <td>4.9</td>\n",
       "      <td>3.0</td>\n",
       "      <td>1.4</td>\n",
       "      <td>0.2</td>\n",
       "      <td>Iris-setosa</td>\n",
       "    </tr>\n",
       "    <tr>\n",
       "      <th>2</th>\n",
       "      <td>4.7</td>\n",
       "      <td>3.2</td>\n",
       "      <td>1.3</td>\n",
       "      <td>0.2</td>\n",
       "      <td>Iris-setosa</td>\n",
       "    </tr>\n",
       "    <tr>\n",
       "      <th>3</th>\n",
       "      <td>4.6</td>\n",
       "      <td>3.1</td>\n",
       "      <td>1.5</td>\n",
       "      <td>0.2</td>\n",
       "      <td>Iris-setosa</td>\n",
       "    </tr>\n",
       "    <tr>\n",
       "      <th>4</th>\n",
       "      <td>5.0</td>\n",
       "      <td>3.6</td>\n",
       "      <td>1.4</td>\n",
       "      <td>0.2</td>\n",
       "      <td>Iris-setosa</td>\n",
       "    </tr>\n",
       "  </tbody>\n",
       "</table>\n",
       "</div>"
      ],
      "text/plain": [
       "   sepal_length  sepal_width  petal_length  petal_width        class\n",
       "0           5.1          3.5           1.4          0.2  Iris-setosa\n",
       "1           4.9          3.0           1.4          0.2  Iris-setosa\n",
       "2           4.7          3.2           1.3          0.2  Iris-setosa\n",
       "3           4.6          3.1           1.5          0.2  Iris-setosa\n",
       "4           5.0          3.6           1.4          0.2  Iris-setosa"
      ]
     },
     "execution_count": 8,
     "metadata": {},
     "output_type": "execute_result"
    }
   ],
   "source": [
    "df.head()"
   ]
  },
  {
   "cell_type": "code",
   "execution_count": 9,
   "id": "9472ea89",
   "metadata": {},
   "outputs": [
    {
     "data": {
      "application/vnd.plotly.v1+json": {
       "config": {
        "plotlyServerURL": "https://plot.ly"
       },
       "data": [
        {
         "hoverinfo": "text",
         "marker": {
          "color": "rgb(61,153,112)"
         },
         "mode": "lines",
         "type": "scatter",
         "x": [
          0,
          0.818535277187245,
          0.818535277187245,
          0
         ],
         "xaxis": "x",
         "y": [
          -5,
          -5,
          -15,
          -15
         ],
         "yaxis": "y"
        },
        {
         "hoverinfo": "text",
         "marker": {
          "color": "rgb(255,65,54)"
         },
         "mode": "lines",
         "type": "scatter",
         "x": [
          0,
          0.43588989435406755,
          0.43588989435406755,
          0
         ],
         "xaxis": "x",
         "y": [
          -35,
          -35,
          -45,
          -45
         ],
         "yaxis": "y"
        },
        {
         "hoverinfo": "text",
         "marker": {
          "color": "rgb(255,65,54)"
         },
         "mode": "lines",
         "type": "scatter",
         "x": [
          0,
          0.5,
          0.5,
          0.43588989435406755
         ],
         "xaxis": "x",
         "y": [
          -25,
          -25,
          -40,
          -40
         ],
         "yaxis": "y"
        },
        {
         "hoverinfo": "text",
         "marker": {
          "color": "rgb(255,65,54)"
         },
         "mode": "lines",
         "type": "scatter",
         "x": [
          0,
          0.33166247903553997,
          0.33166247903553997,
          0
         ],
         "xaxis": "x",
         "y": [
          -65,
          -65,
          -75,
          -75
         ],
         "yaxis": "y"
        },
        {
         "hoverinfo": "text",
         "marker": {
          "color": "rgb(255,65,54)"
         },
         "mode": "lines",
         "type": "scatter",
         "x": [
          0,
          0.6324555320336764,
          0.6324555320336764,
          0.33166247903553997
         ],
         "xaxis": "x",
         "y": [
          -55,
          -55,
          -70,
          -70
         ],
         "yaxis": "y"
        },
        {
         "hoverinfo": "text",
         "marker": {
          "color": "rgb(255,65,54)"
         },
         "mode": "lines",
         "type": "scatter",
         "x": [
          0.5,
          0.8602325267042626,
          0.8602325267042626,
          0.6324555320336764
         ],
         "xaxis": "x",
         "y": [
          -32.5,
          -32.5,
          -62.5,
          -62.5
         ],
         "yaxis": "y"
        },
        {
         "hoverinfo": "text",
         "marker": {
          "color": "rgb(255,65,54)"
         },
         "mode": "lines",
         "type": "scatter",
         "x": [
          0,
          0.5099019513592784,
          0.5099019513592784,
          0
         ],
         "xaxis": "x",
         "y": [
          -85,
          -85,
          -95,
          -95
         ],
         "yaxis": "y"
        },
        {
         "hoverinfo": "text",
         "marker": {
          "color": "rgb(255,65,54)"
         },
         "mode": "lines",
         "type": "scatter",
         "x": [
          0,
          0.24494897427831822,
          0.24494897427831822,
          0
         ],
         "xaxis": "x",
         "y": [
          -115,
          -115,
          -125,
          -125
         ],
         "yaxis": "y"
        },
        {
         "hoverinfo": "text",
         "marker": {
          "color": "rgb(255,65,54)"
         },
         "mode": "lines",
         "type": "scatter",
         "x": [
          0,
          0.5477225575051662,
          0.5477225575051662,
          0.24494897427831822
         ],
         "xaxis": "x",
         "y": [
          -105,
          -105,
          -120,
          -120
         ],
         "yaxis": "y"
        },
        {
         "hoverinfo": "text",
         "marker": {
          "color": "rgb(255,65,54)"
         },
         "mode": "lines",
         "type": "scatter",
         "x": [
          0,
          0.3872983346207416,
          0.3872983346207416,
          0
         ],
         "xaxis": "x",
         "y": [
          -145,
          -145,
          -155,
          -155
         ],
         "yaxis": "y"
        },
        {
         "hoverinfo": "text",
         "marker": {
          "color": "rgb(255,65,54)"
         },
         "mode": "lines",
         "type": "scatter",
         "x": [
          0,
          0.6403124237432849,
          0.6403124237432849,
          0.3872983346207416
         ],
         "xaxis": "x",
         "y": [
          -135,
          -135,
          -150,
          -150
         ],
         "yaxis": "y"
        },
        {
         "hoverinfo": "text",
         "marker": {
          "color": "rgb(255,65,54)"
         },
         "mode": "lines",
         "type": "scatter",
         "x": [
          0.5477225575051662,
          1.1180339887498953,
          1.1180339887498953,
          0.6403124237432849
         ],
         "xaxis": "x",
         "y": [
          -112.5,
          -112.5,
          -142.5,
          -142.5
         ],
         "yaxis": "y"
        },
        {
         "hoverinfo": "text",
         "marker": {
          "color": "rgb(255,65,54)"
         },
         "mode": "lines",
         "type": "scatter",
         "x": [
          0.5099019513592784,
          1.4,
          1.4,
          1.1180339887498953
         ],
         "xaxis": "x",
         "y": [
          -90,
          -90,
          -127.5,
          -127.5
         ],
         "yaxis": "y"
        },
        {
         "hoverinfo": "text",
         "marker": {
          "color": "rgb(255,65,54)"
         },
         "mode": "lines",
         "type": "scatter",
         "x": [
          0.8602325267042626,
          1.977371993328519,
          1.977371993328519,
          1.4
         ],
         "xaxis": "x",
         "y": [
          -47.5,
          -47.5,
          -108.75,
          -108.75
         ],
         "yaxis": "y"
        },
        {
         "hoverinfo": "text",
         "marker": {
          "color": "rgb(0,116,217)"
         },
         "mode": "lines",
         "type": "scatter",
         "x": [
          0.818535277187245,
          2.8301943396169813,
          2.8301943396169813,
          1.977371993328519
         ],
         "xaxis": "x",
         "y": [
          -10,
          -10,
          -78.125,
          -78.125
         ],
         "yaxis": "y"
        },
        {
         "hoverinfo": "text",
         "marker": {
          "color": "rgb(35,205,205)"
         },
         "mode": "lines",
         "type": "scatter",
         "x": [
          0,
          0.14142135623730964,
          0.14142135623730964,
          0
         ],
         "xaxis": "x",
         "y": [
          -195,
          -195,
          -205,
          -205
         ],
         "yaxis": "y"
        },
        {
         "hoverinfo": "text",
         "marker": {
          "color": "rgb(35,205,205)"
         },
         "mode": "lines",
         "type": "scatter",
         "x": [
          0,
          0.2828427124746188,
          0.2828427124746188,
          0.14142135623730964
         ],
         "xaxis": "x",
         "y": [
          -185,
          -185,
          -200,
          -200
         ],
         "yaxis": "y"
        },
        {
         "hoverinfo": "text",
         "marker": {
          "color": "rgb(35,205,205)"
         },
         "mode": "lines",
         "type": "scatter",
         "x": [
          0,
          0.5916079783099619,
          0.5916079783099619,
          0.2828427124746188
         ],
         "xaxis": "x",
         "y": [
          -175,
          -175,
          -192.5,
          -192.5
         ],
         "yaxis": "y"
        },
        {
         "hoverinfo": "text",
         "marker": {
          "color": "rgb(35,205,205)"
         },
         "mode": "lines",
         "type": "scatter",
         "x": [
          0,
          0.6708203932499371,
          0.6708203932499371,
          0.5916079783099619
         ],
         "xaxis": "x",
         "y": [
          -165,
          -165,
          -183.75,
          -183.75
         ],
         "yaxis": "y"
        },
        {
         "hoverinfo": "text",
         "marker": {
          "color": "rgb(35,205,205)"
         },
         "mode": "lines",
         "type": "scatter",
         "x": [
          0,
          0.529150262212918,
          0.529150262212918,
          0
         ],
         "xaxis": "x",
         "y": [
          -225,
          -225,
          -235,
          -235
         ],
         "yaxis": "y"
        },
        {
         "hoverinfo": "text",
         "marker": {
          "color": "rgb(35,205,205)"
         },
         "mode": "lines",
         "type": "scatter",
         "x": [
          0,
          0.8485281374238572,
          0.8485281374238572,
          0.529150262212918
         ],
         "xaxis": "x",
         "y": [
          -215,
          -215,
          -230,
          -230
         ],
         "yaxis": "y"
        },
        {
         "hoverinfo": "text",
         "marker": {
          "color": "rgb(35,205,205)"
         },
         "mode": "lines",
         "type": "scatter",
         "x": [
          0.6708203932499371,
          1.5362291495737221,
          1.5362291495737221,
          0.8485281374238572
         ],
         "xaxis": "x",
         "y": [
          -174.375,
          -174.375,
          -222.5,
          -222.5
         ],
         "yaxis": "y"
        },
        {
         "hoverinfo": "text",
         "marker": {
          "color": "rgb(133,20,75)"
         },
         "mode": "lines",
         "type": "scatter",
         "x": [
          0,
          0.33166247903553997,
          0.33166247903553997,
          0
         ],
         "xaxis": "x",
         "y": [
          -265,
          -265,
          -275,
          -275
         ],
         "yaxis": "y"
        },
        {
         "hoverinfo": "text",
         "marker": {
          "color": "rgb(133,20,75)"
         },
         "mode": "lines",
         "type": "scatter",
         "x": [
          0,
          0.42426406871192923,
          0.42426406871192923,
          0
         ],
         "xaxis": "x",
         "y": [
          -285,
          -285,
          -295,
          -295
         ],
         "yaxis": "y"
        },
        {
         "hoverinfo": "text",
         "marker": {
          "color": "rgb(133,20,75)"
         },
         "mode": "lines",
         "type": "scatter",
         "x": [
          0.33166247903553997,
          0.7810249675906655,
          0.7810249675906655,
          0.42426406871192923
         ],
         "xaxis": "x",
         "y": [
          -270,
          -270,
          -290,
          -290
         ],
         "yaxis": "y"
        },
        {
         "hoverinfo": "text",
         "marker": {
          "color": "rgb(133,20,75)"
         },
         "mode": "lines",
         "type": "scatter",
         "x": [
          0,
          0.984885780179611,
          0.984885780179611,
          0.7810249675906655
         ],
         "xaxis": "x",
         "y": [
          -255,
          -255,
          -280,
          -280
         ],
         "yaxis": "y"
        },
        {
         "hoverinfo": "text",
         "marker": {
          "color": "rgb(133,20,75)"
         },
         "mode": "lines",
         "type": "scatter",
         "x": [
          0,
          1.5968719422671318,
          1.5968719422671318,
          0.984885780179611
         ],
         "xaxis": "x",
         "y": [
          -245,
          -245,
          -267.5,
          -267.5
         ],
         "yaxis": "y"
        },
        {
         "hoverinfo": "text",
         "marker": {
          "color": "rgb(0,116,217)"
         },
         "mode": "lines",
         "type": "scatter",
         "x": [
          1.5362291495737221,
          3.7907782842049733,
          3.7907782842049733,
          1.5968719422671318
         ],
         "xaxis": "x",
         "y": [
          -198.4375,
          -198.4375,
          -256.25,
          -256.25
         ],
         "yaxis": "y"
        },
        {
         "hoverinfo": "text",
         "marker": {
          "color": "rgb(0,116,217)"
         },
         "mode": "lines",
         "type": "scatter",
         "x": [
          2.8301943396169813,
          6.7926430790966785,
          6.7926430790966785,
          3.7907782842049733
         ],
         "xaxis": "x",
         "y": [
          -44.0625,
          -44.0625,
          -227.34375,
          -227.34375
         ],
         "yaxis": "y"
        }
       ],
       "layout": {
        "autosize": false,
        "height": null,
        "hovermode": "closest",
        "showlegend": false,
        "template": {
         "data": {
          "bar": [
           {
            "error_x": {
             "color": "#2a3f5f"
            },
            "error_y": {
             "color": "#2a3f5f"
            },
            "marker": {
             "line": {
              "color": "#E5ECF6",
              "width": 0.5
             },
             "pattern": {
              "fillmode": "overlay",
              "size": 10,
              "solidity": 0.2
             }
            },
            "type": "bar"
           }
          ],
          "barpolar": [
           {
            "marker": {
             "line": {
              "color": "#E5ECF6",
              "width": 0.5
             },
             "pattern": {
              "fillmode": "overlay",
              "size": 10,
              "solidity": 0.2
             }
            },
            "type": "barpolar"
           }
          ],
          "carpet": [
           {
            "aaxis": {
             "endlinecolor": "#2a3f5f",
             "gridcolor": "white",
             "linecolor": "white",
             "minorgridcolor": "white",
             "startlinecolor": "#2a3f5f"
            },
            "baxis": {
             "endlinecolor": "#2a3f5f",
             "gridcolor": "white",
             "linecolor": "white",
             "minorgridcolor": "white",
             "startlinecolor": "#2a3f5f"
            },
            "type": "carpet"
           }
          ],
          "choropleth": [
           {
            "colorbar": {
             "outlinewidth": 0,
             "ticks": ""
            },
            "type": "choropleth"
           }
          ],
          "contour": [
           {
            "colorbar": {
             "outlinewidth": 0,
             "ticks": ""
            },
            "colorscale": [
             [
              0,
              "#0d0887"
             ],
             [
              0.1111111111111111,
              "#46039f"
             ],
             [
              0.2222222222222222,
              "#7201a8"
             ],
             [
              0.3333333333333333,
              "#9c179e"
             ],
             [
              0.4444444444444444,
              "#bd3786"
             ],
             [
              0.5555555555555556,
              "#d8576b"
             ],
             [
              0.6666666666666666,
              "#ed7953"
             ],
             [
              0.7777777777777778,
              "#fb9f3a"
             ],
             [
              0.8888888888888888,
              "#fdca26"
             ],
             [
              1,
              "#f0f921"
             ]
            ],
            "type": "contour"
           }
          ],
          "contourcarpet": [
           {
            "colorbar": {
             "outlinewidth": 0,
             "ticks": ""
            },
            "type": "contourcarpet"
           }
          ],
          "heatmap": [
           {
            "colorbar": {
             "outlinewidth": 0,
             "ticks": ""
            },
            "colorscale": [
             [
              0,
              "#0d0887"
             ],
             [
              0.1111111111111111,
              "#46039f"
             ],
             [
              0.2222222222222222,
              "#7201a8"
             ],
             [
              0.3333333333333333,
              "#9c179e"
             ],
             [
              0.4444444444444444,
              "#bd3786"
             ],
             [
              0.5555555555555556,
              "#d8576b"
             ],
             [
              0.6666666666666666,
              "#ed7953"
             ],
             [
              0.7777777777777778,
              "#fb9f3a"
             ],
             [
              0.8888888888888888,
              "#fdca26"
             ],
             [
              1,
              "#f0f921"
             ]
            ],
            "type": "heatmap"
           }
          ],
          "heatmapgl": [
           {
            "colorbar": {
             "outlinewidth": 0,
             "ticks": ""
            },
            "colorscale": [
             [
              0,
              "#0d0887"
             ],
             [
              0.1111111111111111,
              "#46039f"
             ],
             [
              0.2222222222222222,
              "#7201a8"
             ],
             [
              0.3333333333333333,
              "#9c179e"
             ],
             [
              0.4444444444444444,
              "#bd3786"
             ],
             [
              0.5555555555555556,
              "#d8576b"
             ],
             [
              0.6666666666666666,
              "#ed7953"
             ],
             [
              0.7777777777777778,
              "#fb9f3a"
             ],
             [
              0.8888888888888888,
              "#fdca26"
             ],
             [
              1,
              "#f0f921"
             ]
            ],
            "type": "heatmapgl"
           }
          ],
          "histogram": [
           {
            "marker": {
             "pattern": {
              "fillmode": "overlay",
              "size": 10,
              "solidity": 0.2
             }
            },
            "type": "histogram"
           }
          ],
          "histogram2d": [
           {
            "colorbar": {
             "outlinewidth": 0,
             "ticks": ""
            },
            "colorscale": [
             [
              0,
              "#0d0887"
             ],
             [
              0.1111111111111111,
              "#46039f"
             ],
             [
              0.2222222222222222,
              "#7201a8"
             ],
             [
              0.3333333333333333,
              "#9c179e"
             ],
             [
              0.4444444444444444,
              "#bd3786"
             ],
             [
              0.5555555555555556,
              "#d8576b"
             ],
             [
              0.6666666666666666,
              "#ed7953"
             ],
             [
              0.7777777777777778,
              "#fb9f3a"
             ],
             [
              0.8888888888888888,
              "#fdca26"
             ],
             [
              1,
              "#f0f921"
             ]
            ],
            "type": "histogram2d"
           }
          ],
          "histogram2dcontour": [
           {
            "colorbar": {
             "outlinewidth": 0,
             "ticks": ""
            },
            "colorscale": [
             [
              0,
              "#0d0887"
             ],
             [
              0.1111111111111111,
              "#46039f"
             ],
             [
              0.2222222222222222,
              "#7201a8"
             ],
             [
              0.3333333333333333,
              "#9c179e"
             ],
             [
              0.4444444444444444,
              "#bd3786"
             ],
             [
              0.5555555555555556,
              "#d8576b"
             ],
             [
              0.6666666666666666,
              "#ed7953"
             ],
             [
              0.7777777777777778,
              "#fb9f3a"
             ],
             [
              0.8888888888888888,
              "#fdca26"
             ],
             [
              1,
              "#f0f921"
             ]
            ],
            "type": "histogram2dcontour"
           }
          ],
          "mesh3d": [
           {
            "colorbar": {
             "outlinewidth": 0,
             "ticks": ""
            },
            "type": "mesh3d"
           }
          ],
          "parcoords": [
           {
            "line": {
             "colorbar": {
              "outlinewidth": 0,
              "ticks": ""
             }
            },
            "type": "parcoords"
           }
          ],
          "pie": [
           {
            "automargin": true,
            "type": "pie"
           }
          ],
          "scatter": [
           {
            "fillpattern": {
             "fillmode": "overlay",
             "size": 10,
             "solidity": 0.2
            },
            "type": "scatter"
           }
          ],
          "scatter3d": [
           {
            "line": {
             "colorbar": {
              "outlinewidth": 0,
              "ticks": ""
             }
            },
            "marker": {
             "colorbar": {
              "outlinewidth": 0,
              "ticks": ""
             }
            },
            "type": "scatter3d"
           }
          ],
          "scattercarpet": [
           {
            "marker": {
             "colorbar": {
              "outlinewidth": 0,
              "ticks": ""
             }
            },
            "type": "scattercarpet"
           }
          ],
          "scattergeo": [
           {
            "marker": {
             "colorbar": {
              "outlinewidth": 0,
              "ticks": ""
             }
            },
            "type": "scattergeo"
           }
          ],
          "scattergl": [
           {
            "marker": {
             "colorbar": {
              "outlinewidth": 0,
              "ticks": ""
             }
            },
            "type": "scattergl"
           }
          ],
          "scattermapbox": [
           {
            "marker": {
             "colorbar": {
              "outlinewidth": 0,
              "ticks": ""
             }
            },
            "type": "scattermapbox"
           }
          ],
          "scatterpolar": [
           {
            "marker": {
             "colorbar": {
              "outlinewidth": 0,
              "ticks": ""
             }
            },
            "type": "scatterpolar"
           }
          ],
          "scatterpolargl": [
           {
            "marker": {
             "colorbar": {
              "outlinewidth": 0,
              "ticks": ""
             }
            },
            "type": "scatterpolargl"
           }
          ],
          "scatterternary": [
           {
            "marker": {
             "colorbar": {
              "outlinewidth": 0,
              "ticks": ""
             }
            },
            "type": "scatterternary"
           }
          ],
          "surface": [
           {
            "colorbar": {
             "outlinewidth": 0,
             "ticks": ""
            },
            "colorscale": [
             [
              0,
              "#0d0887"
             ],
             [
              0.1111111111111111,
              "#46039f"
             ],
             [
              0.2222222222222222,
              "#7201a8"
             ],
             [
              0.3333333333333333,
              "#9c179e"
             ],
             [
              0.4444444444444444,
              "#bd3786"
             ],
             [
              0.5555555555555556,
              "#d8576b"
             ],
             [
              0.6666666666666666,
              "#ed7953"
             ],
             [
              0.7777777777777778,
              "#fb9f3a"
             ],
             [
              0.8888888888888888,
              "#fdca26"
             ],
             [
              1,
              "#f0f921"
             ]
            ],
            "type": "surface"
           }
          ],
          "table": [
           {
            "cells": {
             "fill": {
              "color": "#EBF0F8"
             },
             "line": {
              "color": "white"
             }
            },
            "header": {
             "fill": {
              "color": "#C8D4E3"
             },
             "line": {
              "color": "white"
             }
            },
            "type": "table"
           }
          ]
         },
         "layout": {
          "annotationdefaults": {
           "arrowcolor": "#2a3f5f",
           "arrowhead": 0,
           "arrowwidth": 1
          },
          "autotypenumbers": "strict",
          "coloraxis": {
           "colorbar": {
            "outlinewidth": 0,
            "ticks": ""
           }
          },
          "colorscale": {
           "diverging": [
            [
             0,
             "#8e0152"
            ],
            [
             0.1,
             "#c51b7d"
            ],
            [
             0.2,
             "#de77ae"
            ],
            [
             0.3,
             "#f1b6da"
            ],
            [
             0.4,
             "#fde0ef"
            ],
            [
             0.5,
             "#f7f7f7"
            ],
            [
             0.6,
             "#e6f5d0"
            ],
            [
             0.7,
             "#b8e186"
            ],
            [
             0.8,
             "#7fbc41"
            ],
            [
             0.9,
             "#4d9221"
            ],
            [
             1,
             "#276419"
            ]
           ],
           "sequential": [
            [
             0,
             "#0d0887"
            ],
            [
             0.1111111111111111,
             "#46039f"
            ],
            [
             0.2222222222222222,
             "#7201a8"
            ],
            [
             0.3333333333333333,
             "#9c179e"
            ],
            [
             0.4444444444444444,
             "#bd3786"
            ],
            [
             0.5555555555555556,
             "#d8576b"
            ],
            [
             0.6666666666666666,
             "#ed7953"
            ],
            [
             0.7777777777777778,
             "#fb9f3a"
            ],
            [
             0.8888888888888888,
             "#fdca26"
            ],
            [
             1,
             "#f0f921"
            ]
           ],
           "sequentialminus": [
            [
             0,
             "#0d0887"
            ],
            [
             0.1111111111111111,
             "#46039f"
            ],
            [
             0.2222222222222222,
             "#7201a8"
            ],
            [
             0.3333333333333333,
             "#9c179e"
            ],
            [
             0.4444444444444444,
             "#bd3786"
            ],
            [
             0.5555555555555556,
             "#d8576b"
            ],
            [
             0.6666666666666666,
             "#ed7953"
            ],
            [
             0.7777777777777778,
             "#fb9f3a"
            ],
            [
             0.8888888888888888,
             "#fdca26"
            ],
            [
             1,
             "#f0f921"
            ]
           ]
          },
          "colorway": [
           "#636efa",
           "#EF553B",
           "#00cc96",
           "#ab63fa",
           "#FFA15A",
           "#19d3f3",
           "#FF6692",
           "#B6E880",
           "#FF97FF",
           "#FECB52"
          ],
          "font": {
           "color": "#2a3f5f"
          },
          "geo": {
           "bgcolor": "white",
           "lakecolor": "white",
           "landcolor": "#E5ECF6",
           "showlakes": true,
           "showland": true,
           "subunitcolor": "white"
          },
          "hoverlabel": {
           "align": "left"
          },
          "hovermode": "closest",
          "mapbox": {
           "style": "light"
          },
          "paper_bgcolor": "white",
          "plot_bgcolor": "#E5ECF6",
          "polar": {
           "angularaxis": {
            "gridcolor": "white",
            "linecolor": "white",
            "ticks": ""
           },
           "bgcolor": "#E5ECF6",
           "radialaxis": {
            "gridcolor": "white",
            "linecolor": "white",
            "ticks": ""
           }
          },
          "scene": {
           "xaxis": {
            "backgroundcolor": "#E5ECF6",
            "gridcolor": "white",
            "gridwidth": 2,
            "linecolor": "white",
            "showbackground": true,
            "ticks": "",
            "zerolinecolor": "white"
           },
           "yaxis": {
            "backgroundcolor": "#E5ECF6",
            "gridcolor": "white",
            "gridwidth": 2,
            "linecolor": "white",
            "showbackground": true,
            "ticks": "",
            "zerolinecolor": "white"
           },
           "zaxis": {
            "backgroundcolor": "#E5ECF6",
            "gridcolor": "white",
            "gridwidth": 2,
            "linecolor": "white",
            "showbackground": true,
            "ticks": "",
            "zerolinecolor": "white"
           }
          },
          "shapedefaults": {
           "line": {
            "color": "#2a3f5f"
           }
          },
          "ternary": {
           "aaxis": {
            "gridcolor": "white",
            "linecolor": "white",
            "ticks": ""
           },
           "baxis": {
            "gridcolor": "white",
            "linecolor": "white",
            "ticks": ""
           },
           "bgcolor": "#E5ECF6",
           "caxis": {
            "gridcolor": "white",
            "linecolor": "white",
            "ticks": ""
           }
          },
          "title": {
           "x": 0.05
          },
          "xaxis": {
           "automargin": true,
           "gridcolor": "white",
           "linecolor": "white",
           "ticks": "",
           "title": {
            "standoff": 15
           },
           "zerolinecolor": "white",
           "zerolinewidth": 2
          },
          "yaxis": {
           "automargin": true,
           "gridcolor": "white",
           "linecolor": "white",
           "ticks": "",
           "title": {
            "standoff": 15
           },
           "zerolinecolor": "white",
           "zerolinewidth": 2
          }
         }
        },
        "width": null,
        "xaxis": {
         "mirror": "allticks",
         "rangemode": "tozero",
         "showgrid": false,
         "showline": true,
         "showticklabels": true,
         "ticks": "outside",
         "type": "linear",
         "zeroline": false
        },
        "yaxis": {
         "mirror": "allticks",
         "rangemode": "tozero",
         "showgrid": false,
         "showline": true,
         "showticklabels": true,
         "tickmode": "array",
         "ticks": "outside",
         "ticktext": [
          "Iris-virginica",
          "Iris-virginica",
          "Iris-versicolor",
          "Iris-versicolor",
          "Iris-virginica",
          "Iris-virginica",
          "Iris-virginica",
          "Iris-virginica",
          "Iris-virginica",
          "Iris-virginica",
          "Iris-virginica",
          "Iris-virginica",
          "Iris-virginica",
          "Iris-virginica",
          "Iris-virginica",
          "Iris-virginica",
          "Iris-versicolor",
          "Iris-versicolor",
          "Iris-versicolor",
          "Iris-versicolor",
          "Iris-versicolor",
          "Iris-versicolor",
          "Iris-versicolor",
          "Iris-versicolor",
          "Iris-setosa",
          "Iris-setosa",
          "Iris-setosa",
          "Iris-setosa",
          "Iris-setosa",
          "Iris-setosa"
         ],
         "tickvals": [
          -5,
          -15,
          -25,
          -35,
          -45,
          -55,
          -65,
          -75,
          -85,
          -95,
          -105,
          -115,
          -125,
          -135,
          -145,
          -155,
          -165,
          -175,
          -185,
          -195,
          -205,
          -215,
          -225,
          -235,
          -245,
          -255,
          -265,
          -275,
          -285,
          -295
         ],
         "type": "linear",
         "zeroline": false
        }
       }
      }
     },
     "metadata": {},
     "output_type": "display_data"
    }
   ],
   "source": [
    "import plotly.figure_factory as ff\n",
    "\n",
    "features = ['sepal_length', 'sepal_width', 'petal_length', 'petal_width',]\n",
    "smaller_df = df.sample(frac=0.2)\n",
    "fig = ff.create_dendrogram(smaller_df[features], orientation='left', color_threshold=2.55, labels=smaller_df['class'].values)\n",
    "fig.show()"
   ]
  },
  {
   "cell_type": "code",
   "execution_count": 10,
   "id": "c1a5f158-9fe2-4e11-975a-0744820036d9",
   "metadata": {
    "tags": []
   },
   "outputs": [],
   "source": [
    "def plot_dendrogram(model, **kwargs):\n",
    "    # Create linkage matrix and then plot the dendrogram\n",
    "\n",
    "    # create the counts of samples under each node\n",
    "    counts = np.zeros(model.children_.shape[0])\n",
    "    n_samples = len(model.labels_)\n",
    "    for i, merge in enumerate(model.children_):\n",
    "        current_count = 0\n",
    "        for child_idx in merge:\n",
    "            if child_idx < n_samples:\n",
    "                current_count += 1  # leaf node\n",
    "            else:\n",
    "                current_count += counts[child_idx - n_samples]\n",
    "        counts[i] = current_count\n",
    "\n",
    "    linkage_matrix = np.column_stack(\n",
    "        [model.children_, model.distances_, counts]\n",
    "    ).astype(float)\n",
    "\n",
    "    # Plot the cor responding dendrogram"
   ]
  },
  {
   "cell_type": "code",
   "execution_count": 11,
   "id": "821f6b38-1e3b-498a-8f8d-be72d21ecb31",
   "metadata": {
    "tags": []
   },
   "outputs": [
    {
     "data": {
      "image/png": "[encoded data removed]",
      "text/plain": [
       "<Figure size 640x480 with 1 Axes>"
      ]
     },
     "metadata": {},
     "output_type": "display_data"
    }
   ],
   "source": [
    "# courtosy sklearn.org\n",
    "import numpy as np\n",
    "from matplotlib import pyplot as plt\n",
    "from scipy.cluster.hierarchy import dendrogram\n",
    "\n",
    "from sklearn.cluster import AgglomerativeClustering\n",
    "from sklearn.datasets import load_iris\n",
    "\n",
    "\n",
    "def plot_dendrogram(model, **kwargs):\n",
    "    # Create linkage matrix and then plot the dendrogram\n",
    "\n",
    "    # create the counts of samples under each node\n",
    "    counts = np.zeros(model.children_.shape[0])\n",
    "    n_samples = len(model.labels_)\n",
    "    for i, merge in enumerate(model.children_):\n",
    "        current_count = 0\n",
    "        for child_idx in merge:\n",
    "            if child_idx < n_samples:\n",
    "                current_count += 1  # leaf node\n",
    "            else:\n",
    "                current_count += counts[child_idx - n_samples]\n",
    "        counts[i] = current_count\n",
    "\n",
    "    linkage_matrix = np.column_stack(\n",
    "        [model.children_, model.distances_, counts]\n",
    "    ).astype(float)\n",
    "\n",
    "    # Plot the corresponding dendrogram\n",
    "    dendrogram(linkage_matrix, **kwargs)\n",
    "\n",
    "\n",
    "X = df[features]\n",
    "\n",
    "# setting distance_threshold=0 ensures we compute the full tree.\n",
    "model = AgglomerativeClustering(distance_threshold=0, n_clusters=None)\n",
    "\n",
    "model = model.fit(X)\n",
    "plt.title(\"Hierarchical Clustering Dendrogram\")\n",
    "# plot the top three levels of the dendrogram\n",
    "plot_dendrogram(model, truncate_mode=\"level\", p=3)\n",
    "plt.xlabel(\"Number of points in node (or index of point if no parenthesis).\")\n",
    "plt.show()"
   ]
  },
  {
   "cell_type": "code",
   "execution_count": null,
   "id": "4020cb5c",
   "metadata": {},
   "outputs": [],
   "source": []
  },
  {
   "cell_type": "code",
   "execution_count": 12,
   "id": "b3b44913",
   "metadata": {},
   "outputs": [
    {
     "data": {
      "text/plain": [
       "{'icoord': [[85.0, 85.0, 95.0, 95.0],\n",
       "  [105.0, 105.0, 115.0, 115.0],\n",
       "  [90.0, 90.0, 110.0, 110.0],\n",
       "  [75.0, 75.0, 100.0, 100.0],\n",
       "  [65.0, 65.0, 87.5, 87.5],\n",
       "  [55.0, 55.0, 76.25, 76.25],\n",
       "  [45.0, 45.0, 65.625, 65.625],\n",
       "  [35.0, 35.0, 55.3125, 55.3125],\n",
       "  [25.0, 25.0, 45.15625, 45.15625],\n",
       "  [15.0, 15.0, 35.078125, 35.078125],\n",
       "  [5.0, 5.0, 25.0390625, 25.0390625],\n",
       "  [125.0, 125.0, 135.0, 135.0],\n",
       "  [175.0, 175.0, 185.0, 185.0],\n",
       "  [165.0, 165.0, 180.0, 180.0],\n",
       "  [155.0, 155.0, 172.5, 172.5],\n",
       "  [245.0, 245.0, 255.0, 255.0],\n",
       "  [235.0, 235.0, 250.0, 250.0],\n",
       "  [265.0, 265.0, 275.0, 275.0],\n",
       "  [285.0, 285.0, 295.0, 295.0],\n",
       "  [270.0, 270.0, 290.0, 290.0],\n",
       "  [242.5, 242.5, 280.0, 280.0],\n",
       "  [225.0, 225.0, 261.25, 261.25],\n",
       "  [215.0, 215.0, 243.125, 243.125],\n",
       "  [205.0, 205.0, 229.0625, 229.0625],\n",
       "  [195.0, 195.0, 217.03125, 217.03125],\n",
       "  [163.75, 163.75, 206.015625, 206.015625],\n",
       "  [145.0, 145.0, 184.8828125, 184.8828125],\n",
       "  [130.0, 130.0, 164.94140625, 164.94140625],\n",
       "  [15.01953125, 15.01953125, 147.470703125, 147.470703125]],\n",
       " 'dcoord': [[0.0, 0.33166247903553986, 0.33166247903553986, 0.0],\n",
       "  [0.0, 0.3000000000000001, 0.3000000000000001, 0.0],\n",
       "  [0.33166247903553986,\n",
       "   0.3464101615137753,\n",
       "   0.3464101615137753,\n",
       "   0.3000000000000001],\n",
       "  [0.0, 0.3464101615137753, 0.3464101615137753, 0.3464101615137753],\n",
       "  [0.0, 0.3464101615137755, 0.3464101615137755, 0.3464101615137753],\n",
       "  [0.0, 0.3464101615137755, 0.3464101615137755, 0.3464101615137755],\n",
       "  [0.0, 0.3605551275463988, 0.3605551275463988, 0.3464101615137755],\n",
       "  [0.0, 0.3605551275463992, 0.3605551275463992, 0.3605551275463988],\n",
       "  [0.0, 0.412310562561766, 0.412310562561766, 0.3605551275463992],\n",
       "  [0.0, 0.45825756949558394, 0.45825756949558394, 0.412310562561766],\n",
       "  [0.0, 0.6244997998398398, 0.6244997998398398, 0.45825756949558394],\n",
       "  [0.0, 0.4123105625617661, 0.4123105625617661, 0.0],\n",
       "  [0.0, 0.1414213562373093, 0.1414213562373093, 0.0],\n",
       "  [0.0, 0.3605551275463989, 0.3605551275463989, 0.1414213562373093],\n",
       "  [0.0, 0.3872983346207412, 0.3872983346207412, 0.3605551275463989],\n",
       "  [0.0, 0.26457513110645964, 0.26457513110645964, 0.0],\n",
       "  [0.0, 0.4123105625617659, 0.4123105625617659, 0.26457513110645964],\n",
       "  [0.0, 0.26457513110645864, 0.26457513110645864, 0.0],\n",
       "  [0.0, 0.4898979485566356, 0.4898979485566356, 0.0],\n",
       "  [0.26457513110645864,\n",
       "   0.5099019513592786,\n",
       "   0.5099019513592786,\n",
       "   0.4898979485566356],\n",
       "  [0.4123105625617659,\n",
       "   0.5291502622129179,\n",
       "   0.5291502622129179,\n",
       "   0.5099019513592786],\n",
       "  [0.0, 0.5385164807134504, 0.5385164807134504, 0.5291502622129179],\n",
       "  [0.0, 0.5385164807134505, 0.5385164807134505, 0.5385164807134504],\n",
       "  [0.0, 0.5567764362830021, 0.5567764362830021, 0.5385164807134505],\n",
       "  [0.0, 0.6324555320336759, 0.6324555320336759, 0.5567764362830021],\n",
       "  [0.3872983346207412,\n",
       "   0.6480740698407862,\n",
       "   0.6480740698407862,\n",
       "   0.6324555320336759],\n",
       "  [0.0, 0.7348469228349535, 0.7348469228349535, 0.6480740698407862],\n",
       "  [0.4123105625617661,\n",
       "   0.818535277187245,\n",
       "   0.818535277187245,\n",
       "   0.7348469228349535],\n",
       "  [0.6244997998398398,\n",
       "   1.6401219466856727,\n",
       "   1.6401219466856727,\n",
       "   0.818535277187245]],\n",
       " 'ivl': ['Iris-setosa',\n",
       "  'Iris-setosa',\n",
       "  'Iris-setosa',\n",
       "  'Iris-setosa',\n",
       "  'Iris-setosa',\n",
       "  'Iris-setosa',\n",
       "  'Iris-setosa',\n",
       "  'Iris-setosa',\n",
       "  'Iris-setosa',\n",
       "  'Iris-setosa',\n",
       "  '(2)',\n",
       "  '(38)',\n",
       "  'Iris-virginica',\n",
       "  'Iris-virginica',\n",
       "  'Iris-virginica',\n",
       "  'Iris-versicolor',\n",
       "  'Iris-versicolor',\n",
       "  'Iris-versicolor',\n",
       "  'Iris-versicolor',\n",
       "  'Iris-virginica',\n",
       "  'Iris-virginica',\n",
       "  'Iris-virginica',\n",
       "  'Iris-virginica',\n",
       "  'Iris-virginica',\n",
       "  'Iris-virginica',\n",
       "  'Iris-virginica',\n",
       "  'Iris-versicolor',\n",
       "  'Iris-versicolor',\n",
       "  'Iris-versicolor',\n",
       "  '(83)'],\n",
       " 'leaves': [41,\n",
       "  22,\n",
       "  14,\n",
       "  15,\n",
       "  44,\n",
       "  33,\n",
       "  32,\n",
       "  16,\n",
       "  5,\n",
       "  18,\n",
       "  231,\n",
       "  235,\n",
       "  117,\n",
       "  131,\n",
       "  106,\n",
       "  98,\n",
       "  60,\n",
       "  57,\n",
       "  93,\n",
       "  109,\n",
       "  108,\n",
       "  134,\n",
       "  135,\n",
       "  118,\n",
       "  105,\n",
       "  122,\n",
       "  68,\n",
       "  87,\n",
       "  62,\n",
       "  286],\n",
       " 'color_list': ['C1',\n",
       "  'C1',\n",
       "  'C1',\n",
       "  'C1',\n",
       "  'C1',\n",
       "  'C1',\n",
       "  'C1',\n",
       "  'C1',\n",
       "  'C1',\n",
       "  'C1',\n",
       "  'C1',\n",
       "  'C2',\n",
       "  'C2',\n",
       "  'C2',\n",
       "  'C2',\n",
       "  'C2',\n",
       "  'C2',\n",
       "  'C2',\n",
       "  'C2',\n",
       "  'C2',\n",
       "  'C2',\n",
       "  'C2',\n",
       "  'C2',\n",
       "  'C2',\n",
       "  'C2',\n",
       "  'C2',\n",
       "  'C2',\n",
       "  'C2',\n",
       "  'C0'],\n",
       " 'leaves_color_list': ['C1',\n",
       "  'C1',\n",
       "  'C1',\n",
       "  'C1',\n",
       "  'C1',\n",
       "  'C1',\n",
       "  'C1',\n",
       "  'C1',\n",
       "  'C1',\n",
       "  'C1',\n",
       "  'C1',\n",
       "  'C1',\n",
       "  'C2',\n",
       "  'C2',\n",
       "  'C2',\n",
       "  'C2',\n",
       "  'C2',\n",
       "  'C2',\n",
       "  'C2',\n",
       "  'C2',\n",
       "  'C2',\n",
       "  'C2',\n",
       "  'C2',\n",
       "  'C2',\n",
       "  'C2',\n",
       "  'C2',\n",
       "  'C2',\n",
       "  'C2',\n",
       "  'C2',\n",
       "  'C2']}"
      ]
     },
     "execution_count": 12,
     "metadata": {},
     "output_type": "execute_result"
    },
    {
     "data": {
      "image/png": "[encoded data removed]",
      "text/plain": [
       "<Figure size 640x480 with 1 Axes>"
      ]
     },
     "metadata": {},
     "output_type": "display_data"
    }
   ],
   "source": [
    "from scipy.cluster import hierarchy\n",
    "h_df = df[features+['class']]\n",
    "h_df = h_df.set_index('class')\n",
    "h_df\n",
    "Z = hierarchy.linkage(h_df)\n",
    "# plt.figure(figsize=(8, 15))\n",
    "\n",
    "# hierarchy.dendrogram(Z, p=30, labels=h_df.index, orientation='right');\n",
    "\n",
    "hierarchy.dendrogram(\n",
    "    Z,\n",
    "    p=10,\n",
    "    labels=h_df.index,\n",
    "    truncate_mode='level',\n",
    "    color_threshold=1.3,\n",
    "    get_leaves=True,\n",
    "    orientation='right',\n",
    "    count_sort=True,\n",
    "    distance_sort=False,\n",
    "    show_leaf_counts=True,\n",
    "    no_plot=False,\n",
    "    no_labels=False,\n",
    "    leaf_font_size=None,\n",
    "    leaf_rotation=None,\n",
    "    leaf_label_func=None,\n",
    "    show_contracted=False,\n",
    "    link_color_func=None,\n",
    "    ax=None,\n",
    "    above_threshold_color='C0',\n",
    ")"
   ]
  },
  {
   "cell_type": "code",
   "execution_count": 13,
   "id": "c456c858-f0ef-46ba-92fc-9aebc760703c",
   "metadata": {
    "tags": []
   },
   "outputs": [],
   "source": [
    "newmodel = AgglomerativeClustering(n_clusters=3)\n",
    "df['heirarchical_labels']=newmodel.fit_predict(X)\n"
   ]
  },
  {
   "cell_type": "code",
   "execution_count": 14,
   "id": "25811372-99b0-4368-b067-8824725d9d33",
   "metadata": {
    "tags": []
   },
   "outputs": [
    {
     "data": {
      "text/plain": [
       "<seaborn.axisgrid.PairGrid at 0x30f957c50>"
      ]
     },
     "execution_count": 14,
     "metadata": {},
     "output_type": "execute_result"
    },
    {
     "data": {
      "image/png": "[encoded data removed]",
      "text/plain": [
       "<Figure size 1149.85x1000 with 20 Axes>"
      ]
     },
     "metadata": {},
     "output_type": "display_data"
    }
   ],
   "source": [
    "# cols = ['sepal length (cm)', 'sepal width (cm)', 'petal length (cm)','petal width (cm)']\n",
    "sns.pairplot(df, vars=features,  hue='heirarchical_labels')"
   ]
  },
  {
   "cell_type": "code",
   "execution_count": 15,
   "id": "1b7dcde5",
   "metadata": {},
   "outputs": [
    {
     "data": {
      "text/plain": [
       "<Axes: title={'center': 'Y-Predicted'}, xlabel='petal_width', ylabel='Count'>"
      ]
     },
     "execution_count": 15,
     "metadata": {},
     "output_type": "execute_result"
    },
    {
     "data": {
      "image/png": "[encoded data removed]",
      "text/plain": [
       "<Figure size 1500x500 with 2 Axes>"
      ]
     },
     "metadata": {},
     "output_type": "display_data"
    }
   ],
   "source": [
    "import matplotlib.pyplot as plt\n",
    "\n",
    "fig, axes = plt.subplots(nrows=1, ncols=2, figsize=(15, 5))\n",
    "axes[0].set_title('Y-True')\n",
    "sns.histplot(df, x='petal_width', hue='class', kde=True, ax=axes[0])\n",
    "\n",
    "axes[1].set_title('Y-Predicted')\n",
    "sns.histplot(df, x='petal_width', hue='heirarchical_labels', kde=True, ax=axes[1])\n",
    "\n"
   ]
  },
  {
   "cell_type": "code",
   "execution_count": 16,
   "id": "18507e18",
   "metadata": {},
   "outputs": [
    {
     "data": {
      "text/html": [
       "<div>\n",
       "<style scoped>\n",
       "    .dataframe tbody tr th:only-of-type {\n",
       "        vertical-align: middle;\n",
       "    }\n",
       "\n",
       "    .dataframe tbody tr th {\n",
       "        vertical-align: top;\n",
       "    }\n",
       "\n",
       "    .dataframe thead th {\n",
       "        text-align: right;\n",
       "    }\n",
       "</style>\n",
       "<table border=\"1\" class=\"dataframe\">\n",
       "  <thead>\n",
       "    <tr style=\"text-align: right;\">\n",
       "      <th></th>\n",
       "      <th>sepal_length</th>\n",
       "      <th>sepal_width</th>\n",
       "      <th>petal_length</th>\n",
       "      <th>petal_width</th>\n",
       "      <th>class</th>\n",
       "      <th>heirarchical_labels</th>\n",
       "      <th>heirarchical_labels_names</th>\n",
       "    </tr>\n",
       "  </thead>\n",
       "  <tbody>\n",
       "    <tr>\n",
       "      <th>0</th>\n",
       "      <td>5.1</td>\n",
       "      <td>3.5</td>\n",
       "      <td>1.4</td>\n",
       "      <td>0.2</td>\n",
       "      <td>Iris-setosa</td>\n",
       "      <td>1</td>\n",
       "      <td>Iris-setosa</td>\n",
       "    </tr>\n",
       "    <tr>\n",
       "      <th>1</th>\n",
       "      <td>4.9</td>\n",
       "      <td>3.0</td>\n",
       "      <td>1.4</td>\n",
       "      <td>0.2</td>\n",
       "      <td>Iris-setosa</td>\n",
       "      <td>1</td>\n",
       "      <td>Iris-setosa</td>\n",
       "    </tr>\n",
       "    <tr>\n",
       "      <th>2</th>\n",
       "      <td>4.7</td>\n",
       "      <td>3.2</td>\n",
       "      <td>1.3</td>\n",
       "      <td>0.2</td>\n",
       "      <td>Iris-setosa</td>\n",
       "      <td>1</td>\n",
       "      <td>Iris-setosa</td>\n",
       "    </tr>\n",
       "    <tr>\n",
       "      <th>3</th>\n",
       "      <td>4.6</td>\n",
       "      <td>3.1</td>\n",
       "      <td>1.5</td>\n",
       "      <td>0.2</td>\n",
       "      <td>Iris-setosa</td>\n",
       "      <td>1</td>\n",
       "      <td>Iris-setosa</td>\n",
       "    </tr>\n",
       "    <tr>\n",
       "      <th>4</th>\n",
       "      <td>5.0</td>\n",
       "      <td>3.6</td>\n",
       "      <td>1.4</td>\n",
       "      <td>0.2</td>\n",
       "      <td>Iris-setosa</td>\n",
       "      <td>1</td>\n",
       "      <td>Iris-setosa</td>\n",
       "    </tr>\n",
       "  </tbody>\n",
       "</table>\n",
       "</div>"
      ],
      "text/plain": [
       "   sepal_length  sepal_width  petal_length  petal_width        class  \\\n",
       "0           5.1          3.5           1.4          0.2  Iris-setosa   \n",
       "1           4.9          3.0           1.4          0.2  Iris-setosa   \n",
       "2           4.7          3.2           1.3          0.2  Iris-setosa   \n",
       "3           4.6          3.1           1.5          0.2  Iris-setosa   \n",
       "4           5.0          3.6           1.4          0.2  Iris-setosa   \n",
       "\n",
       "   heirarchical_labels heirarchical_labels_names  \n",
       "0                    1               Iris-setosa  \n",
       "1                    1               Iris-setosa  \n",
       "2                    1               Iris-setosa  \n",
       "3                    1               Iris-setosa  \n",
       "4                    1               Iris-setosa  "
      ]
     },
     "execution_count": 16,
     "metadata": {},
     "output_type": "execute_result"
    }
   ],
   "source": [
    "cluster_to_class_map = {\n",
    "    1: 'Iris-setosa',\n",
    "    0: 'Iris-versicolor',\n",
    "    2: 'Iris-virginica'\n",
    "}\n",
    "\n",
    "df['heirarchical_labels_names'] = df.heirarchical_labels.map(cluster_to_class_map)\n",
    "df.head()"
   ]
  },
  {
   "cell_type": "code",
   "execution_count": 18,
   "id": "e5f6b050-aacc-491a-8dd2-1299f49f45ad",
   "metadata": {
    "tags": []
   },
   "outputs": [
    {
     "data": {
      "text/plain": [
       "0.8933333333333333"
      ]
     },
     "execution_count": 18,
     "metadata": {},
     "output_type": "execute_result"
    }
   ],
   "source": [
    "accuracy_score(df.heirarchical_labels_names, df['class'])"
   ]
  },
  {
   "cell_type": "markdown",
   "id": "82bd4e44-8027-42f9-b1c2-ea2e5e4922e5",
   "metadata": {},
   "source": [
    "DBSCAN  doesn't do a great job, since the metrics of two of the species are spatially similar.  So, it finds 2 clusters rather than 3"
   ]
  },
  {
   "cell_type": "markdown",
   "id": "4cb8b2dd-06ca-41ea-be6a-6bdf8c502422",
   "metadata": {},
   "source": [
    "# Market Analysis with APRIORI:  Coffee Shop Orders\n"
   ]
  },
  {
   "cell_type": "code",
   "execution_count": 27,
   "id": "f695945e-2c8b-466d-bfce-1d5f60c335f4",
   "metadata": {
    "tags": []
   },
   "outputs": [],
   "source": [
    "# !pip install mlxtend\n",
    "# !pip install networkx\n",
    "import numpy as np \n",
    "import pandas as pd \n",
    "from mlxtend.frequent_patterns import apriori, association_rules "
   ]
  },
  {
   "cell_type": "code",
   "execution_count": 28,
   "id": "2e046bf4-b9ed-4651-8691-6f1236042c2b",
   "metadata": {
    "tags": []
   },
   "outputs": [
    {
     "data": {
      "text/html": [
       "<div>\n",
       "<style scoped>\n",
       "    .dataframe tbody tr th:only-of-type {\n",
       "        vertical-align: middle;\n",
       "    }\n",
       "\n",
       "    .dataframe tbody tr th {\n",
       "        vertical-align: top;\n",
       "    }\n",
       "\n",
       "    .dataframe thead th {\n",
       "        text-align: right;\n",
       "    }\n",
       "</style>\n",
       "<table border=\"1\" class=\"dataframe\">\n",
       "  <thead>\n",
       "    <tr style=\"text-align: right;\">\n",
       "      <th></th>\n",
       "      <th>transaction_number</th>\n",
       "      <th>amount</th>\n",
       "      <th>item</th>\n",
       "    </tr>\n",
       "  </thead>\n",
       "  <tbody>\n",
       "    <tr>\n",
       "      <th>0</th>\n",
       "      <td>6</td>\n",
       "      <td>1</td>\n",
       "      <td>Latte Hot</td>\n",
       "    </tr>\n",
       "    <tr>\n",
       "      <th>1</th>\n",
       "      <td>6</td>\n",
       "      <td>1</td>\n",
       "      <td>Americano Hot</td>\n",
       "    </tr>\n",
       "    <tr>\n",
       "      <th>2</th>\n",
       "      <td>6</td>\n",
       "      <td>1</td>\n",
       "      <td>V60</td>\n",
       "    </tr>\n",
       "    <tr>\n",
       "      <th>3</th>\n",
       "      <td>6</td>\n",
       "      <td>1</td>\n",
       "      <td>Brownies</td>\n",
       "    </tr>\n",
       "    <tr>\n",
       "      <th>4</th>\n",
       "      <td>7</td>\n",
       "      <td>1</td>\n",
       "      <td>V60</td>\n",
       "    </tr>\n",
       "  </tbody>\n",
       "</table>\n",
       "</div>"
      ],
      "text/plain": [
       "   transaction_number  amount           item\n",
       "0                   6       1      Latte Hot\n",
       "1                   6       1  Americano Hot\n",
       "2                   6       1            V60\n",
       "3                   6       1       Brownies\n",
       "4                   7       1            V60"
      ]
     },
     "execution_count": 28,
     "metadata": {},
     "output_type": "execute_result"
    }
   ],
   "source": [
    "df = pd.read_csv('data/Coffe Shop Sales.xlsx - MBA_Master.csv')\n",
    "df.head()"
   ]
  },
  {
   "cell_type": "code",
   "execution_count": 29,
   "id": "38bd259f",
   "metadata": {},
   "outputs": [
    {
     "name": "stdout",
     "output_type": "stream",
     "text": [
      "item\n",
      "Latte Iced        1328\n",
      "Cappucino Hot      649\n",
      "Latte Hot          523\n",
      "Americano Iced     468\n",
      "V60                435\n",
      "Name: count, dtype: int64\n",
      "transaction_number\n",
      "3153    11\n",
      "1096    10\n",
      "3093     9\n",
      "2562     9\n",
      "2650     9\n",
      "Name: count, dtype: int64\n"
     ]
    },
    {
     "data": {
      "text/html": [
       "<div>\n",
       "<style scoped>\n",
       "    .dataframe tbody tr th:only-of-type {\n",
       "        vertical-align: middle;\n",
       "    }\n",
       "\n",
       "    .dataframe tbody tr th {\n",
       "        vertical-align: top;\n",
       "    }\n",
       "\n",
       "    .dataframe thead th {\n",
       "        text-align: right;\n",
       "    }\n",
       "</style>\n",
       "<table border=\"1\" class=\"dataframe\">\n",
       "  <thead>\n",
       "    <tr style=\"text-align: right;\">\n",
       "      <th></th>\n",
       "      <th>transaction_number</th>\n",
       "      <th>amount</th>\n",
       "      <th>item</th>\n",
       "    </tr>\n",
       "  </thead>\n",
       "  <tbody>\n",
       "    <tr>\n",
       "      <th>36</th>\n",
       "      <td>781</td>\n",
       "      <td>1</td>\n",
       "      <td>Flat White Hot</td>\n",
       "    </tr>\n",
       "    <tr>\n",
       "      <th>38</th>\n",
       "      <td>781</td>\n",
       "      <td>1</td>\n",
       "      <td>Flat White Hot</td>\n",
       "    </tr>\n",
       "    <tr>\n",
       "      <th>46</th>\n",
       "      <td>785</td>\n",
       "      <td>1</td>\n",
       "      <td>V60</td>\n",
       "    </tr>\n",
       "    <tr>\n",
       "      <th>49</th>\n",
       "      <td>786</td>\n",
       "      <td>1</td>\n",
       "      <td>Cappucino Hot</td>\n",
       "    </tr>\n",
       "    <tr>\n",
       "      <th>60</th>\n",
       "      <td>795</td>\n",
       "      <td>1</td>\n",
       "      <td>Americano Iced</td>\n",
       "    </tr>\n",
       "    <tr>\n",
       "      <th>...</th>\n",
       "      <td>...</td>\n",
       "      <td>...</td>\n",
       "      <td>...</td>\n",
       "    </tr>\n",
       "    <tr>\n",
       "      <th>6499</th>\n",
       "      <td>5751</td>\n",
       "      <td>1</td>\n",
       "      <td>V60</td>\n",
       "    </tr>\n",
       "    <tr>\n",
       "      <th>6513</th>\n",
       "      <td>5770</td>\n",
       "      <td>1</td>\n",
       "      <td>Americano Iced</td>\n",
       "    </tr>\n",
       "    <tr>\n",
       "      <th>6536</th>\n",
       "      <td>5785</td>\n",
       "      <td>1</td>\n",
       "      <td>EspressoHot</td>\n",
       "    </tr>\n",
       "    <tr>\n",
       "      <th>6539</th>\n",
       "      <td>5788</td>\n",
       "      <td>1</td>\n",
       "      <td>Latte Iced</td>\n",
       "    </tr>\n",
       "    <tr>\n",
       "      <th>6542</th>\n",
       "      <td>5791</td>\n",
       "      <td>1</td>\n",
       "      <td>Latte Iced</td>\n",
       "    </tr>\n",
       "  </tbody>\n",
       "</table>\n",
       "<p>534 rows × 3 columns</p>\n",
       "</div>"
      ],
      "text/plain": [
       "      transaction_number  amount            item\n",
       "36                   781       1  Flat White Hot\n",
       "38                   781       1  Flat White Hot\n",
       "46                   785       1             V60\n",
       "49                   786       1   Cappucino Hot\n",
       "60                   795       1  Americano Iced\n",
       "...                  ...     ...             ...\n",
       "6499                5751       1             V60\n",
       "6513                5770       1  Americano Iced\n",
       "6536                5785       1     EspressoHot\n",
       "6539                5788       1      Latte Iced\n",
       "6542                5791       1      Latte Iced\n",
       "\n",
       "[534 rows x 3 columns]"
      ]
     },
     "execution_count": 29,
     "metadata": {},
     "output_type": "execute_result"
    }
   ],
   "source": [
    "print(df.item.value_counts().head())\n",
    "print(df.transaction_number.value_counts().head())\n",
    "df.duplicated().sum()\n",
    "df[df.duplicated()]\n",
    "\n",
    "# df.groupby('amount').count()"
   ]
  },
  {
   "cell_type": "code",
   "execution_count": 30,
   "id": "eaed7760",
   "metadata": {},
   "outputs": [
    {
     "data": {
      "text/plain": [
       "item\n",
       "Latte Iced        1453\n",
       "Cappucino Hot      694\n",
       "Latte Hot          570\n",
       "Americano Iced     510\n",
       "V60                446\n",
       "Name: amount, dtype: int64"
      ]
     },
     "execution_count": 30,
     "metadata": {},
     "output_type": "execute_result"
    }
   ],
   "source": [
    "df.groupby('item')['amount'].sum().sort_values(ascending=False).head()"
   ]
  },
  {
   "cell_type": "code",
   "execution_count": 31,
   "id": "fa642f65",
   "metadata": {},
   "outputs": [
    {
     "data": {
      "text/plain": [
       "transaction_number    0\n",
       "amount                0\n",
       "item                  0\n",
       "dtype: int64"
      ]
     },
     "execution_count": 31,
     "metadata": {},
     "output_type": "execute_result"
    }
   ],
   "source": [
    "df.isnull().sum()\n"
   ]
  },
  {
   "cell_type": "code",
   "execution_count": 32,
   "id": "7b4cfbaf",
   "metadata": {},
   "outputs": [
    {
     "data": {
      "text/html": [
       "<div>\n",
       "<style scoped>\n",
       "    .dataframe tbody tr th:only-of-type {\n",
       "        vertical-align: middle;\n",
       "    }\n",
       "\n",
       "    .dataframe tbody tr th {\n",
       "        vertical-align: top;\n",
       "    }\n",
       "\n",
       "    .dataframe thead th {\n",
       "        text-align: right;\n",
       "    }\n",
       "</style>\n",
       "<table border=\"1\" class=\"dataframe\">\n",
       "  <thead>\n",
       "    <tr style=\"text-align: right;\">\n",
       "      <th></th>\n",
       "      <th>transaction_number</th>\n",
       "      <th>amount</th>\n",
       "      <th>item</th>\n",
       "    </tr>\n",
       "  </thead>\n",
       "  <tbody>\n",
       "    <tr>\n",
       "      <th>36</th>\n",
       "      <td>781</td>\n",
       "      <td>1</td>\n",
       "      <td>Flat White Hot</td>\n",
       "    </tr>\n",
       "    <tr>\n",
       "      <th>38</th>\n",
       "      <td>781</td>\n",
       "      <td>1</td>\n",
       "      <td>Flat White Hot</td>\n",
       "    </tr>\n",
       "    <tr>\n",
       "      <th>46</th>\n",
       "      <td>785</td>\n",
       "      <td>1</td>\n",
       "      <td>V60</td>\n",
       "    </tr>\n",
       "    <tr>\n",
       "      <th>49</th>\n",
       "      <td>786</td>\n",
       "      <td>1</td>\n",
       "      <td>Cappucino Hot</td>\n",
       "    </tr>\n",
       "    <tr>\n",
       "      <th>60</th>\n",
       "      <td>795</td>\n",
       "      <td>1</td>\n",
       "      <td>Americano Iced</td>\n",
       "    </tr>\n",
       "    <tr>\n",
       "      <th>...</th>\n",
       "      <td>...</td>\n",
       "      <td>...</td>\n",
       "      <td>...</td>\n",
       "    </tr>\n",
       "    <tr>\n",
       "      <th>6499</th>\n",
       "      <td>5751</td>\n",
       "      <td>1</td>\n",
       "      <td>V60</td>\n",
       "    </tr>\n",
       "    <tr>\n",
       "      <th>6513</th>\n",
       "      <td>5770</td>\n",
       "      <td>1</td>\n",
       "      <td>Americano Iced</td>\n",
       "    </tr>\n",
       "    <tr>\n",
       "      <th>6536</th>\n",
       "      <td>5785</td>\n",
       "      <td>1</td>\n",
       "      <td>EspressoHot</td>\n",
       "    </tr>\n",
       "    <tr>\n",
       "      <th>6539</th>\n",
       "      <td>5788</td>\n",
       "      <td>1</td>\n",
       "      <td>Latte Iced</td>\n",
       "    </tr>\n",
       "    <tr>\n",
       "      <th>6542</th>\n",
       "      <td>5791</td>\n",
       "      <td>1</td>\n",
       "      <td>Latte Iced</td>\n",
       "    </tr>\n",
       "  </tbody>\n",
       "</table>\n",
       "<p>534 rows × 3 columns</p>\n",
       "</div>"
      ],
      "text/plain": [
       "      transaction_number  amount            item\n",
       "36                   781       1  Flat White Hot\n",
       "38                   781       1  Flat White Hot\n",
       "46                   785       1             V60\n",
       "49                   786       1   Cappucino Hot\n",
       "60                   795       1  Americano Iced\n",
       "...                  ...     ...             ...\n",
       "6499                5751       1             V60\n",
       "6513                5770       1  Americano Iced\n",
       "6536                5785       1     EspressoHot\n",
       "6539                5788       1      Latte Iced\n",
       "6542                5791       1      Latte Iced\n",
       "\n",
       "[534 rows x 3 columns]"
      ]
     },
     "execution_count": 32,
     "metadata": {},
     "output_type": "execute_result"
    }
   ],
   "source": [
    "df[df.duplicated()]"
   ]
  },
  {
   "cell_type": "code",
   "execution_count": 33,
   "id": "fea13941",
   "metadata": {},
   "outputs": [
    {
     "data": {
      "text/html": [
       "<div>\n",
       "<style scoped>\n",
       "    .dataframe tbody tr th:only-of-type {\n",
       "        vertical-align: middle;\n",
       "    }\n",
       "\n",
       "    .dataframe tbody tr th {\n",
       "        vertical-align: top;\n",
       "    }\n",
       "\n",
       "    .dataframe thead th {\n",
       "        text-align: right;\n",
       "    }\n",
       "</style>\n",
       "<table border=\"1\" class=\"dataframe\">\n",
       "  <thead>\n",
       "    <tr style=\"text-align: right;\">\n",
       "      <th></th>\n",
       "      <th>transaction_number</th>\n",
       "      <th>amount</th>\n",
       "      <th>item</th>\n",
       "    </tr>\n",
       "  </thead>\n",
       "  <tbody>\n",
       "    <tr>\n",
       "      <th>0</th>\n",
       "      <td>6</td>\n",
       "      <td>1</td>\n",
       "      <td>Latte Hot</td>\n",
       "    </tr>\n",
       "    <tr>\n",
       "      <th>1</th>\n",
       "      <td>6</td>\n",
       "      <td>1</td>\n",
       "      <td>Americano Hot</td>\n",
       "    </tr>\n",
       "    <tr>\n",
       "      <th>2</th>\n",
       "      <td>6</td>\n",
       "      <td>1</td>\n",
       "      <td>V60</td>\n",
       "    </tr>\n",
       "    <tr>\n",
       "      <th>3</th>\n",
       "      <td>6</td>\n",
       "      <td>1</td>\n",
       "      <td>Brownies</td>\n",
       "    </tr>\n",
       "    <tr>\n",
       "      <th>4</th>\n",
       "      <td>7</td>\n",
       "      <td>1</td>\n",
       "      <td>V60</td>\n",
       "    </tr>\n",
       "  </tbody>\n",
       "</table>\n",
       "</div>"
      ],
      "text/plain": [
       "   transaction_number  amount           item\n",
       "0                   6       1      Latte Hot\n",
       "1                   6       1  Americano Hot\n",
       "2                   6       1            V60\n",
       "3                   6       1       Brownies\n",
       "4                   7       1            V60"
      ]
     },
     "execution_count": 33,
     "metadata": {},
     "output_type": "execute_result"
    }
   ],
   "source": [
    "df.head()"
   ]
  },
  {
   "cell_type": "code",
   "execution_count": 34,
   "id": "752a820e-843e-4b8d-9d1c-55e7acf9f3f9",
   "metadata": {
    "tags": []
   },
   "outputs": [
    {
     "name": "stdout",
     "output_type": "stream",
     "text": [
      "Dataset size:  (3131, 45)\n"
     ]
    },
    {
     "data": {
      "text/html": [
       "<div>\n",
       "<style scoped>\n",
       "    .dataframe tbody tr th:only-of-type {\n",
       "        vertical-align: middle;\n",
       "    }\n",
       "\n",
       "    .dataframe tbody tr th {\n",
       "        vertical-align: top;\n",
       "    }\n",
       "\n",
       "    .dataframe thead th {\n",
       "        text-align: right;\n",
       "    }\n",
       "</style>\n",
       "<table border=\"1\" class=\"dataframe\">\n",
       "  <thead>\n",
       "    <tr style=\"text-align: right;\">\n",
       "      <th>item</th>\n",
       "      <th>Almond Croisant</th>\n",
       "      <th>Americano Hot</th>\n",
       "      <th>Americano Iced</th>\n",
       "      <th>Apple Turnover</th>\n",
       "      <th>Blueberry Muffins</th>\n",
       "      <th>Brownies</th>\n",
       "      <th>Cake Of The Day</th>\n",
       "      <th>Cappucino Hot</th>\n",
       "      <th>Cappucino Iced</th>\n",
       "      <th>Carrot cake</th>\n",
       "      <th>...</th>\n",
       "      <th>Mochaccino Iced</th>\n",
       "      <th>Pain Au Chocolat</th>\n",
       "      <th>Pain Au Suisse</th>\n",
       "      <th>PiccoloHot</th>\n",
       "      <th>PiccoloIced</th>\n",
       "      <th>Pistachio Croissant</th>\n",
       "      <th>Plain Croisant</th>\n",
       "      <th>Tiramisu</th>\n",
       "      <th>Tiramisu cake</th>\n",
       "      <th>V60</th>\n",
       "    </tr>\n",
       "    <tr>\n",
       "      <th>transaction_number</th>\n",
       "      <th></th>\n",
       "      <th></th>\n",
       "      <th></th>\n",
       "      <th></th>\n",
       "      <th></th>\n",
       "      <th></th>\n",
       "      <th></th>\n",
       "      <th></th>\n",
       "      <th></th>\n",
       "      <th></th>\n",
       "      <th></th>\n",
       "      <th></th>\n",
       "      <th></th>\n",
       "      <th></th>\n",
       "      <th></th>\n",
       "      <th></th>\n",
       "      <th></th>\n",
       "      <th></th>\n",
       "      <th></th>\n",
       "      <th></th>\n",
       "      <th></th>\n",
       "    </tr>\n",
       "  </thead>\n",
       "  <tbody>\n",
       "    <tr>\n",
       "      <th>6</th>\n",
       "      <td>0.0</td>\n",
       "      <td>1.0</td>\n",
       "      <td>0.0</td>\n",
       "      <td>0.0</td>\n",
       "      <td>0.0</td>\n",
       "      <td>1.0</td>\n",
       "      <td>0.0</td>\n",
       "      <td>0.0</td>\n",
       "      <td>0.0</td>\n",
       "      <td>0.0</td>\n",
       "      <td>...</td>\n",
       "      <td>0.0</td>\n",
       "      <td>0.0</td>\n",
       "      <td>0.0</td>\n",
       "      <td>0.0</td>\n",
       "      <td>0.0</td>\n",
       "      <td>0.0</td>\n",
       "      <td>0.0</td>\n",
       "      <td>0.0</td>\n",
       "      <td>0.0</td>\n",
       "      <td>1.0</td>\n",
       "    </tr>\n",
       "    <tr>\n",
       "      <th>7</th>\n",
       "      <td>0.0</td>\n",
       "      <td>0.0</td>\n",
       "      <td>0.0</td>\n",
       "      <td>0.0</td>\n",
       "      <td>0.0</td>\n",
       "      <td>0.0</td>\n",
       "      <td>0.0</td>\n",
       "      <td>0.0</td>\n",
       "      <td>0.0</td>\n",
       "      <td>0.0</td>\n",
       "      <td>...</td>\n",
       "      <td>0.0</td>\n",
       "      <td>1.0</td>\n",
       "      <td>0.0</td>\n",
       "      <td>0.0</td>\n",
       "      <td>0.0</td>\n",
       "      <td>0.0</td>\n",
       "      <td>0.0</td>\n",
       "      <td>0.0</td>\n",
       "      <td>0.0</td>\n",
       "      <td>1.0</td>\n",
       "    </tr>\n",
       "    <tr>\n",
       "      <th>8</th>\n",
       "      <td>0.0</td>\n",
       "      <td>0.0</td>\n",
       "      <td>0.0</td>\n",
       "      <td>0.0</td>\n",
       "      <td>0.0</td>\n",
       "      <td>0.0</td>\n",
       "      <td>0.0</td>\n",
       "      <td>0.0</td>\n",
       "      <td>0.0</td>\n",
       "      <td>0.0</td>\n",
       "      <td>...</td>\n",
       "      <td>0.0</td>\n",
       "      <td>0.0</td>\n",
       "      <td>0.0</td>\n",
       "      <td>0.0</td>\n",
       "      <td>0.0</td>\n",
       "      <td>0.0</td>\n",
       "      <td>0.0</td>\n",
       "      <td>0.0</td>\n",
       "      <td>0.0</td>\n",
       "      <td>1.0</td>\n",
       "    </tr>\n",
       "    <tr>\n",
       "      <th>9</th>\n",
       "      <td>0.0</td>\n",
       "      <td>0.0</td>\n",
       "      <td>0.0</td>\n",
       "      <td>0.0</td>\n",
       "      <td>0.0</td>\n",
       "      <td>0.0</td>\n",
       "      <td>0.0</td>\n",
       "      <td>0.0</td>\n",
       "      <td>0.0</td>\n",
       "      <td>1.0</td>\n",
       "      <td>...</td>\n",
       "      <td>0.0</td>\n",
       "      <td>0.0</td>\n",
       "      <td>0.0</td>\n",
       "      <td>0.0</td>\n",
       "      <td>0.0</td>\n",
       "      <td>1.0</td>\n",
       "      <td>0.0</td>\n",
       "      <td>0.0</td>\n",
       "      <td>0.0</td>\n",
       "      <td>1.0</td>\n",
       "    </tr>\n",
       "    <tr>\n",
       "      <th>441</th>\n",
       "      <td>0.0</td>\n",
       "      <td>0.0</td>\n",
       "      <td>0.0</td>\n",
       "      <td>0.0</td>\n",
       "      <td>0.0</td>\n",
       "      <td>0.0</td>\n",
       "      <td>0.0</td>\n",
       "      <td>0.0</td>\n",
       "      <td>0.0</td>\n",
       "      <td>0.0</td>\n",
       "      <td>...</td>\n",
       "      <td>0.0</td>\n",
       "      <td>0.0</td>\n",
       "      <td>0.0</td>\n",
       "      <td>0.0</td>\n",
       "      <td>0.0</td>\n",
       "      <td>0.0</td>\n",
       "      <td>0.0</td>\n",
       "      <td>0.0</td>\n",
       "      <td>0.0</td>\n",
       "      <td>0.0</td>\n",
       "    </tr>\n",
       "    <tr>\n",
       "      <th>...</th>\n",
       "      <td>...</td>\n",
       "      <td>...</td>\n",
       "      <td>...</td>\n",
       "      <td>...</td>\n",
       "      <td>...</td>\n",
       "      <td>...</td>\n",
       "      <td>...</td>\n",
       "      <td>...</td>\n",
       "      <td>...</td>\n",
       "      <td>...</td>\n",
       "      <td>...</td>\n",
       "      <td>...</td>\n",
       "      <td>...</td>\n",
       "      <td>...</td>\n",
       "      <td>...</td>\n",
       "      <td>...</td>\n",
       "      <td>...</td>\n",
       "      <td>...</td>\n",
       "      <td>...</td>\n",
       "      <td>...</td>\n",
       "      <td>...</td>\n",
       "    </tr>\n",
       "    <tr>\n",
       "      <th>5798</th>\n",
       "      <td>0.0</td>\n",
       "      <td>0.0</td>\n",
       "      <td>0.0</td>\n",
       "      <td>0.0</td>\n",
       "      <td>0.0</td>\n",
       "      <td>0.0</td>\n",
       "      <td>0.0</td>\n",
       "      <td>0.0</td>\n",
       "      <td>1.0</td>\n",
       "      <td>0.0</td>\n",
       "      <td>...</td>\n",
       "      <td>0.0</td>\n",
       "      <td>0.0</td>\n",
       "      <td>0.0</td>\n",
       "      <td>0.0</td>\n",
       "      <td>0.0</td>\n",
       "      <td>0.0</td>\n",
       "      <td>0.0</td>\n",
       "      <td>0.0</td>\n",
       "      <td>0.0</td>\n",
       "      <td>0.0</td>\n",
       "    </tr>\n",
       "    <tr>\n",
       "      <th>5801</th>\n",
       "      <td>0.0</td>\n",
       "      <td>0.0</td>\n",
       "      <td>0.0</td>\n",
       "      <td>0.0</td>\n",
       "      <td>0.0</td>\n",
       "      <td>0.0</td>\n",
       "      <td>0.0</td>\n",
       "      <td>0.0</td>\n",
       "      <td>0.0</td>\n",
       "      <td>0.0</td>\n",
       "      <td>...</td>\n",
       "      <td>0.0</td>\n",
       "      <td>0.0</td>\n",
       "      <td>0.0</td>\n",
       "      <td>0.0</td>\n",
       "      <td>0.0</td>\n",
       "      <td>0.0</td>\n",
       "      <td>0.0</td>\n",
       "      <td>1.0</td>\n",
       "      <td>0.0</td>\n",
       "      <td>0.0</td>\n",
       "    </tr>\n",
       "    <tr>\n",
       "      <th>5802</th>\n",
       "      <td>0.0</td>\n",
       "      <td>0.0</td>\n",
       "      <td>0.0</td>\n",
       "      <td>0.0</td>\n",
       "      <td>0.0</td>\n",
       "      <td>0.0</td>\n",
       "      <td>0.0</td>\n",
       "      <td>0.0</td>\n",
       "      <td>0.0</td>\n",
       "      <td>0.0</td>\n",
       "      <td>...</td>\n",
       "      <td>0.0</td>\n",
       "      <td>0.0</td>\n",
       "      <td>0.0</td>\n",
       "      <td>1.0</td>\n",
       "      <td>0.0</td>\n",
       "      <td>0.0</td>\n",
       "      <td>0.0</td>\n",
       "      <td>0.0</td>\n",
       "      <td>0.0</td>\n",
       "      <td>0.0</td>\n",
       "    </tr>\n",
       "    <tr>\n",
       "      <th>5804</th>\n",
       "      <td>1.0</td>\n",
       "      <td>0.0</td>\n",
       "      <td>0.0</td>\n",
       "      <td>0.0</td>\n",
       "      <td>0.0</td>\n",
       "      <td>0.0</td>\n",
       "      <td>0.0</td>\n",
       "      <td>0.0</td>\n",
       "      <td>0.0</td>\n",
       "      <td>0.0</td>\n",
       "      <td>...</td>\n",
       "      <td>0.0</td>\n",
       "      <td>0.0</td>\n",
       "      <td>0.0</td>\n",
       "      <td>0.0</td>\n",
       "      <td>0.0</td>\n",
       "      <td>0.0</td>\n",
       "      <td>0.0</td>\n",
       "      <td>0.0</td>\n",
       "      <td>0.0</td>\n",
       "      <td>0.0</td>\n",
       "    </tr>\n",
       "    <tr>\n",
       "      <th>5806</th>\n",
       "      <td>1.0</td>\n",
       "      <td>0.0</td>\n",
       "      <td>0.0</td>\n",
       "      <td>0.0</td>\n",
       "      <td>0.0</td>\n",
       "      <td>0.0</td>\n",
       "      <td>0.0</td>\n",
       "      <td>0.0</td>\n",
       "      <td>0.0</td>\n",
       "      <td>0.0</td>\n",
       "      <td>...</td>\n",
       "      <td>0.0</td>\n",
       "      <td>0.0</td>\n",
       "      <td>0.0</td>\n",
       "      <td>0.0</td>\n",
       "      <td>0.0</td>\n",
       "      <td>0.0</td>\n",
       "      <td>0.0</td>\n",
       "      <td>0.0</td>\n",
       "      <td>0.0</td>\n",
       "      <td>0.0</td>\n",
       "    </tr>\n",
       "  </tbody>\n",
       "</table>\n",
       "<p>3131 rows × 45 columns</p>\n",
       "</div>"
      ],
      "text/plain": [
       "item                Almond Croisant  Americano Hot  Americano Iced  \\\n",
       "transaction_number                                                   \n",
       "6                               0.0            1.0             0.0   \n",
       "7                               0.0            0.0             0.0   \n",
       "8                               0.0            0.0             0.0   \n",
       "9                               0.0            0.0             0.0   \n",
       "441                             0.0            0.0             0.0   \n",
       "...                             ...            ...             ...   \n",
       "5798                            0.0            0.0             0.0   \n",
       "5801                            0.0            0.0             0.0   \n",
       "5802                            0.0            0.0             0.0   \n",
       "5804                            1.0            0.0             0.0   \n",
       "5806                            1.0            0.0             0.0   \n",
       "\n",
       "item                Apple Turnover  Blueberry Muffins  Brownies  \\\n",
       "transaction_number                                                \n",
       "6                              0.0                0.0       1.0   \n",
       "7                              0.0                0.0       0.0   \n",
       "8                              0.0                0.0       0.0   \n",
       "9                              0.0                0.0       0.0   \n",
       "441                            0.0                0.0       0.0   \n",
       "...                            ...                ...       ...   \n",
       "5798                           0.0                0.0       0.0   \n",
       "5801                           0.0                0.0       0.0   \n",
       "5802                           0.0                0.0       0.0   \n",
       "5804                           0.0                0.0       0.0   \n",
       "5806                           0.0                0.0       0.0   \n",
       "\n",
       "item                Cake Of The Day  Cappucino Hot  Cappucino Iced  \\\n",
       "transaction_number                                                   \n",
       "6                               0.0            0.0             0.0   \n",
       "7                               0.0            0.0             0.0   \n",
       "8                               0.0            0.0             0.0   \n",
       "9                               0.0            0.0             0.0   \n",
       "441                             0.0            0.0             0.0   \n",
       "...                             ...            ...             ...   \n",
       "5798                            0.0            0.0             1.0   \n",
       "5801                            0.0            0.0             0.0   \n",
       "5802                            0.0            0.0             0.0   \n",
       "5804                            0.0            0.0             0.0   \n",
       "5806                            0.0            0.0             0.0   \n",
       "\n",
       "item                Carrot cake  ...  Mochaccino Iced  Pain Au Chocolat  \\\n",
       "transaction_number               ...                                      \n",
       "6                           0.0  ...              0.0               0.0   \n",
       "7                           0.0  ...              0.0               1.0   \n",
       "8                           0.0  ...              0.0               0.0   \n",
       "9                           1.0  ...              0.0               0.0   \n",
       "441                         0.0  ...              0.0               0.0   \n",
       "...                         ...  ...              ...               ...   \n",
       "5798                        0.0  ...              0.0               0.0   \n",
       "5801                        0.0  ...              0.0               0.0   \n",
       "5802                        0.0  ...              0.0               0.0   \n",
       "5804                        0.0  ...              0.0               0.0   \n",
       "5806                        0.0  ...              0.0               0.0   \n",
       "\n",
       "item                Pain Au Suisse  PiccoloHot  PiccoloIced  \\\n",
       "transaction_number                                            \n",
       "6                              0.0         0.0          0.0   \n",
       "7                              0.0         0.0          0.0   \n",
       "8                              0.0         0.0          0.0   \n",
       "9                              0.0         0.0          0.0   \n",
       "441                            0.0         0.0          0.0   \n",
       "...                            ...         ...          ...   \n",
       "5798                           0.0         0.0          0.0   \n",
       "5801                           0.0         0.0          0.0   \n",
       "5802                           0.0         1.0          0.0   \n",
       "5804                           0.0         0.0          0.0   \n",
       "5806                           0.0         0.0          0.0   \n",
       "\n",
       "item                Pistachio Croissant  Plain Croisant  Tiramisu  \\\n",
       "transaction_number                                                  \n",
       "6                                   0.0             0.0       0.0   \n",
       "7                                   0.0             0.0       0.0   \n",
       "8                                   0.0             0.0       0.0   \n",
       "9                                   1.0             0.0       0.0   \n",
       "441                                 0.0             0.0       0.0   \n",
       "...                                 ...             ...       ...   \n",
       "5798                                0.0             0.0       0.0   \n",
       "5801                                0.0             0.0       1.0   \n",
       "5802                                0.0             0.0       0.0   \n",
       "5804                                0.0             0.0       0.0   \n",
       "5806                                0.0             0.0       0.0   \n",
       "\n",
       "item                Tiramisu cake  V60  \n",
       "transaction_number                      \n",
       "6                             0.0  1.0  \n",
       "7                             0.0  1.0  \n",
       "8                             0.0  1.0  \n",
       "9                             0.0  1.0  \n",
       "441                           0.0  0.0  \n",
       "...                           ...  ...  \n",
       "5798                          0.0  0.0  \n",
       "5801                          0.0  0.0  \n",
       "5802                          0.0  0.0  \n",
       "5804                          0.0  0.0  \n",
       "5806                          0.0  0.0  \n",
       "\n",
       "[3131 rows x 45 columns]"
      ]
     },
     "execution_count": 34,
     "metadata": {},
     "output_type": "execute_result"
    }
   ],
   "source": [
    "df_pivot = df.pivot_table(\n",
    "    index='transaction_number',\n",
    "    columns ='item',\n",
    "    values = 'amount',\n",
    "    aggfunc='sum').fillna(0)\n",
    "\n",
    "print(\"Dataset size: \", df_pivot.shape)\n",
    "df_pivot"
   ]
  },
  {
   "cell_type": "code",
   "execution_count": 35,
   "id": "bfec8043-b42f-4695-8aa2-de733039d0ee",
   "metadata": {
    "tags": []
   },
   "outputs": [
    {
     "data": {
      "text/html": [
       "<style type=\"text/css\">\n",
       "#T_d21dc_row0_col0, #T_d21dc_row0_col1, #T_d21dc_row0_col3, #T_d21dc_row0_col4, #T_d21dc_row0_col5, #T_d21dc_row0_col6, #T_d21dc_row0_col7, #T_d21dc_row0_col9, #T_d21dc_row0_col10, #T_d21dc_row1_col1, #T_d21dc_row1_col3, #T_d21dc_row1_col4, #T_d21dc_row1_col6, #T_d21dc_row1_col7, #T_d21dc_row1_col9, #T_d21dc_row2_col0, #T_d21dc_row2_col1, #T_d21dc_row2_col2, #T_d21dc_row2_col3, #T_d21dc_row2_col4, #T_d21dc_row2_col5, #T_d21dc_row2_col7, #T_d21dc_row2_col8, #T_d21dc_row2_col9, #T_d21dc_row2_col10, #T_d21dc_row3_col0, #T_d21dc_row3_col1, #T_d21dc_row3_col2, #T_d21dc_row3_col3, #T_d21dc_row3_col4, #T_d21dc_row3_col5, #T_d21dc_row3_col6, #T_d21dc_row3_col7, #T_d21dc_row3_col8, #T_d21dc_row3_col9, #T_d21dc_row3_col10, #T_d21dc_row4_col0, #T_d21dc_row4_col1, #T_d21dc_row4_col2, #T_d21dc_row4_col3, #T_d21dc_row4_col4, #T_d21dc_row4_col5, #T_d21dc_row4_col6, #T_d21dc_row4_col7, #T_d21dc_row4_col8, #T_d21dc_row4_col9, #T_d21dc_row4_col10, #T_d21dc_row5_col0, #T_d21dc_row5_col1, #T_d21dc_row5_col2, #T_d21dc_row5_col3, #T_d21dc_row5_col4, #T_d21dc_row5_col5, #T_d21dc_row5_col6, #T_d21dc_row5_col7, #T_d21dc_row5_col9, #T_d21dc_row5_col10, #T_d21dc_row6_col0, #T_d21dc_row6_col1, #T_d21dc_row6_col2, #T_d21dc_row6_col3, #T_d21dc_row6_col4, #T_d21dc_row6_col7, #T_d21dc_row6_col8, #T_d21dc_row6_col9, #T_d21dc_row6_col10, #T_d21dc_row7_col1, #T_d21dc_row7_col2, #T_d21dc_row7_col3, #T_d21dc_row7_col4, #T_d21dc_row7_col6, #T_d21dc_row7_col7, #T_d21dc_row7_col8, #T_d21dc_row7_col9, #T_d21dc_row8_col0, #T_d21dc_row8_col1, #T_d21dc_row8_col2, #T_d21dc_row8_col3, #T_d21dc_row8_col5, #T_d21dc_row8_col6, #T_d21dc_row8_col7, #T_d21dc_row8_col8, #T_d21dc_row8_col9, #T_d21dc_row8_col10, #T_d21dc_row9_col0, #T_d21dc_row9_col1, #T_d21dc_row9_col2, #T_d21dc_row9_col3, #T_d21dc_row9_col4, #T_d21dc_row9_col5, #T_d21dc_row9_col6, #T_d21dc_row9_col7, #T_d21dc_row9_col8, #T_d21dc_row9_col9, #T_d21dc_row10_col0, #T_d21dc_row10_col1, #T_d21dc_row10_col2, #T_d21dc_row10_col3, #T_d21dc_row10_col4, #T_d21dc_row10_col5, #T_d21dc_row10_col6, #T_d21dc_row10_col7, #T_d21dc_row10_col8, #T_d21dc_row10_col9, #T_d21dc_row10_col10, #T_d21dc_row11_col0, #T_d21dc_row11_col1, #T_d21dc_row11_col2, #T_d21dc_row11_col3, #T_d21dc_row11_col4, #T_d21dc_row11_col5, #T_d21dc_row11_col6, #T_d21dc_row11_col7, #T_d21dc_row11_col8, #T_d21dc_row11_col9, #T_d21dc_row11_col10, #T_d21dc_row12_col0, #T_d21dc_row12_col1, #T_d21dc_row12_col2, #T_d21dc_row12_col3, #T_d21dc_row12_col4, #T_d21dc_row12_col5, #T_d21dc_row12_col6, #T_d21dc_row12_col7, #T_d21dc_row12_col8, #T_d21dc_row12_col9, #T_d21dc_row12_col10, #T_d21dc_row13_col0, #T_d21dc_row13_col1, #T_d21dc_row13_col2, #T_d21dc_row13_col3, #T_d21dc_row13_col4, #T_d21dc_row13_col5, #T_d21dc_row13_col6, #T_d21dc_row13_col7, #T_d21dc_row13_col8, #T_d21dc_row13_col9, #T_d21dc_row13_col10, #T_d21dc_row14_col0, #T_d21dc_row14_col1, #T_d21dc_row14_col2, #T_d21dc_row14_col3, #T_d21dc_row14_col4, #T_d21dc_row14_col5, #T_d21dc_row14_col6, #T_d21dc_row14_col7, #T_d21dc_row14_col8, #T_d21dc_row14_col9, #T_d21dc_row14_col10, #T_d21dc_row15_col0, #T_d21dc_row15_col1, #T_d21dc_row15_col2, #T_d21dc_row15_col3, #T_d21dc_row15_col4, #T_d21dc_row15_col5, #T_d21dc_row15_col6, #T_d21dc_row15_col7, #T_d21dc_row15_col9, #T_d21dc_row15_col10, #T_d21dc_row16_col0, #T_d21dc_row16_col1, #T_d21dc_row16_col2, #T_d21dc_row16_col3, #T_d21dc_row16_col4, #T_d21dc_row16_col5, #T_d21dc_row16_col7, #T_d21dc_row16_col8, #T_d21dc_row16_col9, #T_d21dc_row16_col10, #T_d21dc_row17_col1, #T_d21dc_row17_col2, #T_d21dc_row17_col3, #T_d21dc_row17_col4, #T_d21dc_row17_col5, #T_d21dc_row17_col6, #T_d21dc_row17_col7, #T_d21dc_row17_col8, #T_d21dc_row17_col9, #T_d21dc_row17_col10, #T_d21dc_row18_col0, #T_d21dc_row18_col1, #T_d21dc_row18_col2, #T_d21dc_row18_col3, #T_d21dc_row18_col4, #T_d21dc_row18_col5, #T_d21dc_row18_col6, #T_d21dc_row18_col7, #T_d21dc_row18_col8, #T_d21dc_row18_col9, #T_d21dc_row18_col10, #T_d21dc_row19_col0, #T_d21dc_row19_col1, #T_d21dc_row19_col2, #T_d21dc_row19_col3, #T_d21dc_row19_col4, #T_d21dc_row19_col5, #T_d21dc_row19_col6, #T_d21dc_row19_col7, #T_d21dc_row19_col8, #T_d21dc_row19_col9, #T_d21dc_row19_col10, #T_d21dc_row20_col0, #T_d21dc_row20_col1, #T_d21dc_row20_col2, #T_d21dc_row20_col3, #T_d21dc_row20_col4, #T_d21dc_row20_col5, #T_d21dc_row20_col6, #T_d21dc_row20_col7, #T_d21dc_row20_col8, #T_d21dc_row20_col9, #T_d21dc_row20_col10, #T_d21dc_row21_col0, #T_d21dc_row21_col1, #T_d21dc_row21_col2, #T_d21dc_row21_col3, #T_d21dc_row21_col4, #T_d21dc_row21_col5, #T_d21dc_row21_col6, #T_d21dc_row21_col7, #T_d21dc_row21_col8, #T_d21dc_row21_col9, #T_d21dc_row22_col0, #T_d21dc_row22_col4, #T_d21dc_row22_col5, #T_d21dc_row22_col8, #T_d21dc_row22_col9, #T_d21dc_row22_col10, #T_d21dc_row23_col1, #T_d21dc_row23_col2, #T_d21dc_row23_col4, #T_d21dc_row23_col5, #T_d21dc_row23_col7, #T_d21dc_row23_col9, #T_d21dc_row23_col10, #T_d21dc_row24_col0, #T_d21dc_row24_col1, #T_d21dc_row24_col2, #T_d21dc_row24_col3, #T_d21dc_row24_col4, #T_d21dc_row24_col5, #T_d21dc_row24_col6, #T_d21dc_row24_col7, #T_d21dc_row24_col8, #T_d21dc_row24_col9, #T_d21dc_row24_col10, #T_d21dc_row25_col0, #T_d21dc_row25_col1, #T_d21dc_row25_col2, #T_d21dc_row25_col3, #T_d21dc_row25_col4, #T_d21dc_row25_col5, #T_d21dc_row25_col6, #T_d21dc_row25_col7, #T_d21dc_row25_col8, #T_d21dc_row25_col9, #T_d21dc_row25_col10, #T_d21dc_row26_col0, #T_d21dc_row26_col1, #T_d21dc_row26_col2, #T_d21dc_row26_col3, #T_d21dc_row26_col4, #T_d21dc_row26_col5, #T_d21dc_row26_col6, #T_d21dc_row26_col7, #T_d21dc_row26_col8, #T_d21dc_row26_col9, #T_d21dc_row26_col10, #T_d21dc_row27_col0, #T_d21dc_row27_col1, #T_d21dc_row27_col2, #T_d21dc_row27_col3, #T_d21dc_row27_col4, #T_d21dc_row27_col5, #T_d21dc_row27_col6, #T_d21dc_row27_col7, #T_d21dc_row27_col8, #T_d21dc_row27_col9, #T_d21dc_row27_col10, #T_d21dc_row28_col0, #T_d21dc_row28_col1, #T_d21dc_row28_col2, #T_d21dc_row28_col3, #T_d21dc_row28_col4, #T_d21dc_row28_col5, #T_d21dc_row28_col6, #T_d21dc_row28_col7, #T_d21dc_row28_col8, #T_d21dc_row28_col9, #T_d21dc_row28_col10, #T_d21dc_row29_col0, #T_d21dc_row29_col1, #T_d21dc_row29_col2, #T_d21dc_row29_col3, #T_d21dc_row29_col4, #T_d21dc_row29_col5, #T_d21dc_row29_col6, #T_d21dc_row29_col7, #T_d21dc_row29_col8, #T_d21dc_row29_col9, #T_d21dc_row29_col10, #T_d21dc_row30_col0, #T_d21dc_row30_col1, #T_d21dc_row30_col2, #T_d21dc_row30_col3, #T_d21dc_row30_col4, #T_d21dc_row30_col5, #T_d21dc_row30_col6, #T_d21dc_row30_col7, #T_d21dc_row30_col8, #T_d21dc_row30_col9, #T_d21dc_row30_col10, #T_d21dc_row31_col0, #T_d21dc_row31_col1, #T_d21dc_row31_col2, #T_d21dc_row31_col3, #T_d21dc_row31_col4, #T_d21dc_row31_col5, #T_d21dc_row31_col6, #T_d21dc_row31_col7, #T_d21dc_row31_col8, #T_d21dc_row31_col9, #T_d21dc_row31_col10, #T_d21dc_row32_col0, #T_d21dc_row32_col1, #T_d21dc_row32_col2, #T_d21dc_row32_col3, #T_d21dc_row32_col4, #T_d21dc_row32_col5, #T_d21dc_row32_col6, #T_d21dc_row32_col7, #T_d21dc_row32_col8, #T_d21dc_row32_col9, #T_d21dc_row33_col0, #T_d21dc_row33_col1, #T_d21dc_row33_col2, #T_d21dc_row33_col3, #T_d21dc_row33_col4, #T_d21dc_row33_col5, #T_d21dc_row33_col6, #T_d21dc_row33_col7, #T_d21dc_row33_col8, #T_d21dc_row33_col9, #T_d21dc_row33_col10, #T_d21dc_row34_col0, #T_d21dc_row34_col1, #T_d21dc_row34_col2, #T_d21dc_row34_col3, #T_d21dc_row34_col4, #T_d21dc_row34_col5, #T_d21dc_row34_col6, #T_d21dc_row34_col8, #T_d21dc_row34_col9, #T_d21dc_row34_col10, #T_d21dc_row35_col0, #T_d21dc_row35_col1, #T_d21dc_row35_col2, #T_d21dc_row35_col3, #T_d21dc_row35_col4, #T_d21dc_row35_col5, #T_d21dc_row35_col6, #T_d21dc_row35_col7, #T_d21dc_row35_col8, #T_d21dc_row35_col9, #T_d21dc_row35_col10, #T_d21dc_row36_col0, #T_d21dc_row36_col1, #T_d21dc_row36_col3, #T_d21dc_row36_col4, #T_d21dc_row36_col5, #T_d21dc_row36_col6, #T_d21dc_row36_col7, #T_d21dc_row36_col8, #T_d21dc_row36_col9, #T_d21dc_row37_col0, #T_d21dc_row37_col1, #T_d21dc_row37_col2, #T_d21dc_row37_col3, #T_d21dc_row37_col4, #T_d21dc_row37_col5, #T_d21dc_row37_col6, #T_d21dc_row37_col7, #T_d21dc_row37_col8, #T_d21dc_row37_col9, #T_d21dc_row37_col10, #T_d21dc_row38_col0, #T_d21dc_row38_col1, #T_d21dc_row38_col2, #T_d21dc_row38_col3, #T_d21dc_row38_col5, #T_d21dc_row38_col6, #T_d21dc_row38_col7, #T_d21dc_row38_col8, #T_d21dc_row38_col9, #T_d21dc_row38_col10, #T_d21dc_row39_col0, #T_d21dc_row39_col1, #T_d21dc_row39_col2, #T_d21dc_row39_col3, #T_d21dc_row39_col4, #T_d21dc_row39_col5, #T_d21dc_row39_col6, #T_d21dc_row39_col7, #T_d21dc_row39_col8, #T_d21dc_row39_col9, #T_d21dc_row39_col10, #T_d21dc_row40_col0, #T_d21dc_row40_col1, #T_d21dc_row40_col2, #T_d21dc_row40_col3, #T_d21dc_row40_col4, #T_d21dc_row40_col5, #T_d21dc_row40_col6, #T_d21dc_row40_col7, #T_d21dc_row40_col9, #T_d21dc_row40_col10, #T_d21dc_row41_col0, #T_d21dc_row41_col1, #T_d21dc_row41_col2, #T_d21dc_row41_col3, #T_d21dc_row41_col5, #T_d21dc_row41_col6, #T_d21dc_row41_col8, #T_d21dc_row41_col10, #T_d21dc_row42_col0, #T_d21dc_row42_col1, #T_d21dc_row42_col2, #T_d21dc_row42_col3, #T_d21dc_row42_col4, #T_d21dc_row42_col5, #T_d21dc_row42_col6, #T_d21dc_row42_col7, #T_d21dc_row42_col8, #T_d21dc_row42_col9, #T_d21dc_row42_col10, #T_d21dc_row43_col0, #T_d21dc_row43_col1, #T_d21dc_row43_col2, #T_d21dc_row43_col3, #T_d21dc_row43_col4, #T_d21dc_row43_col5, #T_d21dc_row43_col6, #T_d21dc_row43_col7, #T_d21dc_row43_col8, #T_d21dc_row43_col9, #T_d21dc_row43_col10, #T_d21dc_row44_col0, #T_d21dc_row44_col1, #T_d21dc_row44_col2, #T_d21dc_row44_col3, #T_d21dc_row44_col4, #T_d21dc_row44_col5, #T_d21dc_row44_col6, #T_d21dc_row44_col7, #T_d21dc_row44_col8, #T_d21dc_row44_col9, #T_d21dc_row44_col10 {\n",
       "  background-color: #fff7fb;\n",
       "  color: #000000;\n",
       "}\n",
       "#T_d21dc_row0_col2, #T_d21dc_row1_col2, #T_d21dc_row1_col5, #T_d21dc_row1_col8, #T_d21dc_row1_col10, #T_d21dc_row2_col6, #T_d21dc_row5_col8, #T_d21dc_row6_col5, #T_d21dc_row6_col6, #T_d21dc_row7_col10, #T_d21dc_row9_col10, #T_d21dc_row15_col8, #T_d21dc_row16_col6, #T_d21dc_row17_col0, #T_d21dc_row21_col10, #T_d21dc_row22_col6, #T_d21dc_row23_col8, #T_d21dc_row32_col10, #T_d21dc_row34_col7, #T_d21dc_row36_col2, #T_d21dc_row41_col7 {\n",
       "  background-color: #e3e0ee;\n",
       "  color: #000000;\n",
       "}\n",
       "#T_d21dc_row0_col8, #T_d21dc_row7_col5, #T_d21dc_row8_col4, #T_d21dc_row22_col1, #T_d21dc_row22_col7, #T_d21dc_row23_col3, #T_d21dc_row36_col10, #T_d21dc_row38_col4 {\n",
       "  background-color: #046198;\n",
       "  color: #f1f1f1;\n",
       "}\n",
       "#T_d21dc_row1_col0, #T_d21dc_row7_col0, #T_d21dc_row41_col4 {\n",
       "  background-color: #b4c4df;\n",
       "  color: #000000;\n",
       "}\n",
       "#T_d21dc_row22_col2, #T_d21dc_row23_col0, #T_d21dc_row23_col6, #T_d21dc_row41_col9 {\n",
       "  background-color: #023858;\n",
       "  color: #f1f1f1;\n",
       "}\n",
       "#T_d21dc_row22_col3 {\n",
       "  background-color: #73a9cf;\n",
       "  color: #f1f1f1;\n",
       "}\n",
       "#T_d21dc_row40_col8 {\n",
       "  background-color: #2685bb;\n",
       "  color: #f1f1f1;\n",
       "}\n",
       "</style>\n",
       "<table id=\"T_d21dc\">\n",
       "  <thead>\n",
       "    <tr>\n",
       "      <th class=\"index_name level0\" >transaction_number</th>\n",
       "      <th id=\"T_d21dc_level0_col0\" class=\"col_heading level0 col0\" >1096</th>\n",
       "      <th id=\"T_d21dc_level0_col1\" class=\"col_heading level0 col1\" >1160</th>\n",
       "      <th id=\"T_d21dc_level0_col2\" class=\"col_heading level0 col2\" >1337</th>\n",
       "      <th id=\"T_d21dc_level0_col3\" class=\"col_heading level0 col3\" >2296</th>\n",
       "      <th id=\"T_d21dc_level0_col4\" class=\"col_heading level0 col4\" >2430</th>\n",
       "      <th id=\"T_d21dc_level0_col5\" class=\"col_heading level0 col5\" >2620</th>\n",
       "      <th id=\"T_d21dc_level0_col6\" class=\"col_heading level0 col6\" >2650</th>\n",
       "      <th id=\"T_d21dc_level0_col7\" class=\"col_heading level0 col7\" >3157</th>\n",
       "      <th id=\"T_d21dc_level0_col8\" class=\"col_heading level0 col8\" >4708</th>\n",
       "      <th id=\"T_d21dc_level0_col9\" class=\"col_heading level0 col9\" >5580</th>\n",
       "      <th id=\"T_d21dc_level0_col10\" class=\"col_heading level0 col10\" >5666</th>\n",
       "    </tr>\n",
       "    <tr>\n",
       "      <th class=\"index_name level0\" >item</th>\n",
       "      <th class=\"blank col0\" >&nbsp;</th>\n",
       "      <th class=\"blank col1\" >&nbsp;</th>\n",
       "      <th class=\"blank col2\" >&nbsp;</th>\n",
       "      <th class=\"blank col3\" >&nbsp;</th>\n",
       "      <th class=\"blank col4\" >&nbsp;</th>\n",
       "      <th class=\"blank col5\" >&nbsp;</th>\n",
       "      <th class=\"blank col6\" >&nbsp;</th>\n",
       "      <th class=\"blank col7\" >&nbsp;</th>\n",
       "      <th class=\"blank col8\" >&nbsp;</th>\n",
       "      <th class=\"blank col9\" >&nbsp;</th>\n",
       "      <th class=\"blank col10\" >&nbsp;</th>\n",
       "    </tr>\n",
       "  </thead>\n",
       "  <tbody>\n",
       "    <tr>\n",
       "      <th id=\"T_d21dc_level0_row0\" class=\"row_heading level0 row0\" >Almond Croisant</th>\n",
       "      <td id=\"T_d21dc_row0_col0\" class=\"data row0 col0\" >0</td>\n",
       "      <td id=\"T_d21dc_row0_col1\" class=\"data row0 col1\" >0</td>\n",
       "      <td id=\"T_d21dc_row0_col2\" class=\"data row0 col2\" >1</td>\n",
       "      <td id=\"T_d21dc_row0_col3\" class=\"data row0 col3\" >0</td>\n",
       "      <td id=\"T_d21dc_row0_col4\" class=\"data row0 col4\" >0</td>\n",
       "      <td id=\"T_d21dc_row0_col5\" class=\"data row0 col5\" >0</td>\n",
       "      <td id=\"T_d21dc_row0_col6\" class=\"data row0 col6\" >0</td>\n",
       "      <td id=\"T_d21dc_row0_col7\" class=\"data row0 col7\" >0</td>\n",
       "      <td id=\"T_d21dc_row0_col8\" class=\"data row0 col8\" >5</td>\n",
       "      <td id=\"T_d21dc_row0_col9\" class=\"data row0 col9\" >0</td>\n",
       "      <td id=\"T_d21dc_row0_col10\" class=\"data row0 col10\" >0</td>\n",
       "    </tr>\n",
       "    <tr>\n",
       "      <th id=\"T_d21dc_level0_row1\" class=\"row_heading level0 row1\" >Americano Hot</th>\n",
       "      <td id=\"T_d21dc_row1_col0\" class=\"data row1 col0\" >2</td>\n",
       "      <td id=\"T_d21dc_row1_col1\" class=\"data row1 col1\" >0</td>\n",
       "      <td id=\"T_d21dc_row1_col2\" class=\"data row1 col2\" >1</td>\n",
       "      <td id=\"T_d21dc_row1_col3\" class=\"data row1 col3\" >0</td>\n",
       "      <td id=\"T_d21dc_row1_col4\" class=\"data row1 col4\" >0</td>\n",
       "      <td id=\"T_d21dc_row1_col5\" class=\"data row1 col5\" >1</td>\n",
       "      <td id=\"T_d21dc_row1_col6\" class=\"data row1 col6\" >0</td>\n",
       "      <td id=\"T_d21dc_row1_col7\" class=\"data row1 col7\" >0</td>\n",
       "      <td id=\"T_d21dc_row1_col8\" class=\"data row1 col8\" >1</td>\n",
       "      <td id=\"T_d21dc_row1_col9\" class=\"data row1 col9\" >0</td>\n",
       "      <td id=\"T_d21dc_row1_col10\" class=\"data row1 col10\" >1</td>\n",
       "    </tr>\n",
       "    <tr>\n",
       "      <th id=\"T_d21dc_level0_row2\" class=\"row_heading level0 row2\" >Americano Iced</th>\n",
       "      <td id=\"T_d21dc_row2_col0\" class=\"data row2 col0\" >0</td>\n",
       "      <td id=\"T_d21dc_row2_col1\" class=\"data row2 col1\" >0</td>\n",
       "      <td id=\"T_d21dc_row2_col2\" class=\"data row2 col2\" >0</td>\n",
       "      <td id=\"T_d21dc_row2_col3\" class=\"data row2 col3\" >0</td>\n",
       "      <td id=\"T_d21dc_row2_col4\" class=\"data row2 col4\" >0</td>\n",
       "      <td id=\"T_d21dc_row2_col5\" class=\"data row2 col5\" >0</td>\n",
       "      <td id=\"T_d21dc_row2_col6\" class=\"data row2 col6\" >1</td>\n",
       "      <td id=\"T_d21dc_row2_col7\" class=\"data row2 col7\" >0</td>\n",
       "      <td id=\"T_d21dc_row2_col8\" class=\"data row2 col8\" >0</td>\n",
       "      <td id=\"T_d21dc_row2_col9\" class=\"data row2 col9\" >0</td>\n",
       "      <td id=\"T_d21dc_row2_col10\" class=\"data row2 col10\" >0</td>\n",
       "    </tr>\n",
       "    <tr>\n",
       "      <th id=\"T_d21dc_level0_row3\" class=\"row_heading level0 row3\" >Apple Turnover</th>\n",
       "      <td id=\"T_d21dc_row3_col0\" class=\"data row3 col0\" >0</td>\n",
       "      <td id=\"T_d21dc_row3_col1\" class=\"data row3 col1\" >0</td>\n",
       "      <td id=\"T_d21dc_row3_col2\" class=\"data row3 col2\" >0</td>\n",
       "      <td id=\"T_d21dc_row3_col3\" class=\"data row3 col3\" >0</td>\n",
       "      <td id=\"T_d21dc_row3_col4\" class=\"data row3 col4\" >0</td>\n",
       "      <td id=\"T_d21dc_row3_col5\" class=\"data row3 col5\" >0</td>\n",
       "      <td id=\"T_d21dc_row3_col6\" class=\"data row3 col6\" >0</td>\n",
       "      <td id=\"T_d21dc_row3_col7\" class=\"data row3 col7\" >0</td>\n",
       "      <td id=\"T_d21dc_row3_col8\" class=\"data row3 col8\" >0</td>\n",
       "      <td id=\"T_d21dc_row3_col9\" class=\"data row3 col9\" >0</td>\n",
       "      <td id=\"T_d21dc_row3_col10\" class=\"data row3 col10\" >0</td>\n",
       "    </tr>\n",
       "    <tr>\n",
       "      <th id=\"T_d21dc_level0_row4\" class=\"row_heading level0 row4\" >Blueberry Muffins</th>\n",
       "      <td id=\"T_d21dc_row4_col0\" class=\"data row4 col0\" >0</td>\n",
       "      <td id=\"T_d21dc_row4_col1\" class=\"data row4 col1\" >0</td>\n",
       "      <td id=\"T_d21dc_row4_col2\" class=\"data row4 col2\" >0</td>\n",
       "      <td id=\"T_d21dc_row4_col3\" class=\"data row4 col3\" >0</td>\n",
       "      <td id=\"T_d21dc_row4_col4\" class=\"data row4 col4\" >0</td>\n",
       "      <td id=\"T_d21dc_row4_col5\" class=\"data row4 col5\" >0</td>\n",
       "      <td id=\"T_d21dc_row4_col6\" class=\"data row4 col6\" >0</td>\n",
       "      <td id=\"T_d21dc_row4_col7\" class=\"data row4 col7\" >0</td>\n",
       "      <td id=\"T_d21dc_row4_col8\" class=\"data row4 col8\" >0</td>\n",
       "      <td id=\"T_d21dc_row4_col9\" class=\"data row4 col9\" >0</td>\n",
       "      <td id=\"T_d21dc_row4_col10\" class=\"data row4 col10\" >0</td>\n",
       "    </tr>\n",
       "    <tr>\n",
       "      <th id=\"T_d21dc_level0_row5\" class=\"row_heading level0 row5\" >Brownies</th>\n",
       "      <td id=\"T_d21dc_row5_col0\" class=\"data row5 col0\" >0</td>\n",
       "      <td id=\"T_d21dc_row5_col1\" class=\"data row5 col1\" >0</td>\n",
       "      <td id=\"T_d21dc_row5_col2\" class=\"data row5 col2\" >0</td>\n",
       "      <td id=\"T_d21dc_row5_col3\" class=\"data row5 col3\" >0</td>\n",
       "      <td id=\"T_d21dc_row5_col4\" class=\"data row5 col4\" >0</td>\n",
       "      <td id=\"T_d21dc_row5_col5\" class=\"data row5 col5\" >0</td>\n",
       "      <td id=\"T_d21dc_row5_col6\" class=\"data row5 col6\" >0</td>\n",
       "      <td id=\"T_d21dc_row5_col7\" class=\"data row5 col7\" >0</td>\n",
       "      <td id=\"T_d21dc_row5_col8\" class=\"data row5 col8\" >1</td>\n",
       "      <td id=\"T_d21dc_row5_col9\" class=\"data row5 col9\" >0</td>\n",
       "      <td id=\"T_d21dc_row5_col10\" class=\"data row5 col10\" >0</td>\n",
       "    </tr>\n",
       "    <tr>\n",
       "      <th id=\"T_d21dc_level0_row6\" class=\"row_heading level0 row6\" >Cake Of The Day</th>\n",
       "      <td id=\"T_d21dc_row6_col0\" class=\"data row6 col0\" >0</td>\n",
       "      <td id=\"T_d21dc_row6_col1\" class=\"data row6 col1\" >0</td>\n",
       "      <td id=\"T_d21dc_row6_col2\" class=\"data row6 col2\" >0</td>\n",
       "      <td id=\"T_d21dc_row6_col3\" class=\"data row6 col3\" >0</td>\n",
       "      <td id=\"T_d21dc_row6_col4\" class=\"data row6 col4\" >0</td>\n",
       "      <td id=\"T_d21dc_row6_col5\" class=\"data row6 col5\" >1</td>\n",
       "      <td id=\"T_d21dc_row6_col6\" class=\"data row6 col6\" >1</td>\n",
       "      <td id=\"T_d21dc_row6_col7\" class=\"data row6 col7\" >0</td>\n",
       "      <td id=\"T_d21dc_row6_col8\" class=\"data row6 col8\" >0</td>\n",
       "      <td id=\"T_d21dc_row6_col9\" class=\"data row6 col9\" >0</td>\n",
       "      <td id=\"T_d21dc_row6_col10\" class=\"data row6 col10\" >0</td>\n",
       "    </tr>\n",
       "    <tr>\n",
       "      <th id=\"T_d21dc_level0_row7\" class=\"row_heading level0 row7\" >Cappucino Hot</th>\n",
       "      <td id=\"T_d21dc_row7_col0\" class=\"data row7 col0\" >2</td>\n",
       "      <td id=\"T_d21dc_row7_col1\" class=\"data row7 col1\" >0</td>\n",
       "      <td id=\"T_d21dc_row7_col2\" class=\"data row7 col2\" >0</td>\n",
       "      <td id=\"T_d21dc_row7_col3\" class=\"data row7 col3\" >0</td>\n",
       "      <td id=\"T_d21dc_row7_col4\" class=\"data row7 col4\" >0</td>\n",
       "      <td id=\"T_d21dc_row7_col5\" class=\"data row7 col5\" >5</td>\n",
       "      <td id=\"T_d21dc_row7_col6\" class=\"data row7 col6\" >0</td>\n",
       "      <td id=\"T_d21dc_row7_col7\" class=\"data row7 col7\" >0</td>\n",
       "      <td id=\"T_d21dc_row7_col8\" class=\"data row7 col8\" >0</td>\n",
       "      <td id=\"T_d21dc_row7_col9\" class=\"data row7 col9\" >0</td>\n",
       "      <td id=\"T_d21dc_row7_col10\" class=\"data row7 col10\" >1</td>\n",
       "    </tr>\n",
       "    <tr>\n",
       "      <th id=\"T_d21dc_level0_row8\" class=\"row_heading level0 row8\" >Cappucino Iced</th>\n",
       "      <td id=\"T_d21dc_row8_col0\" class=\"data row8 col0\" >0</td>\n",
       "      <td id=\"T_d21dc_row8_col1\" class=\"data row8 col1\" >0</td>\n",
       "      <td id=\"T_d21dc_row8_col2\" class=\"data row8 col2\" >0</td>\n",
       "      <td id=\"T_d21dc_row8_col3\" class=\"data row8 col3\" >0</td>\n",
       "      <td id=\"T_d21dc_row8_col4\" class=\"data row8 col4\" >5</td>\n",
       "      <td id=\"T_d21dc_row8_col5\" class=\"data row8 col5\" >0</td>\n",
       "      <td id=\"T_d21dc_row8_col6\" class=\"data row8 col6\" >0</td>\n",
       "      <td id=\"T_d21dc_row8_col7\" class=\"data row8 col7\" >0</td>\n",
       "      <td id=\"T_d21dc_row8_col8\" class=\"data row8 col8\" >0</td>\n",
       "      <td id=\"T_d21dc_row8_col9\" class=\"data row8 col9\" >0</td>\n",
       "      <td id=\"T_d21dc_row8_col10\" class=\"data row8 col10\" >0</td>\n",
       "    </tr>\n",
       "    <tr>\n",
       "      <th id=\"T_d21dc_level0_row9\" class=\"row_heading level0 row9\" >Carrot cake</th>\n",
       "      <td id=\"T_d21dc_row9_col0\" class=\"data row9 col0\" >0</td>\n",
       "      <td id=\"T_d21dc_row9_col1\" class=\"data row9 col1\" >0</td>\n",
       "      <td id=\"T_d21dc_row9_col2\" class=\"data row9 col2\" >0</td>\n",
       "      <td id=\"T_d21dc_row9_col3\" class=\"data row9 col3\" >0</td>\n",
       "      <td id=\"T_d21dc_row9_col4\" class=\"data row9 col4\" >0</td>\n",
       "      <td id=\"T_d21dc_row9_col5\" class=\"data row9 col5\" >0</td>\n",
       "      <td id=\"T_d21dc_row9_col6\" class=\"data row9 col6\" >0</td>\n",
       "      <td id=\"T_d21dc_row9_col7\" class=\"data row9 col7\" >0</td>\n",
       "      <td id=\"T_d21dc_row9_col8\" class=\"data row9 col8\" >0</td>\n",
       "      <td id=\"T_d21dc_row9_col9\" class=\"data row9 col9\" >0</td>\n",
       "      <td id=\"T_d21dc_row9_col10\" class=\"data row9 col10\" >1</td>\n",
       "    </tr>\n",
       "    <tr>\n",
       "      <th id=\"T_d21dc_level0_row10\" class=\"row_heading level0 row10\" >Coffee Croissant</th>\n",
       "      <td id=\"T_d21dc_row10_col0\" class=\"data row10 col0\" >0</td>\n",
       "      <td id=\"T_d21dc_row10_col1\" class=\"data row10 col1\" >0</td>\n",
       "      <td id=\"T_d21dc_row10_col2\" class=\"data row10 col2\" >0</td>\n",
       "      <td id=\"T_d21dc_row10_col3\" class=\"data row10 col3\" >0</td>\n",
       "      <td id=\"T_d21dc_row10_col4\" class=\"data row10 col4\" >0</td>\n",
       "      <td id=\"T_d21dc_row10_col5\" class=\"data row10 col5\" >0</td>\n",
       "      <td id=\"T_d21dc_row10_col6\" class=\"data row10 col6\" >0</td>\n",
       "      <td id=\"T_d21dc_row10_col7\" class=\"data row10 col7\" >0</td>\n",
       "      <td id=\"T_d21dc_row10_col8\" class=\"data row10 col8\" >0</td>\n",
       "      <td id=\"T_d21dc_row10_col9\" class=\"data row10 col9\" >0</td>\n",
       "      <td id=\"T_d21dc_row10_col10\" class=\"data row10 col10\" >0</td>\n",
       "    </tr>\n",
       "    <tr>\n",
       "      <th id=\"T_d21dc_level0_row11\" class=\"row_heading level0 row11\" >Coffee Jelly</th>\n",
       "      <td id=\"T_d21dc_row11_col0\" class=\"data row11 col0\" >0</td>\n",
       "      <td id=\"T_d21dc_row11_col1\" class=\"data row11 col1\" >0</td>\n",
       "      <td id=\"T_d21dc_row11_col2\" class=\"data row11 col2\" >0</td>\n",
       "      <td id=\"T_d21dc_row11_col3\" class=\"data row11 col3\" >0</td>\n",
       "      <td id=\"T_d21dc_row11_col4\" class=\"data row11 col4\" >0</td>\n",
       "      <td id=\"T_d21dc_row11_col5\" class=\"data row11 col5\" >0</td>\n",
       "      <td id=\"T_d21dc_row11_col6\" class=\"data row11 col6\" >0</td>\n",
       "      <td id=\"T_d21dc_row11_col7\" class=\"data row11 col7\" >0</td>\n",
       "      <td id=\"T_d21dc_row11_col8\" class=\"data row11 col8\" >0</td>\n",
       "      <td id=\"T_d21dc_row11_col9\" class=\"data row11 col9\" >0</td>\n",
       "      <td id=\"T_d21dc_row11_col10\" class=\"data row11 col10\" >0</td>\n",
       "    </tr>\n",
       "    <tr>\n",
       "      <th id=\"T_d21dc_level0_row12\" class=\"row_heading level0 row12\" >Coffee Shakereto</th>\n",
       "      <td id=\"T_d21dc_row12_col0\" class=\"data row12 col0\" >0</td>\n",
       "      <td id=\"T_d21dc_row12_col1\" class=\"data row12 col1\" >0</td>\n",
       "      <td id=\"T_d21dc_row12_col2\" class=\"data row12 col2\" >0</td>\n",
       "      <td id=\"T_d21dc_row12_col3\" class=\"data row12 col3\" >0</td>\n",
       "      <td id=\"T_d21dc_row12_col4\" class=\"data row12 col4\" >0</td>\n",
       "      <td id=\"T_d21dc_row12_col5\" class=\"data row12 col5\" >0</td>\n",
       "      <td id=\"T_d21dc_row12_col6\" class=\"data row12 col6\" >0</td>\n",
       "      <td id=\"T_d21dc_row12_col7\" class=\"data row12 col7\" >0</td>\n",
       "      <td id=\"T_d21dc_row12_col8\" class=\"data row12 col8\" >0</td>\n",
       "      <td id=\"T_d21dc_row12_col9\" class=\"data row12 col9\" >0</td>\n",
       "      <td id=\"T_d21dc_row12_col10\" class=\"data row12 col10\" >0</td>\n",
       "    </tr>\n",
       "    <tr>\n",
       "      <th id=\"T_d21dc_level0_row13\" class=\"row_heading level0 row13\" >Coffee choux</th>\n",
       "      <td id=\"T_d21dc_row13_col0\" class=\"data row13 col0\" >0</td>\n",
       "      <td id=\"T_d21dc_row13_col1\" class=\"data row13 col1\" >0</td>\n",
       "      <td id=\"T_d21dc_row13_col2\" class=\"data row13 col2\" >0</td>\n",
       "      <td id=\"T_d21dc_row13_col3\" class=\"data row13 col3\" >0</td>\n",
       "      <td id=\"T_d21dc_row13_col4\" class=\"data row13 col4\" >0</td>\n",
       "      <td id=\"T_d21dc_row13_col5\" class=\"data row13 col5\" >0</td>\n",
       "      <td id=\"T_d21dc_row13_col6\" class=\"data row13 col6\" >0</td>\n",
       "      <td id=\"T_d21dc_row13_col7\" class=\"data row13 col7\" >0</td>\n",
       "      <td id=\"T_d21dc_row13_col8\" class=\"data row13 col8\" >0</td>\n",
       "      <td id=\"T_d21dc_row13_col9\" class=\"data row13 col9\" >0</td>\n",
       "      <td id=\"T_d21dc_row13_col10\" class=\"data row13 col10\" >0</td>\n",
       "    </tr>\n",
       "    <tr>\n",
       "      <th id=\"T_d21dc_level0_row14\" class=\"row_heading level0 row14\" >Cold Brew</th>\n",
       "      <td id=\"T_d21dc_row14_col0\" class=\"data row14 col0\" >0</td>\n",
       "      <td id=\"T_d21dc_row14_col1\" class=\"data row14 col1\" >0</td>\n",
       "      <td id=\"T_d21dc_row14_col2\" class=\"data row14 col2\" >0</td>\n",
       "      <td id=\"T_d21dc_row14_col3\" class=\"data row14 col3\" >0</td>\n",
       "      <td id=\"T_d21dc_row14_col4\" class=\"data row14 col4\" >0</td>\n",
       "      <td id=\"T_d21dc_row14_col5\" class=\"data row14 col5\" >0</td>\n",
       "      <td id=\"T_d21dc_row14_col6\" class=\"data row14 col6\" >0</td>\n",
       "      <td id=\"T_d21dc_row14_col7\" class=\"data row14 col7\" >0</td>\n",
       "      <td id=\"T_d21dc_row14_col8\" class=\"data row14 col8\" >0</td>\n",
       "      <td id=\"T_d21dc_row14_col9\" class=\"data row14 col9\" >0</td>\n",
       "      <td id=\"T_d21dc_row14_col10\" class=\"data row14 col10\" >0</td>\n",
       "    </tr>\n",
       "    <tr>\n",
       "      <th id=\"T_d21dc_level0_row15\" class=\"row_heading level0 row15\" >Cookies</th>\n",
       "      <td id=\"T_d21dc_row15_col0\" class=\"data row15 col0\" >0</td>\n",
       "      <td id=\"T_d21dc_row15_col1\" class=\"data row15 col1\" >0</td>\n",
       "      <td id=\"T_d21dc_row15_col2\" class=\"data row15 col2\" >0</td>\n",
       "      <td id=\"T_d21dc_row15_col3\" class=\"data row15 col3\" >0</td>\n",
       "      <td id=\"T_d21dc_row15_col4\" class=\"data row15 col4\" >0</td>\n",
       "      <td id=\"T_d21dc_row15_col5\" class=\"data row15 col5\" >0</td>\n",
       "      <td id=\"T_d21dc_row15_col6\" class=\"data row15 col6\" >0</td>\n",
       "      <td id=\"T_d21dc_row15_col7\" class=\"data row15 col7\" >0</td>\n",
       "      <td id=\"T_d21dc_row15_col8\" class=\"data row15 col8\" >1</td>\n",
       "      <td id=\"T_d21dc_row15_col9\" class=\"data row15 col9\" >0</td>\n",
       "      <td id=\"T_d21dc_row15_col10\" class=\"data row15 col10\" >0</td>\n",
       "    </tr>\n",
       "    <tr>\n",
       "      <th id=\"T_d21dc_level0_row16\" class=\"row_heading level0 row16\" >Decaf Coffee</th>\n",
       "      <td id=\"T_d21dc_row16_col0\" class=\"data row16 col0\" >0</td>\n",
       "      <td id=\"T_d21dc_row16_col1\" class=\"data row16 col1\" >0</td>\n",
       "      <td id=\"T_d21dc_row16_col2\" class=\"data row16 col2\" >0</td>\n",
       "      <td id=\"T_d21dc_row16_col3\" class=\"data row16 col3\" >0</td>\n",
       "      <td id=\"T_d21dc_row16_col4\" class=\"data row16 col4\" >0</td>\n",
       "      <td id=\"T_d21dc_row16_col5\" class=\"data row16 col5\" >0</td>\n",
       "      <td id=\"T_d21dc_row16_col6\" class=\"data row16 col6\" >1</td>\n",
       "      <td id=\"T_d21dc_row16_col7\" class=\"data row16 col7\" >0</td>\n",
       "      <td id=\"T_d21dc_row16_col8\" class=\"data row16 col8\" >0</td>\n",
       "      <td id=\"T_d21dc_row16_col9\" class=\"data row16 col9\" >0</td>\n",
       "      <td id=\"T_d21dc_row16_col10\" class=\"data row16 col10\" >0</td>\n",
       "    </tr>\n",
       "    <tr>\n",
       "      <th id=\"T_d21dc_level0_row17\" class=\"row_heading level0 row17\" >EspressoHot</th>\n",
       "      <td id=\"T_d21dc_row17_col0\" class=\"data row17 col0\" >1</td>\n",
       "      <td id=\"T_d21dc_row17_col1\" class=\"data row17 col1\" >0</td>\n",
       "      <td id=\"T_d21dc_row17_col2\" class=\"data row17 col2\" >0</td>\n",
       "      <td id=\"T_d21dc_row17_col3\" class=\"data row17 col3\" >0</td>\n",
       "      <td id=\"T_d21dc_row17_col4\" class=\"data row17 col4\" >0</td>\n",
       "      <td id=\"T_d21dc_row17_col5\" class=\"data row17 col5\" >0</td>\n",
       "      <td id=\"T_d21dc_row17_col6\" class=\"data row17 col6\" >0</td>\n",
       "      <td id=\"T_d21dc_row17_col7\" class=\"data row17 col7\" >0</td>\n",
       "      <td id=\"T_d21dc_row17_col8\" class=\"data row17 col8\" >0</td>\n",
       "      <td id=\"T_d21dc_row17_col9\" class=\"data row17 col9\" >0</td>\n",
       "      <td id=\"T_d21dc_row17_col10\" class=\"data row17 col10\" >0</td>\n",
       "    </tr>\n",
       "    <tr>\n",
       "      <th id=\"T_d21dc_level0_row18\" class=\"row_heading level0 row18\" >EspressoIced</th>\n",
       "      <td id=\"T_d21dc_row18_col0\" class=\"data row18 col0\" >0</td>\n",
       "      <td id=\"T_d21dc_row18_col1\" class=\"data row18 col1\" >0</td>\n",
       "      <td id=\"T_d21dc_row18_col2\" class=\"data row18 col2\" >0</td>\n",
       "      <td id=\"T_d21dc_row18_col3\" class=\"data row18 col3\" >0</td>\n",
       "      <td id=\"T_d21dc_row18_col4\" class=\"data row18 col4\" >0</td>\n",
       "      <td id=\"T_d21dc_row18_col5\" class=\"data row18 col5\" >0</td>\n",
       "      <td id=\"T_d21dc_row18_col6\" class=\"data row18 col6\" >0</td>\n",
       "      <td id=\"T_d21dc_row18_col7\" class=\"data row18 col7\" >0</td>\n",
       "      <td id=\"T_d21dc_row18_col8\" class=\"data row18 col8\" >0</td>\n",
       "      <td id=\"T_d21dc_row18_col9\" class=\"data row18 col9\" >0</td>\n",
       "      <td id=\"T_d21dc_row18_col10\" class=\"data row18 col10\" >0</td>\n",
       "    </tr>\n",
       "    <tr>\n",
       "      <th id=\"T_d21dc_level0_row19\" class=\"row_heading level0 row19\" >Flat White Hot</th>\n",
       "      <td id=\"T_d21dc_row19_col0\" class=\"data row19 col0\" >0</td>\n",
       "      <td id=\"T_d21dc_row19_col1\" class=\"data row19 col1\" >0</td>\n",
       "      <td id=\"T_d21dc_row19_col2\" class=\"data row19 col2\" >0</td>\n",
       "      <td id=\"T_d21dc_row19_col3\" class=\"data row19 col3\" >0</td>\n",
       "      <td id=\"T_d21dc_row19_col4\" class=\"data row19 col4\" >0</td>\n",
       "      <td id=\"T_d21dc_row19_col5\" class=\"data row19 col5\" >0</td>\n",
       "      <td id=\"T_d21dc_row19_col6\" class=\"data row19 col6\" >0</td>\n",
       "      <td id=\"T_d21dc_row19_col7\" class=\"data row19 col7\" >0</td>\n",
       "      <td id=\"T_d21dc_row19_col8\" class=\"data row19 col8\" >0</td>\n",
       "      <td id=\"T_d21dc_row19_col9\" class=\"data row19 col9\" >0</td>\n",
       "      <td id=\"T_d21dc_row19_col10\" class=\"data row19 col10\" >0</td>\n",
       "    </tr>\n",
       "    <tr>\n",
       "      <th id=\"T_d21dc_level0_row20\" class=\"row_heading level0 row20\" >Flat White Iced</th>\n",
       "      <td id=\"T_d21dc_row20_col0\" class=\"data row20 col0\" >0</td>\n",
       "      <td id=\"T_d21dc_row20_col1\" class=\"data row20 col1\" >0</td>\n",
       "      <td id=\"T_d21dc_row20_col2\" class=\"data row20 col2\" >0</td>\n",
       "      <td id=\"T_d21dc_row20_col3\" class=\"data row20 col3\" >0</td>\n",
       "      <td id=\"T_d21dc_row20_col4\" class=\"data row20 col4\" >0</td>\n",
       "      <td id=\"T_d21dc_row20_col5\" class=\"data row20 col5\" >0</td>\n",
       "      <td id=\"T_d21dc_row20_col6\" class=\"data row20 col6\" >0</td>\n",
       "      <td id=\"T_d21dc_row20_col7\" class=\"data row20 col7\" >0</td>\n",
       "      <td id=\"T_d21dc_row20_col8\" class=\"data row20 col8\" >0</td>\n",
       "      <td id=\"T_d21dc_row20_col9\" class=\"data row20 col9\" >0</td>\n",
       "      <td id=\"T_d21dc_row20_col10\" class=\"data row20 col10\" >0</td>\n",
       "    </tr>\n",
       "    <tr>\n",
       "      <th id=\"T_d21dc_level0_row21\" class=\"row_heading level0 row21\" >Kuign-amann</th>\n",
       "      <td id=\"T_d21dc_row21_col0\" class=\"data row21 col0\" >0</td>\n",
       "      <td id=\"T_d21dc_row21_col1\" class=\"data row21 col1\" >0</td>\n",
       "      <td id=\"T_d21dc_row21_col2\" class=\"data row21 col2\" >0</td>\n",
       "      <td id=\"T_d21dc_row21_col3\" class=\"data row21 col3\" >0</td>\n",
       "      <td id=\"T_d21dc_row21_col4\" class=\"data row21 col4\" >0</td>\n",
       "      <td id=\"T_d21dc_row21_col5\" class=\"data row21 col5\" >0</td>\n",
       "      <td id=\"T_d21dc_row21_col6\" class=\"data row21 col6\" >0</td>\n",
       "      <td id=\"T_d21dc_row21_col7\" class=\"data row21 col7\" >0</td>\n",
       "      <td id=\"T_d21dc_row21_col8\" class=\"data row21 col8\" >0</td>\n",
       "      <td id=\"T_d21dc_row21_col9\" class=\"data row21 col9\" >0</td>\n",
       "      <td id=\"T_d21dc_row21_col10\" class=\"data row21 col10\" >1</td>\n",
       "    </tr>\n",
       "    <tr>\n",
       "      <th id=\"T_d21dc_level0_row22\" class=\"row_heading level0 row22\" >Latte Hot</th>\n",
       "      <td id=\"T_d21dc_row22_col0\" class=\"data row22 col0\" >0</td>\n",
       "      <td id=\"T_d21dc_row22_col1\" class=\"data row22 col1\" >5</td>\n",
       "      <td id=\"T_d21dc_row22_col2\" class=\"data row22 col2\" >6</td>\n",
       "      <td id=\"T_d21dc_row22_col3\" class=\"data row22 col3\" >3</td>\n",
       "      <td id=\"T_d21dc_row22_col4\" class=\"data row22 col4\" >0</td>\n",
       "      <td id=\"T_d21dc_row22_col5\" class=\"data row22 col5\" >0</td>\n",
       "      <td id=\"T_d21dc_row22_col6\" class=\"data row22 col6\" >1</td>\n",
       "      <td id=\"T_d21dc_row22_col7\" class=\"data row22 col7\" >5</td>\n",
       "      <td id=\"T_d21dc_row22_col8\" class=\"data row22 col8\" >0</td>\n",
       "      <td id=\"T_d21dc_row22_col9\" class=\"data row22 col9\" >0</td>\n",
       "      <td id=\"T_d21dc_row22_col10\" class=\"data row22 col10\" >0</td>\n",
       "    </tr>\n",
       "    <tr>\n",
       "      <th id=\"T_d21dc_level0_row23\" class=\"row_heading level0 row23\" >Latte Iced</th>\n",
       "      <td id=\"T_d21dc_row23_col0\" class=\"data row23 col0\" >6</td>\n",
       "      <td id=\"T_d21dc_row23_col1\" class=\"data row23 col1\" >0</td>\n",
       "      <td id=\"T_d21dc_row23_col2\" class=\"data row23 col2\" >0</td>\n",
       "      <td id=\"T_d21dc_row23_col3\" class=\"data row23 col3\" >5</td>\n",
       "      <td id=\"T_d21dc_row23_col4\" class=\"data row23 col4\" >0</td>\n",
       "      <td id=\"T_d21dc_row23_col5\" class=\"data row23 col5\" >0</td>\n",
       "      <td id=\"T_d21dc_row23_col6\" class=\"data row23 col6\" >6</td>\n",
       "      <td id=\"T_d21dc_row23_col7\" class=\"data row23 col7\" >0</td>\n",
       "      <td id=\"T_d21dc_row23_col8\" class=\"data row23 col8\" >1</td>\n",
       "      <td id=\"T_d21dc_row23_col9\" class=\"data row23 col9\" >0</td>\n",
       "      <td id=\"T_d21dc_row23_col10\" class=\"data row23 col10\" >0</td>\n",
       "    </tr>\n",
       "    <tr>\n",
       "      <th id=\"T_d21dc_level0_row24\" class=\"row_heading level0 row24\" >LatteHot</th>\n",
       "      <td id=\"T_d21dc_row24_col0\" class=\"data row24 col0\" >0</td>\n",
       "      <td id=\"T_d21dc_row24_col1\" class=\"data row24 col1\" >0</td>\n",
       "      <td id=\"T_d21dc_row24_col2\" class=\"data row24 col2\" >0</td>\n",
       "      <td id=\"T_d21dc_row24_col3\" class=\"data row24 col3\" >0</td>\n",
       "      <td id=\"T_d21dc_row24_col4\" class=\"data row24 col4\" >0</td>\n",
       "      <td id=\"T_d21dc_row24_col5\" class=\"data row24 col5\" >0</td>\n",
       "      <td id=\"T_d21dc_row24_col6\" class=\"data row24 col6\" >0</td>\n",
       "      <td id=\"T_d21dc_row24_col7\" class=\"data row24 col7\" >0</td>\n",
       "      <td id=\"T_d21dc_row24_col8\" class=\"data row24 col8\" >0</td>\n",
       "      <td id=\"T_d21dc_row24_col9\" class=\"data row24 col9\" >0</td>\n",
       "      <td id=\"T_d21dc_row24_col10\" class=\"data row24 col10\" >0</td>\n",
       "    </tr>\n",
       "    <tr>\n",
       "      <th id=\"T_d21dc_level0_row25\" class=\"row_heading level0 row25\" >LatteIce</th>\n",
       "      <td id=\"T_d21dc_row25_col0\" class=\"data row25 col0\" >0</td>\n",
       "      <td id=\"T_d21dc_row25_col1\" class=\"data row25 col1\" >0</td>\n",
       "      <td id=\"T_d21dc_row25_col2\" class=\"data row25 col2\" >0</td>\n",
       "      <td id=\"T_d21dc_row25_col3\" class=\"data row25 col3\" >0</td>\n",
       "      <td id=\"T_d21dc_row25_col4\" class=\"data row25 col4\" >0</td>\n",
       "      <td id=\"T_d21dc_row25_col5\" class=\"data row25 col5\" >0</td>\n",
       "      <td id=\"T_d21dc_row25_col6\" class=\"data row25 col6\" >0</td>\n",
       "      <td id=\"T_d21dc_row25_col7\" class=\"data row25 col7\" >0</td>\n",
       "      <td id=\"T_d21dc_row25_col8\" class=\"data row25 col8\" >0</td>\n",
       "      <td id=\"T_d21dc_row25_col9\" class=\"data row25 col9\" >0</td>\n",
       "      <td id=\"T_d21dc_row25_col10\" class=\"data row25 col10\" >0</td>\n",
       "    </tr>\n",
       "    <tr>\n",
       "      <th id=\"T_d21dc_level0_row26\" class=\"row_heading level0 row26\" >Longblack Hot</th>\n",
       "      <td id=\"T_d21dc_row26_col0\" class=\"data row26 col0\" >0</td>\n",
       "      <td id=\"T_d21dc_row26_col1\" class=\"data row26 col1\" >0</td>\n",
       "      <td id=\"T_d21dc_row26_col2\" class=\"data row26 col2\" >0</td>\n",
       "      <td id=\"T_d21dc_row26_col3\" class=\"data row26 col3\" >0</td>\n",
       "      <td id=\"T_d21dc_row26_col4\" class=\"data row26 col4\" >0</td>\n",
       "      <td id=\"T_d21dc_row26_col5\" class=\"data row26 col5\" >0</td>\n",
       "      <td id=\"T_d21dc_row26_col6\" class=\"data row26 col6\" >0</td>\n",
       "      <td id=\"T_d21dc_row26_col7\" class=\"data row26 col7\" >0</td>\n",
       "      <td id=\"T_d21dc_row26_col8\" class=\"data row26 col8\" >0</td>\n",
       "      <td id=\"T_d21dc_row26_col9\" class=\"data row26 col9\" >0</td>\n",
       "      <td id=\"T_d21dc_row26_col10\" class=\"data row26 col10\" >0</td>\n",
       "    </tr>\n",
       "    <tr>\n",
       "      <th id=\"T_d21dc_level0_row27\" class=\"row_heading level0 row27\" >Longblack Iced</th>\n",
       "      <td id=\"T_d21dc_row27_col0\" class=\"data row27 col0\" >0</td>\n",
       "      <td id=\"T_d21dc_row27_col1\" class=\"data row27 col1\" >0</td>\n",
       "      <td id=\"T_d21dc_row27_col2\" class=\"data row27 col2\" >0</td>\n",
       "      <td id=\"T_d21dc_row27_col3\" class=\"data row27 col3\" >0</td>\n",
       "      <td id=\"T_d21dc_row27_col4\" class=\"data row27 col4\" >0</td>\n",
       "      <td id=\"T_d21dc_row27_col5\" class=\"data row27 col5\" >0</td>\n",
       "      <td id=\"T_d21dc_row27_col6\" class=\"data row27 col6\" >0</td>\n",
       "      <td id=\"T_d21dc_row27_col7\" class=\"data row27 col7\" >0</td>\n",
       "      <td id=\"T_d21dc_row27_col8\" class=\"data row27 col8\" >0</td>\n",
       "      <td id=\"T_d21dc_row27_col9\" class=\"data row27 col9\" >0</td>\n",
       "      <td id=\"T_d21dc_row27_col10\" class=\"data row27 col10\" >0</td>\n",
       "    </tr>\n",
       "    <tr>\n",
       "      <th id=\"T_d21dc_level0_row28\" class=\"row_heading level0 row28\" >Macchiato 4ozHot</th>\n",
       "      <td id=\"T_d21dc_row28_col0\" class=\"data row28 col0\" >0</td>\n",
       "      <td id=\"T_d21dc_row28_col1\" class=\"data row28 col1\" >0</td>\n",
       "      <td id=\"T_d21dc_row28_col2\" class=\"data row28 col2\" >0</td>\n",
       "      <td id=\"T_d21dc_row28_col3\" class=\"data row28 col3\" >0</td>\n",
       "      <td id=\"T_d21dc_row28_col4\" class=\"data row28 col4\" >0</td>\n",
       "      <td id=\"T_d21dc_row28_col5\" class=\"data row28 col5\" >0</td>\n",
       "      <td id=\"T_d21dc_row28_col6\" class=\"data row28 col6\" >0</td>\n",
       "      <td id=\"T_d21dc_row28_col7\" class=\"data row28 col7\" >0</td>\n",
       "      <td id=\"T_d21dc_row28_col8\" class=\"data row28 col8\" >0</td>\n",
       "      <td id=\"T_d21dc_row28_col9\" class=\"data row28 col9\" >0</td>\n",
       "      <td id=\"T_d21dc_row28_col10\" class=\"data row28 col10\" >0</td>\n",
       "    </tr>\n",
       "    <tr>\n",
       "      <th id=\"T_d21dc_level0_row29\" class=\"row_heading level0 row29\" >Macchiato Iced</th>\n",
       "      <td id=\"T_d21dc_row29_col0\" class=\"data row29 col0\" >0</td>\n",
       "      <td id=\"T_d21dc_row29_col1\" class=\"data row29 col1\" >0</td>\n",
       "      <td id=\"T_d21dc_row29_col2\" class=\"data row29 col2\" >0</td>\n",
       "      <td id=\"T_d21dc_row29_col3\" class=\"data row29 col3\" >0</td>\n",
       "      <td id=\"T_d21dc_row29_col4\" class=\"data row29 col4\" >0</td>\n",
       "      <td id=\"T_d21dc_row29_col5\" class=\"data row29 col5\" >0</td>\n",
       "      <td id=\"T_d21dc_row29_col6\" class=\"data row29 col6\" >0</td>\n",
       "      <td id=\"T_d21dc_row29_col7\" class=\"data row29 col7\" >0</td>\n",
       "      <td id=\"T_d21dc_row29_col8\" class=\"data row29 col8\" >0</td>\n",
       "      <td id=\"T_d21dc_row29_col9\" class=\"data row29 col9\" >0</td>\n",
       "      <td id=\"T_d21dc_row29_col10\" class=\"data row29 col10\" >0</td>\n",
       "    </tr>\n",
       "    <tr>\n",
       "      <th id=\"T_d21dc_level0_row30\" class=\"row_heading level0 row30\" >Magic Latte</th>\n",
       "      <td id=\"T_d21dc_row30_col0\" class=\"data row30 col0\" >0</td>\n",
       "      <td id=\"T_d21dc_row30_col1\" class=\"data row30 col1\" >0</td>\n",
       "      <td id=\"T_d21dc_row30_col2\" class=\"data row30 col2\" >0</td>\n",
       "      <td id=\"T_d21dc_row30_col3\" class=\"data row30 col3\" >0</td>\n",
       "      <td id=\"T_d21dc_row30_col4\" class=\"data row30 col4\" >0</td>\n",
       "      <td id=\"T_d21dc_row30_col5\" class=\"data row30 col5\" >0</td>\n",
       "      <td id=\"T_d21dc_row30_col6\" class=\"data row30 col6\" >0</td>\n",
       "      <td id=\"T_d21dc_row30_col7\" class=\"data row30 col7\" >0</td>\n",
       "      <td id=\"T_d21dc_row30_col8\" class=\"data row30 col8\" >0</td>\n",
       "      <td id=\"T_d21dc_row30_col9\" class=\"data row30 col9\" >0</td>\n",
       "      <td id=\"T_d21dc_row30_col10\" class=\"data row30 col10\" >0</td>\n",
       "    </tr>\n",
       "    <tr>\n",
       "      <th id=\"T_d21dc_level0_row31\" class=\"row_heading level0 row31\" >Matcha cake</th>\n",
       "      <td id=\"T_d21dc_row31_col0\" class=\"data row31 col0\" >0</td>\n",
       "      <td id=\"T_d21dc_row31_col1\" class=\"data row31 col1\" >0</td>\n",
       "      <td id=\"T_d21dc_row31_col2\" class=\"data row31 col2\" >0</td>\n",
       "      <td id=\"T_d21dc_row31_col3\" class=\"data row31 col3\" >0</td>\n",
       "      <td id=\"T_d21dc_row31_col4\" class=\"data row31 col4\" >0</td>\n",
       "      <td id=\"T_d21dc_row31_col5\" class=\"data row31 col5\" >0</td>\n",
       "      <td id=\"T_d21dc_row31_col6\" class=\"data row31 col6\" >0</td>\n",
       "      <td id=\"T_d21dc_row31_col7\" class=\"data row31 col7\" >0</td>\n",
       "      <td id=\"T_d21dc_row31_col8\" class=\"data row31 col8\" >0</td>\n",
       "      <td id=\"T_d21dc_row31_col9\" class=\"data row31 col9\" >0</td>\n",
       "      <td id=\"T_d21dc_row31_col10\" class=\"data row31 col10\" >0</td>\n",
       "    </tr>\n",
       "    <tr>\n",
       "      <th id=\"T_d21dc_level0_row32\" class=\"row_heading level0 row32\" >Matcha tiramisu</th>\n",
       "      <td id=\"T_d21dc_row32_col0\" class=\"data row32 col0\" >0</td>\n",
       "      <td id=\"T_d21dc_row32_col1\" class=\"data row32 col1\" >0</td>\n",
       "      <td id=\"T_d21dc_row32_col2\" class=\"data row32 col2\" >0</td>\n",
       "      <td id=\"T_d21dc_row32_col3\" class=\"data row32 col3\" >0</td>\n",
       "      <td id=\"T_d21dc_row32_col4\" class=\"data row32 col4\" >0</td>\n",
       "      <td id=\"T_d21dc_row32_col5\" class=\"data row32 col5\" >0</td>\n",
       "      <td id=\"T_d21dc_row32_col6\" class=\"data row32 col6\" >0</td>\n",
       "      <td id=\"T_d21dc_row32_col7\" class=\"data row32 col7\" >0</td>\n",
       "      <td id=\"T_d21dc_row32_col8\" class=\"data row32 col8\" >0</td>\n",
       "      <td id=\"T_d21dc_row32_col9\" class=\"data row32 col9\" >0</td>\n",
       "      <td id=\"T_d21dc_row32_col10\" class=\"data row32 col10\" >1</td>\n",
       "    </tr>\n",
       "    <tr>\n",
       "      <th id=\"T_d21dc_level0_row33\" class=\"row_heading level0 row33\" >Moca nougat</th>\n",
       "      <td id=\"T_d21dc_row33_col0\" class=\"data row33 col0\" >0</td>\n",
       "      <td id=\"T_d21dc_row33_col1\" class=\"data row33 col1\" >0</td>\n",
       "      <td id=\"T_d21dc_row33_col2\" class=\"data row33 col2\" >0</td>\n",
       "      <td id=\"T_d21dc_row33_col3\" class=\"data row33 col3\" >0</td>\n",
       "      <td id=\"T_d21dc_row33_col4\" class=\"data row33 col4\" >0</td>\n",
       "      <td id=\"T_d21dc_row33_col5\" class=\"data row33 col5\" >0</td>\n",
       "      <td id=\"T_d21dc_row33_col6\" class=\"data row33 col6\" >0</td>\n",
       "      <td id=\"T_d21dc_row33_col7\" class=\"data row33 col7\" >0</td>\n",
       "      <td id=\"T_d21dc_row33_col8\" class=\"data row33 col8\" >0</td>\n",
       "      <td id=\"T_d21dc_row33_col9\" class=\"data row33 col9\" >0</td>\n",
       "      <td id=\"T_d21dc_row33_col10\" class=\"data row33 col10\" >0</td>\n",
       "    </tr>\n",
       "    <tr>\n",
       "      <th id=\"T_d21dc_level0_row34\" class=\"row_heading level0 row34\" >Mochaccino Hot</th>\n",
       "      <td id=\"T_d21dc_row34_col0\" class=\"data row34 col0\" >0</td>\n",
       "      <td id=\"T_d21dc_row34_col1\" class=\"data row34 col1\" >0</td>\n",
       "      <td id=\"T_d21dc_row34_col2\" class=\"data row34 col2\" >0</td>\n",
       "      <td id=\"T_d21dc_row34_col3\" class=\"data row34 col3\" >0</td>\n",
       "      <td id=\"T_d21dc_row34_col4\" class=\"data row34 col4\" >0</td>\n",
       "      <td id=\"T_d21dc_row34_col5\" class=\"data row34 col5\" >0</td>\n",
       "      <td id=\"T_d21dc_row34_col6\" class=\"data row34 col6\" >0</td>\n",
       "      <td id=\"T_d21dc_row34_col7\" class=\"data row34 col7\" >1</td>\n",
       "      <td id=\"T_d21dc_row34_col8\" class=\"data row34 col8\" >0</td>\n",
       "      <td id=\"T_d21dc_row34_col9\" class=\"data row34 col9\" >0</td>\n",
       "      <td id=\"T_d21dc_row34_col10\" class=\"data row34 col10\" >0</td>\n",
       "    </tr>\n",
       "    <tr>\n",
       "      <th id=\"T_d21dc_level0_row35\" class=\"row_heading level0 row35\" >Mochaccino Iced</th>\n",
       "      <td id=\"T_d21dc_row35_col0\" class=\"data row35 col0\" >0</td>\n",
       "      <td id=\"T_d21dc_row35_col1\" class=\"data row35 col1\" >0</td>\n",
       "      <td id=\"T_d21dc_row35_col2\" class=\"data row35 col2\" >0</td>\n",
       "      <td id=\"T_d21dc_row35_col3\" class=\"data row35 col3\" >0</td>\n",
       "      <td id=\"T_d21dc_row35_col4\" class=\"data row35 col4\" >0</td>\n",
       "      <td id=\"T_d21dc_row35_col5\" class=\"data row35 col5\" >0</td>\n",
       "      <td id=\"T_d21dc_row35_col6\" class=\"data row35 col6\" >0</td>\n",
       "      <td id=\"T_d21dc_row35_col7\" class=\"data row35 col7\" >0</td>\n",
       "      <td id=\"T_d21dc_row35_col8\" class=\"data row35 col8\" >0</td>\n",
       "      <td id=\"T_d21dc_row35_col9\" class=\"data row35 col9\" >0</td>\n",
       "      <td id=\"T_d21dc_row35_col10\" class=\"data row35 col10\" >0</td>\n",
       "    </tr>\n",
       "    <tr>\n",
       "      <th id=\"T_d21dc_level0_row36\" class=\"row_heading level0 row36\" >Pain Au Chocolat</th>\n",
       "      <td id=\"T_d21dc_row36_col0\" class=\"data row36 col0\" >0</td>\n",
       "      <td id=\"T_d21dc_row36_col1\" class=\"data row36 col1\" >0</td>\n",
       "      <td id=\"T_d21dc_row36_col2\" class=\"data row36 col2\" >1</td>\n",
       "      <td id=\"T_d21dc_row36_col3\" class=\"data row36 col3\" >0</td>\n",
       "      <td id=\"T_d21dc_row36_col4\" class=\"data row36 col4\" >0</td>\n",
       "      <td id=\"T_d21dc_row36_col5\" class=\"data row36 col5\" >0</td>\n",
       "      <td id=\"T_d21dc_row36_col6\" class=\"data row36 col6\" >0</td>\n",
       "      <td id=\"T_d21dc_row36_col7\" class=\"data row36 col7\" >0</td>\n",
       "      <td id=\"T_d21dc_row36_col8\" class=\"data row36 col8\" >0</td>\n",
       "      <td id=\"T_d21dc_row36_col9\" class=\"data row36 col9\" >0</td>\n",
       "      <td id=\"T_d21dc_row36_col10\" class=\"data row36 col10\" >5</td>\n",
       "    </tr>\n",
       "    <tr>\n",
       "      <th id=\"T_d21dc_level0_row37\" class=\"row_heading level0 row37\" >Pain Au Suisse</th>\n",
       "      <td id=\"T_d21dc_row37_col0\" class=\"data row37 col0\" >0</td>\n",
       "      <td id=\"T_d21dc_row37_col1\" class=\"data row37 col1\" >0</td>\n",
       "      <td id=\"T_d21dc_row37_col2\" class=\"data row37 col2\" >0</td>\n",
       "      <td id=\"T_d21dc_row37_col3\" class=\"data row37 col3\" >0</td>\n",
       "      <td id=\"T_d21dc_row37_col4\" class=\"data row37 col4\" >0</td>\n",
       "      <td id=\"T_d21dc_row37_col5\" class=\"data row37 col5\" >0</td>\n",
       "      <td id=\"T_d21dc_row37_col6\" class=\"data row37 col6\" >0</td>\n",
       "      <td id=\"T_d21dc_row37_col7\" class=\"data row37 col7\" >0</td>\n",
       "      <td id=\"T_d21dc_row37_col8\" class=\"data row37 col8\" >0</td>\n",
       "      <td id=\"T_d21dc_row37_col9\" class=\"data row37 col9\" >0</td>\n",
       "      <td id=\"T_d21dc_row37_col10\" class=\"data row37 col10\" >0</td>\n",
       "    </tr>\n",
       "    <tr>\n",
       "      <th id=\"T_d21dc_level0_row38\" class=\"row_heading level0 row38\" >PiccoloHot</th>\n",
       "      <td id=\"T_d21dc_row38_col0\" class=\"data row38 col0\" >0</td>\n",
       "      <td id=\"T_d21dc_row38_col1\" class=\"data row38 col1\" >0</td>\n",
       "      <td id=\"T_d21dc_row38_col2\" class=\"data row38 col2\" >0</td>\n",
       "      <td id=\"T_d21dc_row38_col3\" class=\"data row38 col3\" >0</td>\n",
       "      <td id=\"T_d21dc_row38_col4\" class=\"data row38 col4\" >5</td>\n",
       "      <td id=\"T_d21dc_row38_col5\" class=\"data row38 col5\" >0</td>\n",
       "      <td id=\"T_d21dc_row38_col6\" class=\"data row38 col6\" >0</td>\n",
       "      <td id=\"T_d21dc_row38_col7\" class=\"data row38 col7\" >0</td>\n",
       "      <td id=\"T_d21dc_row38_col8\" class=\"data row38 col8\" >0</td>\n",
       "      <td id=\"T_d21dc_row38_col9\" class=\"data row38 col9\" >0</td>\n",
       "      <td id=\"T_d21dc_row38_col10\" class=\"data row38 col10\" >0</td>\n",
       "    </tr>\n",
       "    <tr>\n",
       "      <th id=\"T_d21dc_level0_row39\" class=\"row_heading level0 row39\" >PiccoloIced</th>\n",
       "      <td id=\"T_d21dc_row39_col0\" class=\"data row39 col0\" >0</td>\n",
       "      <td id=\"T_d21dc_row39_col1\" class=\"data row39 col1\" >0</td>\n",
       "      <td id=\"T_d21dc_row39_col2\" class=\"data row39 col2\" >0</td>\n",
       "      <td id=\"T_d21dc_row39_col3\" class=\"data row39 col3\" >0</td>\n",
       "      <td id=\"T_d21dc_row39_col4\" class=\"data row39 col4\" >0</td>\n",
       "      <td id=\"T_d21dc_row39_col5\" class=\"data row39 col5\" >0</td>\n",
       "      <td id=\"T_d21dc_row39_col6\" class=\"data row39 col6\" >0</td>\n",
       "      <td id=\"T_d21dc_row39_col7\" class=\"data row39 col7\" >0</td>\n",
       "      <td id=\"T_d21dc_row39_col8\" class=\"data row39 col8\" >0</td>\n",
       "      <td id=\"T_d21dc_row39_col9\" class=\"data row39 col9\" >0</td>\n",
       "      <td id=\"T_d21dc_row39_col10\" class=\"data row39 col10\" >0</td>\n",
       "    </tr>\n",
       "    <tr>\n",
       "      <th id=\"T_d21dc_level0_row40\" class=\"row_heading level0 row40\" >Pistachio Croissant</th>\n",
       "      <td id=\"T_d21dc_row40_col0\" class=\"data row40 col0\" >0</td>\n",
       "      <td id=\"T_d21dc_row40_col1\" class=\"data row40 col1\" >0</td>\n",
       "      <td id=\"T_d21dc_row40_col2\" class=\"data row40 col2\" >0</td>\n",
       "      <td id=\"T_d21dc_row40_col3\" class=\"data row40 col3\" >0</td>\n",
       "      <td id=\"T_d21dc_row40_col4\" class=\"data row40 col4\" >0</td>\n",
       "      <td id=\"T_d21dc_row40_col5\" class=\"data row40 col5\" >0</td>\n",
       "      <td id=\"T_d21dc_row40_col6\" class=\"data row40 col6\" >0</td>\n",
       "      <td id=\"T_d21dc_row40_col7\" class=\"data row40 col7\" >0</td>\n",
       "      <td id=\"T_d21dc_row40_col8\" class=\"data row40 col8\" >4</td>\n",
       "      <td id=\"T_d21dc_row40_col9\" class=\"data row40 col9\" >0</td>\n",
       "      <td id=\"T_d21dc_row40_col10\" class=\"data row40 col10\" >0</td>\n",
       "    </tr>\n",
       "    <tr>\n",
       "      <th id=\"T_d21dc_level0_row41\" class=\"row_heading level0 row41\" >Plain Croisant</th>\n",
       "      <td id=\"T_d21dc_row41_col0\" class=\"data row41 col0\" >0</td>\n",
       "      <td id=\"T_d21dc_row41_col1\" class=\"data row41 col1\" >0</td>\n",
       "      <td id=\"T_d21dc_row41_col2\" class=\"data row41 col2\" >0</td>\n",
       "      <td id=\"T_d21dc_row41_col3\" class=\"data row41 col3\" >0</td>\n",
       "      <td id=\"T_d21dc_row41_col4\" class=\"data row41 col4\" >2</td>\n",
       "      <td id=\"T_d21dc_row41_col5\" class=\"data row41 col5\" >0</td>\n",
       "      <td id=\"T_d21dc_row41_col6\" class=\"data row41 col6\" >0</td>\n",
       "      <td id=\"T_d21dc_row41_col7\" class=\"data row41 col7\" >1</td>\n",
       "      <td id=\"T_d21dc_row41_col8\" class=\"data row41 col8\" >0</td>\n",
       "      <td id=\"T_d21dc_row41_col9\" class=\"data row41 col9\" >6</td>\n",
       "      <td id=\"T_d21dc_row41_col10\" class=\"data row41 col10\" >0</td>\n",
       "    </tr>\n",
       "    <tr>\n",
       "      <th id=\"T_d21dc_level0_row42\" class=\"row_heading level0 row42\" >Tiramisu</th>\n",
       "      <td id=\"T_d21dc_row42_col0\" class=\"data row42 col0\" >0</td>\n",
       "      <td id=\"T_d21dc_row42_col1\" class=\"data row42 col1\" >0</td>\n",
       "      <td id=\"T_d21dc_row42_col2\" class=\"data row42 col2\" >0</td>\n",
       "      <td id=\"T_d21dc_row42_col3\" class=\"data row42 col3\" >0</td>\n",
       "      <td id=\"T_d21dc_row42_col4\" class=\"data row42 col4\" >0</td>\n",
       "      <td id=\"T_d21dc_row42_col5\" class=\"data row42 col5\" >0</td>\n",
       "      <td id=\"T_d21dc_row42_col6\" class=\"data row42 col6\" >0</td>\n",
       "      <td id=\"T_d21dc_row42_col7\" class=\"data row42 col7\" >0</td>\n",
       "      <td id=\"T_d21dc_row42_col8\" class=\"data row42 col8\" >0</td>\n",
       "      <td id=\"T_d21dc_row42_col9\" class=\"data row42 col9\" >0</td>\n",
       "      <td id=\"T_d21dc_row42_col10\" class=\"data row42 col10\" >0</td>\n",
       "    </tr>\n",
       "    <tr>\n",
       "      <th id=\"T_d21dc_level0_row43\" class=\"row_heading level0 row43\" >Tiramisu cake</th>\n",
       "      <td id=\"T_d21dc_row43_col0\" class=\"data row43 col0\" >0</td>\n",
       "      <td id=\"T_d21dc_row43_col1\" class=\"data row43 col1\" >0</td>\n",
       "      <td id=\"T_d21dc_row43_col2\" class=\"data row43 col2\" >0</td>\n",
       "      <td id=\"T_d21dc_row43_col3\" class=\"data row43 col3\" >0</td>\n",
       "      <td id=\"T_d21dc_row43_col4\" class=\"data row43 col4\" >0</td>\n",
       "      <td id=\"T_d21dc_row43_col5\" class=\"data row43 col5\" >0</td>\n",
       "      <td id=\"T_d21dc_row43_col6\" class=\"data row43 col6\" >0</td>\n",
       "      <td id=\"T_d21dc_row43_col7\" class=\"data row43 col7\" >0</td>\n",
       "      <td id=\"T_d21dc_row43_col8\" class=\"data row43 col8\" >0</td>\n",
       "      <td id=\"T_d21dc_row43_col9\" class=\"data row43 col9\" >0</td>\n",
       "      <td id=\"T_d21dc_row43_col10\" class=\"data row43 col10\" >0</td>\n",
       "    </tr>\n",
       "    <tr>\n",
       "      <th id=\"T_d21dc_level0_row44\" class=\"row_heading level0 row44\" >V60</th>\n",
       "      <td id=\"T_d21dc_row44_col0\" class=\"data row44 col0\" >0</td>\n",
       "      <td id=\"T_d21dc_row44_col1\" class=\"data row44 col1\" >0</td>\n",
       "      <td id=\"T_d21dc_row44_col2\" class=\"data row44 col2\" >0</td>\n",
       "      <td id=\"T_d21dc_row44_col3\" class=\"data row44 col3\" >0</td>\n",
       "      <td id=\"T_d21dc_row44_col4\" class=\"data row44 col4\" >0</td>\n",
       "      <td id=\"T_d21dc_row44_col5\" class=\"data row44 col5\" >0</td>\n",
       "      <td id=\"T_d21dc_row44_col6\" class=\"data row44 col6\" >0</td>\n",
       "      <td id=\"T_d21dc_row44_col7\" class=\"data row44 col7\" >0</td>\n",
       "      <td id=\"T_d21dc_row44_col8\" class=\"data row44 col8\" >0</td>\n",
       "      <td id=\"T_d21dc_row44_col9\" class=\"data row44 col9\" >0</td>\n",
       "      <td id=\"T_d21dc_row44_col10\" class=\"data row44 col10\" >0</td>\n",
       "    </tr>\n",
       "  </tbody>\n",
       "</table>\n"
      ],
      "text/plain": [
       "<pandas.io.formats.style.Styler at 0x310871d00>"
      ]
     },
     "execution_count": 35,
     "metadata": {},
     "output_type": "execute_result"
    }
   ],
   "source": [
    "# Show what the top transactions with the highest amounts look like transposed.\n",
    "df_pivot[df_pivot.select_dtypes(np.number)\n",
    "                 .apply(lambda x: 4 < x, axis=1)\n",
    "                 .any(axis=1)] \\\n",
    "        .T \\\n",
    "        .style \\\n",
    "        .background_gradient(axis=None) \\\n",
    "        .format('{:,.0f}')"
   ]
  },
  {
   "cell_type": "code",
   "execution_count": 36,
   "id": "b46a1388-d3eb-49d2-a583-912f71028180",
   "metadata": {
    "tags": []
   },
   "outputs": [
    {
     "data": {
      "text/html": [
       "<div>\n",
       "<style scoped>\n",
       "    .dataframe tbody tr th:only-of-type {\n",
       "        vertical-align: middle;\n",
       "    }\n",
       "\n",
       "    .dataframe tbody tr th {\n",
       "        vertical-align: top;\n",
       "    }\n",
       "\n",
       "    .dataframe thead th {\n",
       "        text-align: right;\n",
       "    }\n",
       "</style>\n",
       "<table border=\"1\" class=\"dataframe\">\n",
       "  <thead>\n",
       "    <tr style=\"text-align: right;\">\n",
       "      <th>item</th>\n",
       "      <th>Almond Croisant</th>\n",
       "      <th>Americano Hot</th>\n",
       "      <th>Americano Iced</th>\n",
       "      <th>Apple Turnover</th>\n",
       "      <th>Blueberry Muffins</th>\n",
       "      <th>Brownies</th>\n",
       "      <th>Cake Of The Day</th>\n",
       "      <th>Cappucino Hot</th>\n",
       "      <th>Cappucino Iced</th>\n",
       "      <th>Carrot cake</th>\n",
       "      <th>...</th>\n",
       "      <th>Mochaccino Iced</th>\n",
       "      <th>Pain Au Chocolat</th>\n",
       "      <th>Pain Au Suisse</th>\n",
       "      <th>PiccoloHot</th>\n",
       "      <th>PiccoloIced</th>\n",
       "      <th>Pistachio Croissant</th>\n",
       "      <th>Plain Croisant</th>\n",
       "      <th>Tiramisu</th>\n",
       "      <th>Tiramisu cake</th>\n",
       "      <th>V60</th>\n",
       "    </tr>\n",
       "    <tr>\n",
       "      <th>transaction_number</th>\n",
       "      <th></th>\n",
       "      <th></th>\n",
       "      <th></th>\n",
       "      <th></th>\n",
       "      <th></th>\n",
       "      <th></th>\n",
       "      <th></th>\n",
       "      <th></th>\n",
       "      <th></th>\n",
       "      <th></th>\n",
       "      <th></th>\n",
       "      <th></th>\n",
       "      <th></th>\n",
       "      <th></th>\n",
       "      <th></th>\n",
       "      <th></th>\n",
       "      <th></th>\n",
       "      <th></th>\n",
       "      <th></th>\n",
       "      <th></th>\n",
       "      <th></th>\n",
       "    </tr>\n",
       "  </thead>\n",
       "  <tbody>\n",
       "    <tr>\n",
       "      <th>6</th>\n",
       "      <td>0</td>\n",
       "      <td>1</td>\n",
       "      <td>0</td>\n",
       "      <td>0</td>\n",
       "      <td>0</td>\n",
       "      <td>1</td>\n",
       "      <td>0</td>\n",
       "      <td>0</td>\n",
       "      <td>0</td>\n",
       "      <td>0</td>\n",
       "      <td>...</td>\n",
       "      <td>0</td>\n",
       "      <td>0</td>\n",
       "      <td>0</td>\n",
       "      <td>0</td>\n",
       "      <td>0</td>\n",
       "      <td>0</td>\n",
       "      <td>0</td>\n",
       "      <td>0</td>\n",
       "      <td>0</td>\n",
       "      <td>1</td>\n",
       "    </tr>\n",
       "    <tr>\n",
       "      <th>7</th>\n",
       "      <td>0</td>\n",
       "      <td>0</td>\n",
       "      <td>0</td>\n",
       "      <td>0</td>\n",
       "      <td>0</td>\n",
       "      <td>0</td>\n",
       "      <td>0</td>\n",
       "      <td>0</td>\n",
       "      <td>0</td>\n",
       "      <td>0</td>\n",
       "      <td>...</td>\n",
       "      <td>0</td>\n",
       "      <td>1</td>\n",
       "      <td>0</td>\n",
       "      <td>0</td>\n",
       "      <td>0</td>\n",
       "      <td>0</td>\n",
       "      <td>0</td>\n",
       "      <td>0</td>\n",
       "      <td>0</td>\n",
       "      <td>1</td>\n",
       "    </tr>\n",
       "    <tr>\n",
       "      <th>8</th>\n",
       "      <td>0</td>\n",
       "      <td>0</td>\n",
       "      <td>0</td>\n",
       "      <td>0</td>\n",
       "      <td>0</td>\n",
       "      <td>0</td>\n",
       "      <td>0</td>\n",
       "      <td>0</td>\n",
       "      <td>0</td>\n",
       "      <td>0</td>\n",
       "      <td>...</td>\n",
       "      <td>0</td>\n",
       "      <td>0</td>\n",
       "      <td>0</td>\n",
       "      <td>0</td>\n",
       "      <td>0</td>\n",
       "      <td>0</td>\n",
       "      <td>0</td>\n",
       "      <td>0</td>\n",
       "      <td>0</td>\n",
       "      <td>1</td>\n",
       "    </tr>\n",
       "    <tr>\n",
       "      <th>9</th>\n",
       "      <td>0</td>\n",
       "      <td>0</td>\n",
       "      <td>0</td>\n",
       "      <td>0</td>\n",
       "      <td>0</td>\n",
       "      <td>0</td>\n",
       "      <td>0</td>\n",
       "      <td>0</td>\n",
       "      <td>0</td>\n",
       "      <td>1</td>\n",
       "      <td>...</td>\n",
       "      <td>0</td>\n",
       "      <td>0</td>\n",
       "      <td>0</td>\n",
       "      <td>0</td>\n",
       "      <td>0</td>\n",
       "      <td>1</td>\n",
       "      <td>0</td>\n",
       "      <td>0</td>\n",
       "      <td>0</td>\n",
       "      <td>1</td>\n",
       "    </tr>\n",
       "    <tr>\n",
       "      <th>441</th>\n",
       "      <td>0</td>\n",
       "      <td>0</td>\n",
       "      <td>0</td>\n",
       "      <td>0</td>\n",
       "      <td>0</td>\n",
       "      <td>0</td>\n",
       "      <td>0</td>\n",
       "      <td>0</td>\n",
       "      <td>0</td>\n",
       "      <td>0</td>\n",
       "      <td>...</td>\n",
       "      <td>0</td>\n",
       "      <td>0</td>\n",
       "      <td>0</td>\n",
       "      <td>0</td>\n",
       "      <td>0</td>\n",
       "      <td>0</td>\n",
       "      <td>0</td>\n",
       "      <td>0</td>\n",
       "      <td>0</td>\n",
       "      <td>0</td>\n",
       "    </tr>\n",
       "  </tbody>\n",
       "</table>\n",
       "<p>5 rows × 45 columns</p>\n",
       "</div>"
      ],
      "text/plain": [
       "item                Almond Croisant  Americano Hot  Americano Iced  \\\n",
       "transaction_number                                                   \n",
       "6                                 0              1               0   \n",
       "7                                 0              0               0   \n",
       "8                                 0              0               0   \n",
       "9                                 0              0               0   \n",
       "441                               0              0               0   \n",
       "\n",
       "item                Apple Turnover  Blueberry Muffins  Brownies  \\\n",
       "transaction_number                                                \n",
       "6                                0                  0         1   \n",
       "7                                0                  0         0   \n",
       "8                                0                  0         0   \n",
       "9                                0                  0         0   \n",
       "441                              0                  0         0   \n",
       "\n",
       "item                Cake Of The Day  Cappucino Hot  Cappucino Iced  \\\n",
       "transaction_number                                                   \n",
       "6                                 0              0               0   \n",
       "7                                 0              0               0   \n",
       "8                                 0              0               0   \n",
       "9                                 0              0               0   \n",
       "441                               0              0               0   \n",
       "\n",
       "item                Carrot cake  ...  Mochaccino Iced  Pain Au Chocolat  \\\n",
       "transaction_number               ...                                      \n",
       "6                             0  ...                0                 0   \n",
       "7                             0  ...                0                 1   \n",
       "8                             0  ...                0                 0   \n",
       "9                             1  ...                0                 0   \n",
       "441                           0  ...                0                 0   \n",
       "\n",
       "item                Pain Au Suisse  PiccoloHot  PiccoloIced  \\\n",
       "transaction_number                                            \n",
       "6                                0           0            0   \n",
       "7                                0           0            0   \n",
       "8                                0           0            0   \n",
       "9                                0           0            0   \n",
       "441                              0           0            0   \n",
       "\n",
       "item                Pistachio Croissant  Plain Croisant  Tiramisu  \\\n",
       "transaction_number                                                  \n",
       "6                                     0               0         0   \n",
       "7                                     0               0         0   \n",
       "8                                     0               0         0   \n",
       "9                                     1               0         0   \n",
       "441                                   0               0         0   \n",
       "\n",
       "item                Tiramisu cake  V60  \n",
       "transaction_number                      \n",
       "6                               0    1  \n",
       "7                               0    1  \n",
       "8                               0    1  \n",
       "9                               0    1  \n",
       "441                             0    0  \n",
       "\n",
       "[5 rows x 45 columns]"
      ]
     },
     "execution_count": 36,
     "metadata": {},
     "output_type": "execute_result"
    }
   ],
   "source": [
    "def encode(x):\n",
    "    if x <= 0:\n",
    "        return 0\n",
    "    else:\n",
    "        return 1\n",
    "\n",
    "df_pivot = df_pivot.map(encode)\n",
    "df_pivot.head()"
   ]
  },
  {
   "cell_type": "code",
   "execution_count": 37,
   "id": "9005e410-5c39-47f3-b035-0c31bd217d40",
   "metadata": {
    "tags": []
   },
   "outputs": [
    {
     "name": "stderr",
     "output_type": "stream",
     "text": [
      "/opt/anaconda3/lib/python3.12/site-packages/mlxtend/frequent_patterns/fpcommon.py:109: DeprecationWarning:\n",
      "\n",
      "DataFrames with non-bool types result in worse computationalperformance and their support might be discontinued in the future.Please use a DataFrame with bool type\n",
      "\n"
     ]
    },
    {
     "data": {
      "text/html": [
       "<div>\n",
       "<style scoped>\n",
       "    .dataframe tbody tr th:only-of-type {\n",
       "        vertical-align: middle;\n",
       "    }\n",
       "\n",
       "    .dataframe tbody tr th {\n",
       "        vertical-align: top;\n",
       "    }\n",
       "\n",
       "    .dataframe thead th {\n",
       "        text-align: right;\n",
       "    }\n",
       "</style>\n",
       "<table border=\"1\" class=\"dataframe\">\n",
       "  <thead>\n",
       "    <tr style=\"text-align: right;\">\n",
       "      <th></th>\n",
       "      <th>support</th>\n",
       "      <th>itemsets</th>\n",
       "    </tr>\n",
       "  </thead>\n",
       "  <tbody>\n",
       "    <tr>\n",
       "      <th>14</th>\n",
       "      <td>0.357394</td>\n",
       "      <td>(Latte Iced)</td>\n",
       "    </tr>\n",
       "    <tr>\n",
       "      <th>5</th>\n",
       "      <td>0.188758</td>\n",
       "      <td>(Cappucino Hot)</td>\n",
       "    </tr>\n",
       "    <tr>\n",
       "      <th>13</th>\n",
       "      <td>0.146279</td>\n",
       "      <td>(Latte Hot)</td>\n",
       "    </tr>\n",
       "    <tr>\n",
       "      <th>2</th>\n",
       "      <td>0.136378</td>\n",
       "      <td>(Americano Iced)</td>\n",
       "    </tr>\n",
       "    <tr>\n",
       "      <th>24</th>\n",
       "      <td>0.121048</td>\n",
       "      <td>(V60)</td>\n",
       "    </tr>\n",
       "    <tr>\n",
       "      <th>...</th>\n",
       "      <td>...</td>\n",
       "      <td>...</td>\n",
       "    </tr>\n",
       "    <tr>\n",
       "      <th>38</th>\n",
       "      <td>0.011179</td>\n",
       "      <td>(Americano Iced, V60)</td>\n",
       "    </tr>\n",
       "    <tr>\n",
       "      <th>51</th>\n",
       "      <td>0.010540</td>\n",
       "      <td>(Decaf Coffee, Latte Hot)</td>\n",
       "    </tr>\n",
       "    <tr>\n",
       "      <th>34</th>\n",
       "      <td>0.010540</td>\n",
       "      <td>(Americano Iced, Cake Of The Day)</td>\n",
       "    </tr>\n",
       "    <tr>\n",
       "      <th>54</th>\n",
       "      <td>0.010540</td>\n",
       "      <td>(Pain Au Chocolat, Latte Hot)</td>\n",
       "    </tr>\n",
       "    <tr>\n",
       "      <th>17</th>\n",
       "      <td>0.010540</td>\n",
       "      <td>(Mochaccino Hot)</td>\n",
       "    </tr>\n",
       "  </tbody>\n",
       "</table>\n",
       "<p>61 rows × 2 columns</p>\n",
       "</div>"
      ],
      "text/plain": [
       "     support                           itemsets\n",
       "14  0.357394                       (Latte Iced)\n",
       "5   0.188758                    (Cappucino Hot)\n",
       "13  0.146279                        (Latte Hot)\n",
       "2   0.136378                   (Americano Iced)\n",
       "24  0.121048                              (V60)\n",
       "..       ...                                ...\n",
       "38  0.011179              (Americano Iced, V60)\n",
       "51  0.010540          (Decaf Coffee, Latte Hot)\n",
       "34  0.010540  (Americano Iced, Cake Of The Day)\n",
       "54  0.010540      (Pain Au Chocolat, Latte Hot)\n",
       "17  0.010540                   (Mochaccino Hot)\n",
       "\n",
       "[61 rows x 2 columns]"
      ]
     },
     "execution_count": 37,
     "metadata": {},
     "output_type": "execute_result"
    }
   ],
   "source": [
    "# our minimum support\n",
    "support = 0.01 \n",
    "frequent_items = apriori(\n",
    "    df_pivot, \n",
    "    min_support=support, \n",
    "    use_colnames=True)\n",
    "\n",
    "\n",
    "frequent_items.sort_values('support', ascending=False)\n"
   ]
  },
  {
   "cell_type": "markdown",
   "id": "1ae7a95b-3979-4a65-8a18-cb5792c30658",
   "metadata": {},
   "source": [
    "\"Lift\" is the ratio of the target reponse given the antecedent relative to no condition. In conditional probability speak this is:\n",
    "$$\n",
    "L = \\frac{P_{A|B}}{P_B}\n",
    "$$\n",
    "High lift suggests that the products tend to purchased together"
   ]
  },
  {
   "cell_type": "code",
   "execution_count": 38,
   "id": "ee8efc4b-b558-4179-b4a0-474938d535c5",
   "metadata": {
    "tags": []
   },
   "outputs": [
    {
     "data": {
      "text/html": [
       "<div>\n",
       "<style scoped>\n",
       "    .dataframe tbody tr th:only-of-type {\n",
       "        vertical-align: middle;\n",
       "    }\n",
       "\n",
       "    .dataframe tbody tr th {\n",
       "        vertical-align: top;\n",
       "    }\n",
       "\n",
       "    .dataframe thead th {\n",
       "        text-align: right;\n",
       "    }\n",
       "</style>\n",
       "<table border=\"1\" class=\"dataframe\">\n",
       "  <thead>\n",
       "    <tr style=\"text-align: right;\">\n",
       "      <th></th>\n",
       "      <th>antecedents</th>\n",
       "      <th>consequents</th>\n",
       "      <th>support</th>\n",
       "      <th>confidence</th>\n",
       "      <th>lift</th>\n",
       "    </tr>\n",
       "  </thead>\n",
       "  <tbody>\n",
       "    <tr>\n",
       "      <th>0</th>\n",
       "      <td>(Almond Croisant)</td>\n",
       "      <td>(Cappucino Iced)</td>\n",
       "      <td>0.011498</td>\n",
       "      <td>0.116505</td>\n",
       "      <td>1.021783</td>\n",
       "    </tr>\n",
       "    <tr>\n",
       "      <th>1</th>\n",
       "      <td>(Cappucino Iced)</td>\n",
       "      <td>(Almond Croisant)</td>\n",
       "      <td>0.011498</td>\n",
       "      <td>0.100840</td>\n",
       "      <td>1.021783</td>\n",
       "    </tr>\n",
       "    <tr>\n",
       "      <th>2</th>\n",
       "      <td>(Pain Au Chocolat)</td>\n",
       "      <td>(Almond Croisant)</td>\n",
       "      <td>0.014372</td>\n",
       "      <td>0.214286</td>\n",
       "      <td>2.171290</td>\n",
       "    </tr>\n",
       "    <tr>\n",
       "      <th>3</th>\n",
       "      <td>(Almond Croisant)</td>\n",
       "      <td>(Pain Au Chocolat)</td>\n",
       "      <td>0.014372</td>\n",
       "      <td>0.145631</td>\n",
       "      <td>2.171290</td>\n",
       "    </tr>\n",
       "    <tr>\n",
       "      <th>4</th>\n",
       "      <td>(Cappucino Hot)</td>\n",
       "      <td>(Americano Hot)</td>\n",
       "      <td>0.014692</td>\n",
       "      <td>0.077834</td>\n",
       "      <td>1.154971</td>\n",
       "    </tr>\n",
       "    <tr>\n",
       "      <th>5</th>\n",
       "      <td>(Americano Hot)</td>\n",
       "      <td>(Cappucino Hot)</td>\n",
       "      <td>0.014692</td>\n",
       "      <td>0.218009</td>\n",
       "      <td>1.154971</td>\n",
       "    </tr>\n",
       "    <tr>\n",
       "      <th>6</th>\n",
       "      <td>(Americano Hot)</td>\n",
       "      <td>(Latte Hot)</td>\n",
       "      <td>0.013095</td>\n",
       "      <td>0.194313</td>\n",
       "      <td>1.328370</td>\n",
       "    </tr>\n",
       "    <tr>\n",
       "      <th>7</th>\n",
       "      <td>(Latte Hot)</td>\n",
       "      <td>(Americano Hot)</td>\n",
       "      <td>0.013095</td>\n",
       "      <td>0.089520</td>\n",
       "      <td>1.328370</td>\n",
       "    </tr>\n",
       "    <tr>\n",
       "      <th>8</th>\n",
       "      <td>(Americano Iced)</td>\n",
       "      <td>(Cappucino Iced)</td>\n",
       "      <td>0.015650</td>\n",
       "      <td>0.114754</td>\n",
       "      <td>1.006429</td>\n",
       "    </tr>\n",
       "    <tr>\n",
       "      <th>9</th>\n",
       "      <td>(Cappucino Iced)</td>\n",
       "      <td>(Americano Iced)</td>\n",
       "      <td>0.015650</td>\n",
       "      <td>0.137255</td>\n",
       "      <td>1.006429</td>\n",
       "    </tr>\n",
       "    <tr>\n",
       "      <th>10</th>\n",
       "      <td>(Cake Of The Day)</td>\n",
       "      <td>(Latte Hot)</td>\n",
       "      <td>0.013414</td>\n",
       "      <td>0.148936</td>\n",
       "      <td>1.018164</td>\n",
       "    </tr>\n",
       "    <tr>\n",
       "      <th>11</th>\n",
       "      <td>(Latte Hot)</td>\n",
       "      <td>(Cake Of The Day)</td>\n",
       "      <td>0.013414</td>\n",
       "      <td>0.091703</td>\n",
       "      <td>1.018164</td>\n",
       "    </tr>\n",
       "    <tr>\n",
       "      <th>12</th>\n",
       "      <td>(Cappucino Hot)</td>\n",
       "      <td>(Pain Au Chocolat)</td>\n",
       "      <td>0.014692</td>\n",
       "      <td>0.077834</td>\n",
       "      <td>1.160471</td>\n",
       "    </tr>\n",
       "    <tr>\n",
       "      <th>13</th>\n",
       "      <td>(Pain Au Chocolat)</td>\n",
       "      <td>(Cappucino Hot)</td>\n",
       "      <td>0.014692</td>\n",
       "      <td>0.219048</td>\n",
       "      <td>1.160471</td>\n",
       "    </tr>\n",
       "    <tr>\n",
       "      <th>14</th>\n",
       "      <td>(Cappucino Hot)</td>\n",
       "      <td>(Pistachio Croissant)</td>\n",
       "      <td>0.011179</td>\n",
       "      <td>0.059222</td>\n",
       "      <td>1.090724</td>\n",
       "    </tr>\n",
       "    <tr>\n",
       "      <th>15</th>\n",
       "      <td>(Pistachio Croissant)</td>\n",
       "      <td>(Cappucino Hot)</td>\n",
       "      <td>0.011179</td>\n",
       "      <td>0.205882</td>\n",
       "      <td>1.090724</td>\n",
       "    </tr>\n",
       "    <tr>\n",
       "      <th>16</th>\n",
       "      <td>(Cappucino Hot)</td>\n",
       "      <td>(Plain Croisant)</td>\n",
       "      <td>0.015969</td>\n",
       "      <td>0.084602</td>\n",
       "      <td>1.408989</td>\n",
       "    </tr>\n",
       "    <tr>\n",
       "      <th>17</th>\n",
       "      <td>(Plain Croisant)</td>\n",
       "      <td>(Cappucino Hot)</td>\n",
       "      <td>0.015969</td>\n",
       "      <td>0.265957</td>\n",
       "      <td>1.408989</td>\n",
       "    </tr>\n",
       "    <tr>\n",
       "      <th>18</th>\n",
       "      <td>(Decaf Coffee)</td>\n",
       "      <td>(Latte Hot)</td>\n",
       "      <td>0.010540</td>\n",
       "      <td>0.266129</td>\n",
       "      <td>1.819323</td>\n",
       "    </tr>\n",
       "    <tr>\n",
       "      <th>19</th>\n",
       "      <td>(Latte Hot)</td>\n",
       "      <td>(Decaf Coffee)</td>\n",
       "      <td>0.010540</td>\n",
       "      <td>0.072052</td>\n",
       "      <td>1.819323</td>\n",
       "    </tr>\n",
       "    <tr>\n",
       "      <th>20</th>\n",
       "      <td>(Latte Iced)</td>\n",
       "      <td>(Decaf Coffee)</td>\n",
       "      <td>0.018844</td>\n",
       "      <td>0.052726</td>\n",
       "      <td>1.331323</td>\n",
       "    </tr>\n",
       "    <tr>\n",
       "      <th>21</th>\n",
       "      <td>(Decaf Coffee)</td>\n",
       "      <td>(Latte Iced)</td>\n",
       "      <td>0.018844</td>\n",
       "      <td>0.475806</td>\n",
       "      <td>1.331323</td>\n",
       "    </tr>\n",
       "    <tr>\n",
       "      <th>22</th>\n",
       "      <td>(Pain Au Chocolat)</td>\n",
       "      <td>(Latte Hot)</td>\n",
       "      <td>0.010540</td>\n",
       "      <td>0.157143</td>\n",
       "      <td>1.074267</td>\n",
       "    </tr>\n",
       "    <tr>\n",
       "      <th>23</th>\n",
       "      <td>(Latte Hot)</td>\n",
       "      <td>(Pain Au Chocolat)</td>\n",
       "      <td>0.010540</td>\n",
       "      <td>0.072052</td>\n",
       "      <td>1.074267</td>\n",
       "    </tr>\n",
       "    <tr>\n",
       "      <th>24</th>\n",
       "      <td>(Plain Croisant)</td>\n",
       "      <td>(Latte Hot)</td>\n",
       "      <td>0.011817</td>\n",
       "      <td>0.196809</td>\n",
       "      <td>1.345431</td>\n",
       "    </tr>\n",
       "    <tr>\n",
       "      <th>25</th>\n",
       "      <td>(Latte Hot)</td>\n",
       "      <td>(Plain Croisant)</td>\n",
       "      <td>0.011817</td>\n",
       "      <td>0.080786</td>\n",
       "      <td>1.345431</td>\n",
       "    </tr>\n",
       "  </tbody>\n",
       "</table>\n",
       "</div>"
      ],
      "text/plain": [
       "              antecedents            consequents   support  confidence  \\\n",
       "0       (Almond Croisant)       (Cappucino Iced)  0.011498    0.116505   \n",
       "1        (Cappucino Iced)      (Almond Croisant)  0.011498    0.100840   \n",
       "2      (Pain Au Chocolat)      (Almond Croisant)  0.014372    0.214286   \n",
       "3       (Almond Croisant)     (Pain Au Chocolat)  0.014372    0.145631   \n",
       "4         (Cappucino Hot)        (Americano Hot)  0.014692    0.077834   \n",
       "5         (Americano Hot)        (Cappucino Hot)  0.014692    0.218009   \n",
       "6         (Americano Hot)            (Latte Hot)  0.013095    0.194313   \n",
       "7             (Latte Hot)        (Americano Hot)  0.013095    0.089520   \n",
       "8        (Americano Iced)       (Cappucino Iced)  0.015650    0.114754   \n",
       "9        (Cappucino Iced)       (Americano Iced)  0.015650    0.137255   \n",
       "10      (Cake Of The Day)            (Latte Hot)  0.013414    0.148936   \n",
       "11            (Latte Hot)      (Cake Of The Day)  0.013414    0.091703   \n",
       "12        (Cappucino Hot)     (Pain Au Chocolat)  0.014692    0.077834   \n",
       "13     (Pain Au Chocolat)        (Cappucino Hot)  0.014692    0.219048   \n",
       "14        (Cappucino Hot)  (Pistachio Croissant)  0.011179    0.059222   \n",
       "15  (Pistachio Croissant)        (Cappucino Hot)  0.011179    0.205882   \n",
       "16        (Cappucino Hot)       (Plain Croisant)  0.015969    0.084602   \n",
       "17       (Plain Croisant)        (Cappucino Hot)  0.015969    0.265957   \n",
       "18         (Decaf Coffee)            (Latte Hot)  0.010540    0.266129   \n",
       "19            (Latte Hot)         (Decaf Coffee)  0.010540    0.072052   \n",
       "20           (Latte Iced)         (Decaf Coffee)  0.018844    0.052726   \n",
       "21         (Decaf Coffee)           (Latte Iced)  0.018844    0.475806   \n",
       "22     (Pain Au Chocolat)            (Latte Hot)  0.010540    0.157143   \n",
       "23            (Latte Hot)     (Pain Au Chocolat)  0.010540    0.072052   \n",
       "24       (Plain Croisant)            (Latte Hot)  0.011817    0.196809   \n",
       "25            (Latte Hot)       (Plain Croisant)  0.011817    0.080786   \n",
       "\n",
       "        lift  \n",
       "0   1.021783  \n",
       "1   1.021783  \n",
       "2   2.171290  \n",
       "3   2.171290  \n",
       "4   1.154971  \n",
       "5   1.154971  \n",
       "6   1.328370  \n",
       "7   1.328370  \n",
       "8   1.006429  \n",
       "9   1.006429  \n",
       "10  1.018164  \n",
       "11  1.018164  \n",
       "12  1.160471  \n",
       "13  1.160471  \n",
       "14  1.090724  \n",
       "15  1.090724  \n",
       "16  1.408989  \n",
       "17  1.408989  \n",
       "18  1.819323  \n",
       "19  1.819323  \n",
       "20  1.331323  \n",
       "21  1.331323  \n",
       "22  1.074267  \n",
       "23  1.074267  \n",
       "24  1.345431  \n",
       "25  1.345431  "
      ]
     },
     "execution_count": 38,
     "metadata": {},
     "output_type": "execute_result"
    }
   ],
   "source": [
    "metric = 'lift'\n",
    "min_treshold = 1\n",
    "\n",
    "rules = association_rules(\n",
    "    frequent_items, \n",
    "    metric=metric, \n",
    "    min_threshold=min_treshold)\n",
    "\n",
    "\n",
    "cols_to_keep = ['antecedents','consequents','support','confidence','lift']\n",
    "\n",
    "rules = rules[cols_to_keep]\n",
    "rules.reset_index(drop=True).sort_values('confidence',ascending=False, inplace = True)\n",
    "rules"
   ]
  },
  {
   "cell_type": "code",
   "execution_count": 39,
   "id": "6b4cf1c3-6046-4aba-9c21-186242b9d570",
   "metadata": {
    "tags": []
   },
   "outputs": [
    {
     "data": {
      "text/plain": [
       "[0, 0, 0, 0, 0, 0, 0, 0, 0, 0, 0, 0, 0, 0, 0, 0, 0, 0, 0, 0, 0, 0, 0, 0, 0, 0]"
      ]
     },
     "execution_count": 39,
     "metadata": {},
     "output_type": "execute_result"
    }
   ],
   "source": [
    "# First we build a network from the association rule data\n",
    "\n",
    "import networkx as nx\n",
    "\n",
    "\n",
    "### THIS IS TOO CONFUSING FOR KIDS \n",
    "from_nodes = [list(x)[0] for x in rules.antecedents]\n",
    "from_nodes\n",
    "from_nodes = rules.antecedents\n",
    "# to_nodes = [list(x)[0] for x in rules.consequents]\n",
    "to_nodes = rules.consequents\n",
    "# connections = zip(from_nodes, to_nodes)\n",
    "\n",
    "connections = []\n",
    "\n",
    "for from_node, to_node in zip(from_nodes, to_nodes):\n",
    "    connections.append([from_node, to_node])\n",
    "\n",
    "G = nx.MultiDiGraph()\n",
    "G.add_edges_from(connections)\n"
   ]
  },
  {
   "cell_type": "code",
   "execution_count": 40,
   "id": "5b72fe96-6007-4534-8db4-593f3be00618",
   "metadata": {
    "tags": []
   },
   "outputs": [
    {
     "data": {
      "image/png": "[encoded data removed]",
      "text/plain": [
       "<Figure size 800x800 with 1 Axes>"
      ]
     },
     "metadata": {},
     "output_type": "display_data"
    }
   ],
   "source": [
    "import matplotlib.pyplot as plt\n",
    "plt.figure(1,figsize=(8,8))\n",
    "nx.draw_networkx(G,\n",
    "                 arrows=True,\n",
    "                 node_size=1000,\n",
    "                 font_size=10, \n",
    "                 node_color=\"tab:green\", \n",
    "                 font_color='blue', \n",
    "                 connectionstyle='arc3, rad=0.1')\n"
   ]
  },
  {
   "cell_type": "markdown",
   "id": "8ee46076-2b1f-45b7-80dc-c2477c7f791f",
   "metadata": {},
   "source": [
    "Here, we see that the arrows flow both ways.  This shouldn't be suprising since the data contains purchases that happen at the same time.  "
   ]
  },
  {
   "cell_type": "code",
   "execution_count": 41,
   "id": "1580de86",
   "metadata": {},
   "outputs": [
    {
     "data": {
      "text/html": [
       "<div>\n",
       "<style scoped>\n",
       "    .dataframe tbody tr th:only-of-type {\n",
       "        vertical-align: middle;\n",
       "    }\n",
       "\n",
       "    .dataframe tbody tr th {\n",
       "        vertical-align: top;\n",
       "    }\n",
       "\n",
       "    .dataframe thead th {\n",
       "        text-align: right;\n",
       "    }\n",
       "</style>\n",
       "<table border=\"1\" class=\"dataframe\">\n",
       "  <thead>\n",
       "    <tr style=\"text-align: right;\">\n",
       "      <th></th>\n",
       "      <th>antecedents</th>\n",
       "      <th>consequents</th>\n",
       "      <th>support</th>\n",
       "      <th>confidence</th>\n",
       "      <th>lift</th>\n",
       "    </tr>\n",
       "  </thead>\n",
       "  <tbody>\n",
       "    <tr>\n",
       "      <th>0</th>\n",
       "      <td>(Almond Croisant)</td>\n",
       "      <td>(Cappucino Iced)</td>\n",
       "      <td>0.011498</td>\n",
       "      <td>0.116505</td>\n",
       "      <td>1.021783</td>\n",
       "    </tr>\n",
       "    <tr>\n",
       "      <th>1</th>\n",
       "      <td>(Cappucino Iced)</td>\n",
       "      <td>(Almond Croisant)</td>\n",
       "      <td>0.011498</td>\n",
       "      <td>0.100840</td>\n",
       "      <td>1.021783</td>\n",
       "    </tr>\n",
       "    <tr>\n",
       "      <th>2</th>\n",
       "      <td>(Pain Au Chocolat)</td>\n",
       "      <td>(Almond Croisant)</td>\n",
       "      <td>0.014372</td>\n",
       "      <td>0.214286</td>\n",
       "      <td>2.171290</td>\n",
       "    </tr>\n",
       "    <tr>\n",
       "      <th>3</th>\n",
       "      <td>(Almond Croisant)</td>\n",
       "      <td>(Pain Au Chocolat)</td>\n",
       "      <td>0.014372</td>\n",
       "      <td>0.145631</td>\n",
       "      <td>2.171290</td>\n",
       "    </tr>\n",
       "    <tr>\n",
       "      <th>4</th>\n",
       "      <td>(Cappucino Hot)</td>\n",
       "      <td>(Americano Hot)</td>\n",
       "      <td>0.014692</td>\n",
       "      <td>0.077834</td>\n",
       "      <td>1.154971</td>\n",
       "    </tr>\n",
       "  </tbody>\n",
       "</table>\n",
       "</div>"
      ],
      "text/plain": [
       "          antecedents         consequents   support  confidence      lift\n",
       "0   (Almond Croisant)    (Cappucino Iced)  0.011498    0.116505  1.021783\n",
       "1    (Cappucino Iced)   (Almond Croisant)  0.011498    0.100840  1.021783\n",
       "2  (Pain Au Chocolat)   (Almond Croisant)  0.014372    0.214286  2.171290\n",
       "3   (Almond Croisant)  (Pain Au Chocolat)  0.014372    0.145631  2.171290\n",
       "4     (Cappucino Hot)     (Americano Hot)  0.014692    0.077834  1.154971"
      ]
     },
     "execution_count": 41,
     "metadata": {},
     "output_type": "execute_result"
    }
   ],
   "source": [
    "rules.head()"
   ]
  },
  {
   "cell_type": "code",
   "execution_count": 42,
   "id": "a2354f1e-ef04-4081-baab-5f86145ab46f",
   "metadata": {
    "tags": []
   },
   "outputs": [
    {
     "data": {
      "text/html": [
       "<div>\n",
       "<style scoped>\n",
       "    .dataframe tbody tr th:only-of-type {\n",
       "        vertical-align: middle;\n",
       "    }\n",
       "\n",
       "    .dataframe tbody tr th {\n",
       "        vertical-align: top;\n",
       "    }\n",
       "\n",
       "    .dataframe thead th {\n",
       "        text-align: right;\n",
       "    }\n",
       "</style>\n",
       "<table border=\"1\" class=\"dataframe\">\n",
       "  <thead>\n",
       "    <tr style=\"text-align: right;\">\n",
       "      <th></th>\n",
       "      <th>antecedents</th>\n",
       "      <th>consequents</th>\n",
       "      <th>support</th>\n",
       "      <th>confidence</th>\n",
       "      <th>lift</th>\n",
       "      <th>connections</th>\n",
       "    </tr>\n",
       "  </thead>\n",
       "  <tbody>\n",
       "    <tr>\n",
       "      <th>2</th>\n",
       "      <td>Pain Au Chocolat</td>\n",
       "      <td>Almond Croisant</td>\n",
       "      <td>0.014372</td>\n",
       "      <td>0.214286</td>\n",
       "      <td>2.171290</td>\n",
       "      <td>Pain Au Chocolat&lt;-&gt;Almond Croisant</td>\n",
       "    </tr>\n",
       "    <tr>\n",
       "      <th>18</th>\n",
       "      <td>Decaf Coffee</td>\n",
       "      <td>Latte Hot</td>\n",
       "      <td>0.010540</td>\n",
       "      <td>0.266129</td>\n",
       "      <td>1.819323</td>\n",
       "      <td>Decaf Coffee&lt;-&gt;Latte Hot</td>\n",
       "    </tr>\n",
       "    <tr>\n",
       "      <th>16</th>\n",
       "      <td>Cappucino Hot</td>\n",
       "      <td>Plain Croisant</td>\n",
       "      <td>0.015969</td>\n",
       "      <td>0.084602</td>\n",
       "      <td>1.408989</td>\n",
       "      <td>Cappucino Hot&lt;-&gt;Plain Croisant</td>\n",
       "    </tr>\n",
       "    <tr>\n",
       "      <th>24</th>\n",
       "      <td>Plain Croisant</td>\n",
       "      <td>Latte Hot</td>\n",
       "      <td>0.011817</td>\n",
       "      <td>0.196809</td>\n",
       "      <td>1.345431</td>\n",
       "      <td>Plain Croisant&lt;-&gt;Latte Hot</td>\n",
       "    </tr>\n",
       "    <tr>\n",
       "      <th>20</th>\n",
       "      <td>Latte Iced</td>\n",
       "      <td>Decaf Coffee</td>\n",
       "      <td>0.018844</td>\n",
       "      <td>0.052726</td>\n",
       "      <td>1.331323</td>\n",
       "      <td>Latte Iced&lt;-&gt;Decaf Coffee</td>\n",
       "    </tr>\n",
       "    <tr>\n",
       "      <th>6</th>\n",
       "      <td>Americano Hot</td>\n",
       "      <td>Latte Hot</td>\n",
       "      <td>0.013095</td>\n",
       "      <td>0.194313</td>\n",
       "      <td>1.328370</td>\n",
       "      <td>Americano Hot&lt;-&gt;Latte Hot</td>\n",
       "    </tr>\n",
       "    <tr>\n",
       "      <th>12</th>\n",
       "      <td>Cappucino Hot</td>\n",
       "      <td>Pain Au Chocolat</td>\n",
       "      <td>0.014692</td>\n",
       "      <td>0.077834</td>\n",
       "      <td>1.160471</td>\n",
       "      <td>Cappucino Hot&lt;-&gt;Pain Au Chocolat</td>\n",
       "    </tr>\n",
       "    <tr>\n",
       "      <th>4</th>\n",
       "      <td>Cappucino Hot</td>\n",
       "      <td>Americano Hot</td>\n",
       "      <td>0.014692</td>\n",
       "      <td>0.077834</td>\n",
       "      <td>1.154971</td>\n",
       "      <td>Cappucino Hot&lt;-&gt;Americano Hot</td>\n",
       "    </tr>\n",
       "    <tr>\n",
       "      <th>14</th>\n",
       "      <td>Cappucino Hot</td>\n",
       "      <td>Pistachio Croissant</td>\n",
       "      <td>0.011179</td>\n",
       "      <td>0.059222</td>\n",
       "      <td>1.090724</td>\n",
       "      <td>Cappucino Hot&lt;-&gt;Pistachio Croissant</td>\n",
       "    </tr>\n",
       "    <tr>\n",
       "      <th>22</th>\n",
       "      <td>Pain Au Chocolat</td>\n",
       "      <td>Latte Hot</td>\n",
       "      <td>0.010540</td>\n",
       "      <td>0.157143</td>\n",
       "      <td>1.074267</td>\n",
       "      <td>Pain Au Chocolat&lt;-&gt;Latte Hot</td>\n",
       "    </tr>\n",
       "    <tr>\n",
       "      <th>0</th>\n",
       "      <td>Almond Croisant</td>\n",
       "      <td>Cappucino Iced</td>\n",
       "      <td>0.011498</td>\n",
       "      <td>0.116505</td>\n",
       "      <td>1.021783</td>\n",
       "      <td>Almond Croisant&lt;-&gt;Cappucino Iced</td>\n",
       "    </tr>\n",
       "    <tr>\n",
       "      <th>10</th>\n",
       "      <td>Cake Of The Day</td>\n",
       "      <td>Latte Hot</td>\n",
       "      <td>0.013414</td>\n",
       "      <td>0.148936</td>\n",
       "      <td>1.018164</td>\n",
       "      <td>Cake Of The Day&lt;-&gt;Latte Hot</td>\n",
       "    </tr>\n",
       "    <tr>\n",
       "      <th>8</th>\n",
       "      <td>Americano Iced</td>\n",
       "      <td>Cappucino Iced</td>\n",
       "      <td>0.015650</td>\n",
       "      <td>0.114754</td>\n",
       "      <td>1.006429</td>\n",
       "      <td>Americano Iced&lt;-&gt;Cappucino Iced</td>\n",
       "    </tr>\n",
       "  </tbody>\n",
       "</table>\n",
       "</div>"
      ],
      "text/plain": [
       "         antecedents          consequents   support  confidence      lift  \\\n",
       "2   Pain Au Chocolat      Almond Croisant  0.014372    0.214286  2.171290   \n",
       "18      Decaf Coffee            Latte Hot  0.010540    0.266129  1.819323   \n",
       "16     Cappucino Hot       Plain Croisant  0.015969    0.084602  1.408989   \n",
       "24    Plain Croisant            Latte Hot  0.011817    0.196809  1.345431   \n",
       "20        Latte Iced         Decaf Coffee  0.018844    0.052726  1.331323   \n",
       "6      Americano Hot            Latte Hot  0.013095    0.194313  1.328370   \n",
       "12     Cappucino Hot     Pain Au Chocolat  0.014692    0.077834  1.160471   \n",
       "4      Cappucino Hot        Americano Hot  0.014692    0.077834  1.154971   \n",
       "14     Cappucino Hot  Pistachio Croissant  0.011179    0.059222  1.090724   \n",
       "22  Pain Au Chocolat            Latte Hot  0.010540    0.157143  1.074267   \n",
       "0    Almond Croisant       Cappucino Iced  0.011498    0.116505  1.021783   \n",
       "10   Cake Of The Day            Latte Hot  0.013414    0.148936  1.018164   \n",
       "8     Americano Iced       Cappucino Iced  0.015650    0.114754  1.006429   \n",
       "\n",
       "                            connections  \n",
       "2    Pain Au Chocolat<->Almond Croisant  \n",
       "18             Decaf Coffee<->Latte Hot  \n",
       "16       Cappucino Hot<->Plain Croisant  \n",
       "24           Plain Croisant<->Latte Hot  \n",
       "20            Latte Iced<->Decaf Coffee  \n",
       "6             Americano Hot<->Latte Hot  \n",
       "12     Cappucino Hot<->Pain Au Chocolat  \n",
       "4         Cappucino Hot<->Americano Hot  \n",
       "14  Cappucino Hot<->Pistachio Croissant  \n",
       "22         Pain Au Chocolat<->Latte Hot  \n",
       "0      Almond Croisant<->Cappucino Iced  \n",
       "10          Cake Of The Day<->Latte Hot  \n",
       "8       Americano Iced<->Cappucino Iced  "
      ]
     },
     "execution_count": 42,
     "metadata": {},
     "output_type": "execute_result"
    }
   ],
   "source": [
    "rules_even = rules.iloc[::2, :].copy() #  keep only even rows\n",
    "\n",
    "rules_even.antecedents= [list(x)[0] for x in rules_even.antecedents]  # get rid of frozensets\n",
    "rules_even.consequents= [list(x)[0] for x in rules_even.consequents]  # get rid of frozensets\n",
    "\n",
    "\n",
    "rules_even['connections'] = rules_even['antecedents']+'<->'+rules_even['consequents']\n",
    "rules_even= rules_even.sort_values('lift', ascending = False)\n",
    "rules_even"
   ]
  },
  {
   "cell_type": "code",
   "execution_count": 43,
   "id": "0941bd8e-aa90-4abf-b3e0-c816dc05d777",
   "metadata": {
    "tags": []
   },
   "outputs": [
    {
     "data": {
      "text/plain": [
       "Text(0.5, 1.0, 'Coffee Shop Product Lift')"
      ]
     },
     "execution_count": 43,
     "metadata": {},
     "output_type": "execute_result"
    },
    {
     "data": {
      "image/png": "[encoded data removed]",
      "text/plain": [
       "<Figure size 640x480 with 1 Axes>"
      ]
     },
     "metadata": {},
     "output_type": "display_data"
    }
   ],
   "source": [
    "import seaborn as sns\n",
    "sns.barplot(rules_even, y=\"connections\", x=\"lift\").set_title('Coffee Shop Product Lift')"
   ]
  },
  {
   "cell_type": "markdown",
   "id": "f5964bd3-f76a-426d-b73f-d2251e288da8",
   "metadata": {},
   "source": [
    "Apparently, the sweet tooth wins out!  "
   ]
  }
 ],
 "metadata": {
  "kernelspec": {
   "display_name": "Python 3 (ipykernel)",
   "language": "python",
   "name": "python3"
  },
  "language_info": {
   "codemirror_mode": {
    "name": "ipython",
    "version": 3
   },
   "file_extension": ".py",
   "mimetype": "text/x-python",
   "name": "python",
   "nbconvert_exporter": "python",
   "pygments_lexer": "ipython3",
   "version": "3.12.4"
  }
 },
 "nbformat": 4,
 "nbformat_minor": 5
}
