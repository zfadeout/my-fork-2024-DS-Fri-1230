{
 "cells": [
  {
   "cell_type": "code",
   "execution_count": 1,
   "id": "520b6c75-925e-4de5-bd9a-ed6a1f80eeb0",
   "metadata": {
    "tags": []
   },
   "outputs": [],
   "source": [
    "# Import pandas\n",
    "import pandas as pd"
   ]
  },
  {
   "cell_type": "code",
   "execution_count": 3,
   "id": "cc7fa726-c2fd-4cfd-9970-7da5371638be",
   "metadata": {
    "tags": []
   },
   "outputs": [],
   "source": [
    "# Load in the listings data\n",
    "df=pd.read_csv('data/listings.csv')"
   ]
  },
  {
   "cell_type": "markdown",
   "id": "859bfd59-1ab7-4b81-9953-7b88ff7cc1bb",
   "metadata": {},
   "source": [
    "####  Exercise 1: Create a bar chart and dataframe of top 10 Neigborhoods that have the most expensive listsings on average. \n",
    "Our goal is to make a chart reflecting the top 10 most expensive Neighborhoods.\n",
    "This is a little dubious - we assign \"expensive\" by calculating the average cost of \n",
    "an AirBnB in each neighborhood.\n",
    "\n",
    "1. Make a dataframe that sorts the neighborhood field by decending price.  \n",
    "1. Use head to cut back top the top 10\n",
    "1. Use pandas.plot.barh to generate a histogram (see [this](https://pandas.pydata.org/pandas-docs/stable/reference/api/pandas.DataFrame.plot.barh.html) wiki for details on pandas.plot.barh)\n",
    "1. Display the data that you used to create the bar chart as a table with neighborhood and average price as the columns.  You want this to match the pivot that you create in youur dashboard"
   ]
  },
  {
   "cell_type": "code",
   "execution_count": 9,
   "id": "52f83939-3f09-40ac-baab-794afa048f92",
   "metadata": {
    "tags": []
   },
   "outputs": [
    {
     "data": {
      "text/plain": [
       "<Axes: ylabel='neighbourhood'>"
      ]
     },
     "execution_count": 9,
     "metadata": {},
     "output_type": "execute_result"
    },
    {
     "data": {
      "image/png": "[encoded data removed]",
      "text/plain": [
       "<Figure size 640x480 with 1 Axes>"
      ]
     },
     "metadata": {},
     "output_type": "display_data"
    }
   ],
   "source": [
    "# our goal is to make a chart reflecting the top 10 most expensive Neighborhoods\n",
    "# This is a little dubious - we assign \"expensive\" by calculating the average cost of \n",
    "# an AirBnB in each neighborhood, then we take the top ten and weight each slice \n",
    "# by the average value.\n",
    "#\n",
    "# make a dataframe that sorts the neighborhood field by decending price.  \n",
    "# Use head to cut back top the top 10. Then, use df.plot.barh to generate a histogram.\n",
    "\n",
    "df_PriceDescending = df.groupby('neighbourhood')['price'].agg(['mean','count']).sort_values(by='mean',ascending=False).head(10)\n",
    "df_PriceDescending\n",
    "\n",
    "df_PriceDescending['mean'].plot.barh()"
   ]
  },
  {
   "cell_type": "code",
   "execution_count": 10,
   "id": "f96404b4-04de-4365-b11c-ceea9ef92468",
   "metadata": {
    "tags": []
   },
   "outputs": [
    {
     "data": {
      "text/html": [
       "<div>\n",
       "<style scoped>\n",
       "    .dataframe tbody tr th:only-of-type {\n",
       "        vertical-align: middle;\n",
       "    }\n",
       "\n",
       "    .dataframe tbody tr th {\n",
       "        vertical-align: top;\n",
       "    }\n",
       "\n",
       "    .dataframe thead th {\n",
       "        text-align: right;\n",
       "    }\n",
       "</style>\n",
       "<table border=\"1\" class=\"dataframe\">\n",
       "  <thead>\n",
       "    <tr style=\"text-align: right;\">\n",
       "      <th></th>\n",
       "      <th>mean</th>\n",
       "      <th>count</th>\n",
       "    </tr>\n",
       "    <tr>\n",
       "      <th>neighbourhood</th>\n",
       "      <th></th>\n",
       "      <th></th>\n",
       "    </tr>\n",
       "  </thead>\n",
       "  <tbody>\n",
       "    <tr>\n",
       "      <th>Fort Wadsworth</th>\n",
       "      <td>800.000000</td>\n",
       "      <td>1</td>\n",
       "    </tr>\n",
       "    <tr>\n",
       "      <th>Woodrow</th>\n",
       "      <td>700.000000</td>\n",
       "      <td>1</td>\n",
       "    </tr>\n",
       "    <tr>\n",
       "      <th>Sea Gate</th>\n",
       "      <td>418.230769</td>\n",
       "      <td>13</td>\n",
       "    </tr>\n",
       "    <tr>\n",
       "      <th>Tribeca</th>\n",
       "      <td>381.107143</td>\n",
       "      <td>196</td>\n",
       "    </tr>\n",
       "    <tr>\n",
       "      <th>Flatiron District</th>\n",
       "      <td>367.415584</td>\n",
       "      <td>77</td>\n",
       "    </tr>\n",
       "    <tr>\n",
       "      <th>Briarwood</th>\n",
       "      <td>366.162162</td>\n",
       "      <td>37</td>\n",
       "    </tr>\n",
       "    <tr>\n",
       "      <th>Financial District</th>\n",
       "      <td>335.385057</td>\n",
       "      <td>522</td>\n",
       "    </tr>\n",
       "    <tr>\n",
       "      <th>Willowbrook</th>\n",
       "      <td>309.000000</td>\n",
       "      <td>1</td>\n",
       "    </tr>\n",
       "    <tr>\n",
       "      <th>Tottenville</th>\n",
       "      <td>309.000000</td>\n",
       "      <td>1</td>\n",
       "    </tr>\n",
       "    <tr>\n",
       "      <th>Prince's Bay</th>\n",
       "      <td>300.000000</td>\n",
       "      <td>3</td>\n",
       "    </tr>\n",
       "  </tbody>\n",
       "</table>\n",
       "</div>"
      ],
      "text/plain": [
       "                          mean  count\n",
       "neighbourhood                        \n",
       "Fort Wadsworth      800.000000      1\n",
       "Woodrow             700.000000      1\n",
       "Sea Gate            418.230769     13\n",
       "Tribeca             381.107143    196\n",
       "Flatiron District   367.415584     77\n",
       "Briarwood           366.162162     37\n",
       "Financial District  335.385057    522\n",
       "Willowbrook         309.000000      1\n",
       "Tottenville         309.000000      1\n",
       "Prince's Bay        300.000000      3"
      ]
     },
     "execution_count": 10,
     "metadata": {},
     "output_type": "execute_result"
    }
   ],
   "source": [
    "# Now, display the top 10 datframe you created as a table with columns\n",
    "# neighbourhood and price\n",
    "df_PriceDescending.head(10)\n"
   ]
  },
  {
   "cell_type": "markdown",
   "id": "0eecec35-4f94-4faf-9d98-f16211801ffd",
   "metadata": {},
   "source": [
    "####  Exercise 2: Create a bar chart and dataframe of top 10 Neigborhoods that have the LEAST expensive listsings on average. \n",
    "\n",
    "Do the same thing you just did, but get the 10 least expensive neighborhoods.  Sort them from lowest average price to highest.  Bew wure to provide a pivot table."
   ]
  },
  {
   "cell_type": "code",
   "execution_count": 11,
   "id": "b1712997-2ab1-4dee-b506-f448b4c0829e",
   "metadata": {
    "tags": []
   },
   "outputs": [
    {
     "data": {
      "text/plain": [
       "<Axes: ylabel='neighbourhood'>"
      ]
     },
     "execution_count": 11,
     "metadata": {},
     "output_type": "execute_result"
    },
    {
     "data": {
      "image/png": "[encoded data removed]",
      "text/plain": [
       "<Figure size 640x480 with 1 Axes>"
      ]
     },
     "metadata": {},
     "output_type": "display_data"
    }
   ],
   "source": [
    "# Here we make the same chart using the bottom 10 Neighborhoods\n",
    "# by average price.  We sort ascending in this one.\n",
    "df_PriceAscending = df.groupby('neighbourhood')['price'].agg(['mean','count']).sort_values(by='mean').head(10)\n",
    "df_PriceAscending\n",
    "\n",
    "df_PriceAscending['mean'].plot.barh()"
   ]
  },
  {
   "cell_type": "code",
   "execution_count": 12,
   "id": "92a1d4e4-4bae-411b-aee8-3d41b89c6272",
   "metadata": {
    "tags": []
   },
   "outputs": [
    {
     "data": {
      "text/html": [
       "<div>\n",
       "<style scoped>\n",
       "    .dataframe tbody tr th:only-of-type {\n",
       "        vertical-align: middle;\n",
       "    }\n",
       "\n",
       "    .dataframe tbody tr th {\n",
       "        vertical-align: top;\n",
       "    }\n",
       "\n",
       "    .dataframe thead th {\n",
       "        text-align: right;\n",
       "    }\n",
       "</style>\n",
       "<table border=\"1\" class=\"dataframe\">\n",
       "  <thead>\n",
       "    <tr style=\"text-align: right;\">\n",
       "      <th></th>\n",
       "      <th>mean</th>\n",
       "      <th>count</th>\n",
       "    </tr>\n",
       "    <tr>\n",
       "      <th>neighbourhood</th>\n",
       "      <th></th>\n",
       "      <th></th>\n",
       "    </tr>\n",
       "  </thead>\n",
       "  <tbody>\n",
       "    <tr>\n",
       "      <th>South Beach</th>\n",
       "      <td>45.000000</td>\n",
       "      <td>4</td>\n",
       "    </tr>\n",
       "    <tr>\n",
       "      <th>Bull's Head</th>\n",
       "      <td>49.666667</td>\n",
       "      <td>3</td>\n",
       "    </tr>\n",
       "    <tr>\n",
       "      <th>Port Richmond</th>\n",
       "      <td>51.222222</td>\n",
       "      <td>9</td>\n",
       "    </tr>\n",
       "    <tr>\n",
       "      <th>Soundview</th>\n",
       "      <td>52.055556</td>\n",
       "      <td>18</td>\n",
       "    </tr>\n",
       "    <tr>\n",
       "      <th>New Brighton</th>\n",
       "      <td>52.250000</td>\n",
       "      <td>4</td>\n",
       "    </tr>\n",
       "    <tr>\n",
       "      <th>Bay Terrace, Staten Island</th>\n",
       "      <td>55.000000</td>\n",
       "      <td>1</td>\n",
       "    </tr>\n",
       "    <tr>\n",
       "      <th>Hunts Point</th>\n",
       "      <td>56.583333</td>\n",
       "      <td>24</td>\n",
       "    </tr>\n",
       "    <tr>\n",
       "      <th>University Heights</th>\n",
       "      <td>57.826087</td>\n",
       "      <td>23</td>\n",
       "    </tr>\n",
       "    <tr>\n",
       "      <th>Grant City</th>\n",
       "      <td>58.400000</td>\n",
       "      <td>10</td>\n",
       "    </tr>\n",
       "    <tr>\n",
       "      <th>Olinville</th>\n",
       "      <td>59.428571</td>\n",
       "      <td>7</td>\n",
       "    </tr>\n",
       "  </tbody>\n",
       "</table>\n",
       "</div>"
      ],
      "text/plain": [
       "                                 mean  count\n",
       "neighbourhood                               \n",
       "South Beach                 45.000000      4\n",
       "Bull's Head                 49.666667      3\n",
       "Port Richmond               51.222222      9\n",
       "Soundview                   52.055556     18\n",
       "New Brighton                52.250000      4\n",
       "Bay Terrace, Staten Island  55.000000      1\n",
       "Hunts Point                 56.583333     24\n",
       "University Heights          57.826087     23\n",
       "Grant City                  58.400000     10\n",
       "Olinville                   59.428571      7"
      ]
     },
     "execution_count": 12,
     "metadata": {},
     "output_type": "execute_result"
    }
   ],
   "source": [
    "# we also would like to have the corresponding pivot table of the lowest 10\n",
    "df_PriceAscending.head(10)"
   ]
  },
  {
   "cell_type": "markdown",
   "id": "87ac7c97-b384-42d2-abdb-a26e98b12179",
   "metadata": {},
   "source": [
    "#  Now make all four widgets (the two charts and the two dataframes) in a Tableau dashboard!"
   ]
  },
  {
   "cell_type": "markdown",
   "id": "3b9ecbbc",
   "metadata": {},
   "source": []
  }
 ],
 "metadata": {
  "kernelspec": {
   "display_name": "base",
   "language": "python",
   "name": "python3"
  },
  "language_info": {
   "codemirror_mode": {
    "name": "ipython",
    "version": 3
   },
   "file_extension": ".py",
   "mimetype": "text/x-python",
   "name": "python",
   "nbconvert_exporter": "python",
   "pygments_lexer": "ipython3",
   "version": "3.12.4"
  }
 },
 "nbformat": 4,
 "nbformat_minor": 5
}
